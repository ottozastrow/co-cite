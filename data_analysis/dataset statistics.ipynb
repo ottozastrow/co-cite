{
 "cells": [
  {
   "cell_type": "code",
   "execution_count": 1,
   "id": "64f1e593",
   "metadata": {},
   "outputs": [],
   "source": [
    "import os\n",
    "import matplotlib.pyplot as plt\n"
   ]
  },
  {
   "cell_type": "code",
   "execution_count": 2,
   "id": "ec4ca861",
   "metadata": {},
   "outputs": [
    {
     "name": "stderr",
     "output_type": "stream",
     "text": [
      "100%|██████████| 1000/1000 [00:04<00:00, 210.23it/s]\n"
     ]
    },
    {
     "data": {
      "text/html": [
       "<div>\n",
       "<style scoped>\n",
       "    .dataframe tbody tr th:only-of-type {\n",
       "        vertical-align: middle;\n",
       "    }\n",
       "\n",
       "    .dataframe tbody tr th {\n",
       "        vertical-align: top;\n",
       "    }\n",
       "\n",
       "    .dataframe thead th {\n",
       "        text-align: right;\n",
       "    }\n",
       "</style>\n",
       "<table border=\"1\" class=\"dataframe\">\n",
       "  <thead>\n",
       "    <tr style=\"text-align: right;\">\n",
       "      <th></th>\n",
       "      <th>bva_id</th>\n",
       "      <th>txt</th>\n",
       "      <th>citation_texts</th>\n",
       "      <th>citation_vocab</th>\n",
       "      <th>citation_indices</th>\n",
       "    </tr>\n",
       "  </thead>\n",
       "  <tbody>\n",
       "    <tr>\n",
       "      <th>0</th>\n",
       "      <td>503881</td>\n",
       "      <td>citation nr 0503881 decision date 02 14 05 arc...</td>\n",
       "      <td>[38 C.F.R. § 4.125(a), 38 C.F.R. § 3.304(f), 3...</td>\n",
       "      <td>[[38 C.F.R. §, 38 C.F.R. 4.125, 38 C.F.R.], [3...</td>\n",
       "      <td>[[430], [173], [1072], [651], [374], [791], [3...</td>\n",
       "    </tr>\n",
       "    <tr>\n",
       "      <th>1</th>\n",
       "      <td>1546378</td>\n",
       "      <td>citation nr 1546378 decision date 11 02 15 arc...</td>\n",
       "      <td>[Reonal v. Brown, 5 Vet. App. 458, 461 (1993),...</td>\n",
       "      <td>[[Reonal_5 Vet. App. 458], [38 C.F.R. §, 38 C....</td>\n",
       "      <td>[[579], [54], [273], [3], [4, 5]]</td>\n",
       "    </tr>\n",
       "    <tr>\n",
       "      <th>2</th>\n",
       "      <td>1141205</td>\n",
       "      <td>citation nr 1141205 decision date 11 04 11 arc...</td>\n",
       "      <td>[38 U.S.C.A. §§ 1101, 1110, 1112, 1131, 5107, ...</td>\n",
       "      <td>[[38 U.S.C.A. §§, 38 U.S.C.A. 1101, 38 U.S.C.A...</td>\n",
       "      <td>[[44, 45, 46, 55, 21], [49, 152, 153, 50, 51, ...</td>\n",
       "    </tr>\n",
       "    <tr>\n",
       "      <th>3</th>\n",
       "      <td>23539</td>\n",
       "      <td>citation nr 0023539 decision date 09 05 00 arc...</td>\n",
       "      <td>[38 U.S.C.A. § 7105(a)-(c), 38 C.F.R. §§ 3.104...</td>\n",
       "      <td>[[38 U.S.C.A. §, 38 U.S.C.A. 7105, 38 U.S.C.A....</td>\n",
       "      <td>[[1], [197, 812], [102], [103], [106], [3452],...</td>\n",
       "    </tr>\n",
       "    <tr>\n",
       "      <th>4</th>\n",
       "      <td>1042611</td>\n",
       "      <td>citation nr 1042611 decision date 11 12 10 arc...</td>\n",
       "      <td>[38 C.F.R. § 3.385, 38 U.S.C.A. §§ 1101, 1110,...</td>\n",
       "      <td>[[38 C.F.R. §, 38 C.F.R. 3.385], [38 U.S.C.A. ...</td>\n",
       "      <td>[[469], [44, 45, 46, 47, 18, 19], [22, 12, 49,...</td>\n",
       "    </tr>\n",
       "  </tbody>\n",
       "</table>\n",
       "</div>"
      ],
      "text/plain": [
       "    bva_id                                                txt  \\\n",
       "0   503881  citation nr 0503881 decision date 02 14 05 arc...   \n",
       "1  1546378  citation nr 1546378 decision date 11 02 15 arc...   \n",
       "2  1141205  citation nr 1141205 decision date 11 04 11 arc...   \n",
       "3    23539  citation nr 0023539 decision date 09 05 00 arc...   \n",
       "4  1042611  citation nr 1042611 decision date 11 12 10 arc...   \n",
       "\n",
       "                                      citation_texts  \\\n",
       "0  [38 C.F.R. § 4.125(a), 38 C.F.R. § 3.304(f), 3...   \n",
       "1  [Reonal v. Brown, 5 Vet. App. 458, 461 (1993),...   \n",
       "2  [38 U.S.C.A. §§ 1101, 1110, 1112, 1131, 5107, ...   \n",
       "3  [38 U.S.C.A. § 7105(a)-(c), 38 C.F.R. §§ 3.104...   \n",
       "4  [38 C.F.R. § 3.385, 38 U.S.C.A. §§ 1101, 1110,...   \n",
       "\n",
       "                                      citation_vocab  \\\n",
       "0  [[38 C.F.R. §, 38 C.F.R. 4.125, 38 C.F.R.], [3...   \n",
       "1  [[Reonal_5 Vet. App. 458], [38 C.F.R. §, 38 C....   \n",
       "2  [[38 U.S.C.A. §§, 38 U.S.C.A. 1101, 38 U.S.C.A...   \n",
       "3  [[38 U.S.C.A. §, 38 U.S.C.A. 7105, 38 U.S.C.A....   \n",
       "4  [[38 C.F.R. §, 38 C.F.R. 3.385], [38 U.S.C.A. ...   \n",
       "\n",
       "                                    citation_indices  \n",
       "0  [[430], [173], [1072], [651], [374], [791], [3...  \n",
       "1                  [[579], [54], [273], [3], [4, 5]]  \n",
       "2  [[44, 45, 46, 55, 21], [49, 152, 153, 50, 51, ...  \n",
       "3  [[1], [197, 812], [102], [103], [106], [3452],...  \n",
       "4  [[469], [44, 45, 46, 47, 18, 19], [22, 12, 49,...  "
      ]
     },
     "execution_count": 2,
     "metadata": {},
     "output_type": "execute_result"
    }
   ],
   "source": [
    "import os\n",
    "import json\n",
    "import pandas as pd\n",
    "import tqdm\n",
    "\n",
    "# read file\n",
    "data_dir = \"../../external_projects/bva-citation-prediction/data/preprocessed-cached/preprocessed-cached-v4-mini/\"\n",
    "# get list of filepaths in data_dir\n",
    "filepaths = [os.path.join(data_dir, f) for f in os.listdir(data_dir) if f.endswith('.json')]\n",
    "\n",
    "dfs = [] # an empty list to store the data frames\n",
    "for file in tqdm.tqdm(filepaths):\n",
    "    data = pd.read_json(file, lines=True) # read data frame from json file\n",
    "    dfs.append(data) # append the data frame to the list\n",
    "\n",
    "df = pd.concat(dfs, ignore_index=True)\n",
    "df.head()\n"
   ]
  },
  {
   "cell_type": "code",
   "execution_count": 73,
   "id": "1d01aa01",
   "metadata": {},
   "outputs": [],
   "source": [
    "# return all occurences of str in string\n",
    "def find_all(a_str, sub):\n",
    "    start = 0\n",
    "    while True:\n",
    "        start = a_str.find(sub, start)\n",
    "        if start == -1: return\n",
    "        yield start\n",
    "        start += len(sub) # use start += 1 to find overlapping matches\n",
    "\n",
    "df['num_citations'] = df['citation_vocab'].apply(lambda x: len(x))"
   ]
  },
  {
   "cell_type": "markdown",
   "id": "d14e078f",
   "metadata": {},
   "source": [
    "## stats on number of citations"
   ]
  },
  {
   "cell_type": "code",
   "execution_count": 74,
   "id": "82548388",
   "metadata": {},
   "outputs": [],
   "source": [
    "figures = [] # add all plotly figures here"
   ]
  },
  {
   "cell_type": "code",
   "execution_count": null,
   "metadata": {},
   "outputs": [],
   "source": []
  },
  {
   "cell_type": "code",
   "execution_count": 90,
   "id": "309c36ad",
   "metadata": {},
   "outputs": [
    {
     "data": {
      "application/vnd.plotly.v1+json": {
       "config": {
        "plotlyServerURL": "https://plot.ly"
       },
       "data": [
        {
         "alignmentgroup": "True",
         "bingroup": "x",
         "hovertemplate": "num_citations=%{x}<br>count=%{y}<extra></extra>",
         "legendgroup": "",
         "marker": {
          "color": "#636efa",
          "pattern": {
           "shape": ""
          }
         },
         "name": "",
         "nbinsx": 50,
         "offsetgroup": "",
         "orientation": "v",
         "showlegend": false,
         "type": "histogram",
         "x": [
          10,
          5,
          29,
          37,
          44,
          6,
          23,
          9,
          10,
          19,
          14,
          4,
          21,
          29,
          21,
          16,
          36,
          23,
          19,
          54,
          9,
          49,
          10,
          12,
          59,
          43,
          36,
          16,
          17,
          54,
          10,
          17,
          53,
          22,
          31,
          18,
          4,
          17,
          4,
          21,
          49,
          4,
          12,
          9,
          71,
          4,
          36,
          23,
          6,
          32,
          20,
          17,
          39,
          44,
          16,
          30,
          27,
          41,
          20,
          35,
          10,
          4,
          6,
          6,
          10,
          19,
          13,
          14,
          30,
          7,
          6,
          51,
          14,
          5,
          24,
          11,
          6,
          7,
          15,
          35,
          29,
          11,
          18,
          8,
          7,
          9,
          20,
          73,
          25,
          10,
          12,
          11,
          108,
          42,
          33,
          15,
          5,
          21,
          25,
          49,
          9,
          9,
          3,
          44,
          20,
          9,
          23,
          40,
          16,
          38,
          8,
          32,
          11,
          8,
          17,
          9,
          10,
          9,
          5,
          9,
          35,
          37,
          10,
          7,
          13,
          30,
          31,
          50,
          20,
          8,
          2,
          43,
          18,
          13,
          13,
          7,
          35,
          15,
          19,
          6,
          14,
          15,
          13,
          23,
          9,
          14,
          40,
          10,
          32,
          21,
          9,
          50,
          5,
          7,
          21,
          34,
          25,
          13,
          7,
          55,
          35,
          13,
          12,
          22,
          11,
          70,
          22,
          40,
          23,
          18,
          6,
          4,
          29,
          5,
          30,
          32,
          22,
          33,
          36,
          4,
          13,
          6,
          13,
          15,
          28,
          7,
          8,
          6,
          66,
          5,
          12,
          23,
          18,
          47,
          42,
          5,
          30,
          15,
          15,
          4,
          30,
          61,
          14,
          22,
          12,
          30,
          9,
          51,
          5,
          30,
          29,
          26,
          17,
          12,
          22,
          7,
          9,
          44,
          15,
          7,
          10,
          11,
          8,
          37,
          9,
          12,
          14,
          16,
          8,
          8,
          16,
          9,
          34,
          7,
          28,
          24,
          44,
          4,
          38,
          32,
          11,
          62,
          5,
          17,
          66,
          17,
          32,
          20,
          42,
          27,
          16,
          58,
          55,
          33,
          9,
          25,
          28,
          6,
          9,
          8,
          12,
          19,
          15,
          17,
          15,
          34,
          10,
          62,
          12,
          8,
          18,
          48,
          13,
          11,
          48,
          14,
          17,
          14,
          20,
          14,
          9,
          13,
          16,
          8,
          17,
          5,
          7,
          27,
          66,
          7,
          12,
          17,
          32,
          39,
          7,
          19,
          32,
          28,
          22,
          7,
          13,
          9,
          25,
          4,
          8,
          18,
          22,
          8,
          22,
          26,
          23,
          4,
          22,
          44,
          4,
          55,
          63,
          32,
          21,
          20,
          14,
          9,
          5,
          49,
          11,
          8,
          6,
          9,
          5,
          30,
          9,
          30,
          21,
          10,
          42,
          72,
          28,
          19,
          10,
          29,
          11,
          16,
          12,
          5,
          21,
          6,
          10,
          12,
          12,
          10,
          8,
          9,
          12,
          21,
          23,
          12,
          39,
          32,
          10,
          5,
          9,
          9,
          6,
          11,
          21,
          42,
          22,
          30,
          46,
          35,
          5,
          27,
          27,
          30,
          7,
          31,
          69,
          9,
          37,
          43,
          18,
          13,
          4,
          21,
          13,
          15,
          6,
          12,
          29,
          34,
          17,
          22,
          22,
          4,
          28,
          26,
          27,
          8,
          29,
          9,
          17,
          45,
          7,
          15,
          46,
          4,
          17,
          18,
          23,
          53,
          11,
          23,
          17,
          40,
          34,
          10,
          12,
          13,
          18,
          37,
          9,
          10,
          11,
          17,
          28,
          22,
          52,
          31,
          22,
          29,
          19,
          10,
          17,
          32,
          17,
          2,
          50,
          56,
          11,
          11,
          8,
          52,
          35,
          10,
          32,
          14,
          12,
          54,
          13,
          20,
          16,
          12,
          12,
          13,
          32,
          20,
          44,
          6,
          53,
          31,
          8,
          33,
          36,
          46,
          11,
          22,
          30,
          13,
          36,
          6,
          39,
          45,
          31,
          10,
          16,
          35,
          26,
          23,
          12,
          35,
          16,
          7,
          16,
          47,
          26,
          32,
          4,
          11,
          15,
          8,
          4,
          4,
          11,
          12,
          43,
          53,
          15,
          8,
          12,
          41,
          26,
          19,
          24,
          17,
          19,
          39,
          41,
          58,
          10,
          8,
          24,
          33,
          10,
          15,
          27,
          53,
          42,
          12,
          17,
          26,
          5,
          5,
          45,
          18,
          45,
          14,
          13,
          8,
          10,
          8,
          36,
          8,
          18,
          29,
          23,
          6,
          45,
          20,
          34,
          14,
          8,
          8,
          23,
          15,
          7,
          53,
          17,
          8,
          4,
          16,
          27,
          26,
          12,
          6,
          5,
          5,
          19,
          14,
          34,
          32,
          17,
          55,
          10,
          8,
          24,
          31,
          5,
          12,
          60,
          9,
          6,
          7,
          12,
          88,
          30,
          58,
          35,
          5,
          11,
          19,
          35,
          16,
          14,
          10,
          4,
          46,
          6,
          4,
          18,
          4,
          8,
          17,
          6,
          62,
          12,
          20,
          6,
          32,
          5,
          63,
          19,
          27,
          18,
          25,
          24,
          5,
          26,
          20,
          25,
          33,
          14,
          9,
          42,
          10,
          18,
          25,
          31,
          13,
          47,
          6,
          6,
          13,
          9,
          11,
          5,
          10,
          36,
          34,
          13,
          21,
          20,
          7,
          57,
          17,
          25,
          42,
          53,
          20,
          37,
          12,
          17,
          20,
          10,
          8,
          10,
          18,
          10,
          42,
          3,
          32,
          8,
          11,
          7,
          25,
          9,
          53,
          8,
          7,
          14,
          21,
          33,
          25,
          43,
          5,
          30,
          29,
          13,
          12,
          26,
          25,
          9,
          17,
          7,
          56,
          60,
          40,
          42,
          8,
          8,
          41,
          5,
          25,
          14,
          17,
          9,
          8,
          12,
          52,
          39,
          17,
          53,
          13,
          11,
          26,
          7,
          53,
          8,
          23,
          13,
          13,
          5,
          28,
          14,
          26,
          8,
          13,
          5,
          5,
          22,
          32,
          14,
          6,
          20,
          4,
          21,
          9,
          4,
          53,
          23,
          17,
          9,
          25,
          27,
          59,
          11,
          7,
          44,
          9,
          4,
          20,
          8,
          61,
          43,
          50,
          36,
          39,
          25,
          15,
          70,
          35,
          5,
          28,
          5,
          4,
          27,
          10,
          21,
          35,
          17,
          16,
          18,
          56,
          47,
          40,
          82,
          21,
          10,
          31,
          35,
          25,
          74,
          7,
          34,
          30,
          45,
          11,
          16,
          17,
          17,
          29,
          5,
          13,
          13,
          4,
          10,
          27,
          58,
          12,
          16,
          12,
          8,
          18,
          6,
          46,
          19,
          29,
          46,
          20,
          36,
          4,
          37,
          51,
          5,
          36,
          65,
          37,
          12,
          44,
          15,
          6,
          15,
          15,
          40,
          25,
          7,
          45,
          9,
          43,
          14,
          11,
          9,
          10,
          13,
          47,
          18,
          18,
          10,
          8,
          38,
          16,
          12,
          40,
          25,
          5,
          7,
          36,
          49,
          23,
          25,
          24,
          13,
          29,
          17,
          12,
          11,
          11,
          20,
          20,
          49,
          5,
          12,
          49,
          8,
          4,
          19,
          43,
          9,
          17,
          22,
          22,
          33,
          63,
          7,
          4,
          64,
          29,
          5,
          20,
          46,
          31,
          44,
          8,
          25,
          4,
          29,
          4,
          6,
          14,
          14,
          56,
          9,
          23,
          5,
          8,
          25,
          7,
          28,
          9,
          42,
          7,
          6,
          13,
          49,
          6,
          10,
          6,
          26,
          9,
          17,
          20,
          31,
          26,
          14,
          7,
          8,
          10,
          6,
          23,
          11,
          41,
          25,
          2,
          4,
          8,
          7,
          16,
          11,
          5,
          33,
          5,
          14,
          21,
          17,
          4,
          9,
          22,
          47,
          25,
          16,
          7,
          30,
          29,
          42,
          12,
          4,
          33,
          5,
          7,
          1,
          13,
          12,
          26,
          21,
          19,
          31,
          5,
          19,
          5,
          10,
          41,
          15,
          32,
          19,
          5,
          11,
          42,
          5,
          3,
          12,
          6,
          8,
          9,
          36,
          9,
          34,
          7,
          8,
          37,
          43,
          7,
          7,
          60,
          29,
          15,
          10,
          20,
          15,
          25,
          56,
          45,
          21,
          11,
          7,
          5,
          12,
          4,
          15,
          12,
          17,
          17,
          9,
          14,
          13,
          6,
          26,
          34,
          40,
          6,
          9,
          57,
          6,
          11,
          65,
          6,
          12,
          50,
          9,
          5,
          9,
          8
         ],
         "xaxis": "x",
         "yaxis": "y"
        }
       ],
       "layout": {
        "barmode": "relative",
        "legend": {
         "tracegroupgap": 0
        },
        "margin": {
         "t": 60
        },
        "template": {
         "data": {
          "bar": [
           {
            "error_x": {
             "color": "#2a3f5f"
            },
            "error_y": {
             "color": "#2a3f5f"
            },
            "marker": {
             "line": {
              "color": "#E5ECF6",
              "width": 0.5
             },
             "pattern": {
              "fillmode": "overlay",
              "size": 10,
              "solidity": 0.2
             }
            },
            "type": "bar"
           }
          ],
          "barpolar": [
           {
            "marker": {
             "line": {
              "color": "#E5ECF6",
              "width": 0.5
             },
             "pattern": {
              "fillmode": "overlay",
              "size": 10,
              "solidity": 0.2
             }
            },
            "type": "barpolar"
           }
          ],
          "carpet": [
           {
            "aaxis": {
             "endlinecolor": "#2a3f5f",
             "gridcolor": "white",
             "linecolor": "white",
             "minorgridcolor": "white",
             "startlinecolor": "#2a3f5f"
            },
            "baxis": {
             "endlinecolor": "#2a3f5f",
             "gridcolor": "white",
             "linecolor": "white",
             "minorgridcolor": "white",
             "startlinecolor": "#2a3f5f"
            },
            "type": "carpet"
           }
          ],
          "choropleth": [
           {
            "colorbar": {
             "outlinewidth": 0,
             "ticks": ""
            },
            "type": "choropleth"
           }
          ],
          "contour": [
           {
            "colorbar": {
             "outlinewidth": 0,
             "ticks": ""
            },
            "colorscale": [
             [
              0,
              "#0d0887"
             ],
             [
              0.1111111111111111,
              "#46039f"
             ],
             [
              0.2222222222222222,
              "#7201a8"
             ],
             [
              0.3333333333333333,
              "#9c179e"
             ],
             [
              0.4444444444444444,
              "#bd3786"
             ],
             [
              0.5555555555555556,
              "#d8576b"
             ],
             [
              0.6666666666666666,
              "#ed7953"
             ],
             [
              0.7777777777777778,
              "#fb9f3a"
             ],
             [
              0.8888888888888888,
              "#fdca26"
             ],
             [
              1,
              "#f0f921"
             ]
            ],
            "type": "contour"
           }
          ],
          "contourcarpet": [
           {
            "colorbar": {
             "outlinewidth": 0,
             "ticks": ""
            },
            "type": "contourcarpet"
           }
          ],
          "heatmap": [
           {
            "colorbar": {
             "outlinewidth": 0,
             "ticks": ""
            },
            "colorscale": [
             [
              0,
              "#0d0887"
             ],
             [
              0.1111111111111111,
              "#46039f"
             ],
             [
              0.2222222222222222,
              "#7201a8"
             ],
             [
              0.3333333333333333,
              "#9c179e"
             ],
             [
              0.4444444444444444,
              "#bd3786"
             ],
             [
              0.5555555555555556,
              "#d8576b"
             ],
             [
              0.6666666666666666,
              "#ed7953"
             ],
             [
              0.7777777777777778,
              "#fb9f3a"
             ],
             [
              0.8888888888888888,
              "#fdca26"
             ],
             [
              1,
              "#f0f921"
             ]
            ],
            "type": "heatmap"
           }
          ],
          "heatmapgl": [
           {
            "colorbar": {
             "outlinewidth": 0,
             "ticks": ""
            },
            "colorscale": [
             [
              0,
              "#0d0887"
             ],
             [
              0.1111111111111111,
              "#46039f"
             ],
             [
              0.2222222222222222,
              "#7201a8"
             ],
             [
              0.3333333333333333,
              "#9c179e"
             ],
             [
              0.4444444444444444,
              "#bd3786"
             ],
             [
              0.5555555555555556,
              "#d8576b"
             ],
             [
              0.6666666666666666,
              "#ed7953"
             ],
             [
              0.7777777777777778,
              "#fb9f3a"
             ],
             [
              0.8888888888888888,
              "#fdca26"
             ],
             [
              1,
              "#f0f921"
             ]
            ],
            "type": "heatmapgl"
           }
          ],
          "histogram": [
           {
            "marker": {
             "pattern": {
              "fillmode": "overlay",
              "size": 10,
              "solidity": 0.2
             }
            },
            "type": "histogram"
           }
          ],
          "histogram2d": [
           {
            "colorbar": {
             "outlinewidth": 0,
             "ticks": ""
            },
            "colorscale": [
             [
              0,
              "#0d0887"
             ],
             [
              0.1111111111111111,
              "#46039f"
             ],
             [
              0.2222222222222222,
              "#7201a8"
             ],
             [
              0.3333333333333333,
              "#9c179e"
             ],
             [
              0.4444444444444444,
              "#bd3786"
             ],
             [
              0.5555555555555556,
              "#d8576b"
             ],
             [
              0.6666666666666666,
              "#ed7953"
             ],
             [
              0.7777777777777778,
              "#fb9f3a"
             ],
             [
              0.8888888888888888,
              "#fdca26"
             ],
             [
              1,
              "#f0f921"
             ]
            ],
            "type": "histogram2d"
           }
          ],
          "histogram2dcontour": [
           {
            "colorbar": {
             "outlinewidth": 0,
             "ticks": ""
            },
            "colorscale": [
             [
              0,
              "#0d0887"
             ],
             [
              0.1111111111111111,
              "#46039f"
             ],
             [
              0.2222222222222222,
              "#7201a8"
             ],
             [
              0.3333333333333333,
              "#9c179e"
             ],
             [
              0.4444444444444444,
              "#bd3786"
             ],
             [
              0.5555555555555556,
              "#d8576b"
             ],
             [
              0.6666666666666666,
              "#ed7953"
             ],
             [
              0.7777777777777778,
              "#fb9f3a"
             ],
             [
              0.8888888888888888,
              "#fdca26"
             ],
             [
              1,
              "#f0f921"
             ]
            ],
            "type": "histogram2dcontour"
           }
          ],
          "mesh3d": [
           {
            "colorbar": {
             "outlinewidth": 0,
             "ticks": ""
            },
            "type": "mesh3d"
           }
          ],
          "parcoords": [
           {
            "line": {
             "colorbar": {
              "outlinewidth": 0,
              "ticks": ""
             }
            },
            "type": "parcoords"
           }
          ],
          "pie": [
           {
            "automargin": true,
            "type": "pie"
           }
          ],
          "scatter": [
           {
            "fillpattern": {
             "fillmode": "overlay",
             "size": 10,
             "solidity": 0.2
            },
            "type": "scatter"
           }
          ],
          "scatter3d": [
           {
            "line": {
             "colorbar": {
              "outlinewidth": 0,
              "ticks": ""
             }
            },
            "marker": {
             "colorbar": {
              "outlinewidth": 0,
              "ticks": ""
             }
            },
            "type": "scatter3d"
           }
          ],
          "scattercarpet": [
           {
            "marker": {
             "colorbar": {
              "outlinewidth": 0,
              "ticks": ""
             }
            },
            "type": "scattercarpet"
           }
          ],
          "scattergeo": [
           {
            "marker": {
             "colorbar": {
              "outlinewidth": 0,
              "ticks": ""
             }
            },
            "type": "scattergeo"
           }
          ],
          "scattergl": [
           {
            "marker": {
             "colorbar": {
              "outlinewidth": 0,
              "ticks": ""
             }
            },
            "type": "scattergl"
           }
          ],
          "scattermapbox": [
           {
            "marker": {
             "colorbar": {
              "outlinewidth": 0,
              "ticks": ""
             }
            },
            "type": "scattermapbox"
           }
          ],
          "scatterpolar": [
           {
            "marker": {
             "colorbar": {
              "outlinewidth": 0,
              "ticks": ""
             }
            },
            "type": "scatterpolar"
           }
          ],
          "scatterpolargl": [
           {
            "marker": {
             "colorbar": {
              "outlinewidth": 0,
              "ticks": ""
             }
            },
            "type": "scatterpolargl"
           }
          ],
          "scatterternary": [
           {
            "marker": {
             "colorbar": {
              "outlinewidth": 0,
              "ticks": ""
             }
            },
            "type": "scatterternary"
           }
          ],
          "surface": [
           {
            "colorbar": {
             "outlinewidth": 0,
             "ticks": ""
            },
            "colorscale": [
             [
              0,
              "#0d0887"
             ],
             [
              0.1111111111111111,
              "#46039f"
             ],
             [
              0.2222222222222222,
              "#7201a8"
             ],
             [
              0.3333333333333333,
              "#9c179e"
             ],
             [
              0.4444444444444444,
              "#bd3786"
             ],
             [
              0.5555555555555556,
              "#d8576b"
             ],
             [
              0.6666666666666666,
              "#ed7953"
             ],
             [
              0.7777777777777778,
              "#fb9f3a"
             ],
             [
              0.8888888888888888,
              "#fdca26"
             ],
             [
              1,
              "#f0f921"
             ]
            ],
            "type": "surface"
           }
          ],
          "table": [
           {
            "cells": {
             "fill": {
              "color": "#EBF0F8"
             },
             "line": {
              "color": "white"
             }
            },
            "header": {
             "fill": {
              "color": "#C8D4E3"
             },
             "line": {
              "color": "white"
             }
            },
            "type": "table"
           }
          ]
         },
         "layout": {
          "annotationdefaults": {
           "arrowcolor": "#2a3f5f",
           "arrowhead": 0,
           "arrowwidth": 1
          },
          "autotypenumbers": "strict",
          "coloraxis": {
           "colorbar": {
            "outlinewidth": 0,
            "ticks": ""
           }
          },
          "colorscale": {
           "diverging": [
            [
             0,
             "#8e0152"
            ],
            [
             0.1,
             "#c51b7d"
            ],
            [
             0.2,
             "#de77ae"
            ],
            [
             0.3,
             "#f1b6da"
            ],
            [
             0.4,
             "#fde0ef"
            ],
            [
             0.5,
             "#f7f7f7"
            ],
            [
             0.6,
             "#e6f5d0"
            ],
            [
             0.7,
             "#b8e186"
            ],
            [
             0.8,
             "#7fbc41"
            ],
            [
             0.9,
             "#4d9221"
            ],
            [
             1,
             "#276419"
            ]
           ],
           "sequential": [
            [
             0,
             "#0d0887"
            ],
            [
             0.1111111111111111,
             "#46039f"
            ],
            [
             0.2222222222222222,
             "#7201a8"
            ],
            [
             0.3333333333333333,
             "#9c179e"
            ],
            [
             0.4444444444444444,
             "#bd3786"
            ],
            [
             0.5555555555555556,
             "#d8576b"
            ],
            [
             0.6666666666666666,
             "#ed7953"
            ],
            [
             0.7777777777777778,
             "#fb9f3a"
            ],
            [
             0.8888888888888888,
             "#fdca26"
            ],
            [
             1,
             "#f0f921"
            ]
           ],
           "sequentialminus": [
            [
             0,
             "#0d0887"
            ],
            [
             0.1111111111111111,
             "#46039f"
            ],
            [
             0.2222222222222222,
             "#7201a8"
            ],
            [
             0.3333333333333333,
             "#9c179e"
            ],
            [
             0.4444444444444444,
             "#bd3786"
            ],
            [
             0.5555555555555556,
             "#d8576b"
            ],
            [
             0.6666666666666666,
             "#ed7953"
            ],
            [
             0.7777777777777778,
             "#fb9f3a"
            ],
            [
             0.8888888888888888,
             "#fdca26"
            ],
            [
             1,
             "#f0f921"
            ]
           ]
          },
          "colorway": [
           "#636efa",
           "#EF553B",
           "#00cc96",
           "#ab63fa",
           "#FFA15A",
           "#19d3f3",
           "#FF6692",
           "#B6E880",
           "#FF97FF",
           "#FECB52"
          ],
          "font": {
           "color": "#2a3f5f"
          },
          "geo": {
           "bgcolor": "white",
           "lakecolor": "white",
           "landcolor": "#E5ECF6",
           "showlakes": true,
           "showland": true,
           "subunitcolor": "white"
          },
          "hoverlabel": {
           "align": "left"
          },
          "hovermode": "closest",
          "mapbox": {
           "style": "light"
          },
          "paper_bgcolor": "white",
          "plot_bgcolor": "#E5ECF6",
          "polar": {
           "angularaxis": {
            "gridcolor": "white",
            "linecolor": "white",
            "ticks": ""
           },
           "bgcolor": "#E5ECF6",
           "radialaxis": {
            "gridcolor": "white",
            "linecolor": "white",
            "ticks": ""
           }
          },
          "scene": {
           "xaxis": {
            "backgroundcolor": "#E5ECF6",
            "gridcolor": "white",
            "gridwidth": 2,
            "linecolor": "white",
            "showbackground": true,
            "ticks": "",
            "zerolinecolor": "white"
           },
           "yaxis": {
            "backgroundcolor": "#E5ECF6",
            "gridcolor": "white",
            "gridwidth": 2,
            "linecolor": "white",
            "showbackground": true,
            "ticks": "",
            "zerolinecolor": "white"
           },
           "zaxis": {
            "backgroundcolor": "#E5ECF6",
            "gridcolor": "white",
            "gridwidth": 2,
            "linecolor": "white",
            "showbackground": true,
            "ticks": "",
            "zerolinecolor": "white"
           }
          },
          "shapedefaults": {
           "line": {
            "color": "#2a3f5f"
           }
          },
          "ternary": {
           "aaxis": {
            "gridcolor": "white",
            "linecolor": "white",
            "ticks": ""
           },
           "baxis": {
            "gridcolor": "white",
            "linecolor": "white",
            "ticks": ""
           },
           "bgcolor": "#E5ECF6",
           "caxis": {
            "gridcolor": "white",
            "linecolor": "white",
            "ticks": ""
           }
          },
          "title": {
           "x": 0.05
          },
          "xaxis": {
           "automargin": true,
           "gridcolor": "white",
           "linecolor": "white",
           "ticks": "",
           "title": {
            "standoff": 15
           },
           "zerolinecolor": "white",
           "zerolinewidth": 2
          },
          "yaxis": {
           "automargin": true,
           "gridcolor": "white",
           "linecolor": "white",
           "ticks": "",
           "title": {
            "standoff": 15
           },
           "zerolinecolor": "white",
           "zerolinewidth": 2
          }
         }
        },
        "title": {
         "text": "Number of citations per paper"
        },
        "xaxis": {
         "anchor": "y",
         "domain": [
          0,
          1
         ],
         "title": {
          "text": "num_citations"
         }
        },
        "yaxis": {
         "anchor": "x",
         "domain": [
          0,
          1
         ],
         "title": {
          "text": "count"
         }
        }
       }
      }
     },
     "metadata": {},
     "output_type": "display_data"
    }
   ],
   "source": [
    "import plotly.express as px\n",
    "fig = px.histogram(df, x=\"num_citations\", nbins=50)\n",
    "# title\n",
    "fig.update_layout(title_text=\"Number of citations per paper\")\n",
    "fig.show()\n",
    "figures.append(fig)"
   ]
  },
  {
   "cell_type": "code",
   "execution_count": 76,
   "id": "3e39f66b",
   "metadata": {},
   "outputs": [
    {
     "data": {
      "application/vnd.plotly.v1+json": {
       "config": {
        "plotlyServerURL": "https://plot.ly"
       },
       "data": [
        {
         "hovertemplate": "percentile=%{x}<br>avg Number of citations=%{y}<extra></extra>",
         "legendgroup": "",
         "marker": {
          "color": "#636efa",
          "symbol": "circle"
         },
         "mode": "markers",
         "name": "",
         "orientation": "v",
         "showlegend": false,
         "type": "scatter",
         "x": [
          0,
          0.1,
          0.2,
          0.3,
          0.4,
          0.5,
          0.6,
          0.7,
          0.8,
          0.9
         ],
         "xaxis": "x",
         "y": [
          1,
          6,
          8,
          10,
          13,
          17,
          21,
          27,
          34,
          44.10000000000002
         ],
         "yaxis": "y"
        }
       ],
       "layout": {
        "legend": {
         "tracegroupgap": 0
        },
        "margin": {
         "t": 60
        },
        "template": {
         "data": {
          "bar": [
           {
            "error_x": {
             "color": "#2a3f5f"
            },
            "error_y": {
             "color": "#2a3f5f"
            },
            "marker": {
             "line": {
              "color": "#E5ECF6",
              "width": 0.5
             },
             "pattern": {
              "fillmode": "overlay",
              "size": 10,
              "solidity": 0.2
             }
            },
            "type": "bar"
           }
          ],
          "barpolar": [
           {
            "marker": {
             "line": {
              "color": "#E5ECF6",
              "width": 0.5
             },
             "pattern": {
              "fillmode": "overlay",
              "size": 10,
              "solidity": 0.2
             }
            },
            "type": "barpolar"
           }
          ],
          "carpet": [
           {
            "aaxis": {
             "endlinecolor": "#2a3f5f",
             "gridcolor": "white",
             "linecolor": "white",
             "minorgridcolor": "white",
             "startlinecolor": "#2a3f5f"
            },
            "baxis": {
             "endlinecolor": "#2a3f5f",
             "gridcolor": "white",
             "linecolor": "white",
             "minorgridcolor": "white",
             "startlinecolor": "#2a3f5f"
            },
            "type": "carpet"
           }
          ],
          "choropleth": [
           {
            "colorbar": {
             "outlinewidth": 0,
             "ticks": ""
            },
            "type": "choropleth"
           }
          ],
          "contour": [
           {
            "colorbar": {
             "outlinewidth": 0,
             "ticks": ""
            },
            "colorscale": [
             [
              0,
              "#0d0887"
             ],
             [
              0.1111111111111111,
              "#46039f"
             ],
             [
              0.2222222222222222,
              "#7201a8"
             ],
             [
              0.3333333333333333,
              "#9c179e"
             ],
             [
              0.4444444444444444,
              "#bd3786"
             ],
             [
              0.5555555555555556,
              "#d8576b"
             ],
             [
              0.6666666666666666,
              "#ed7953"
             ],
             [
              0.7777777777777778,
              "#fb9f3a"
             ],
             [
              0.8888888888888888,
              "#fdca26"
             ],
             [
              1,
              "#f0f921"
             ]
            ],
            "type": "contour"
           }
          ],
          "contourcarpet": [
           {
            "colorbar": {
             "outlinewidth": 0,
             "ticks": ""
            },
            "type": "contourcarpet"
           }
          ],
          "heatmap": [
           {
            "colorbar": {
             "outlinewidth": 0,
             "ticks": ""
            },
            "colorscale": [
             [
              0,
              "#0d0887"
             ],
             [
              0.1111111111111111,
              "#46039f"
             ],
             [
              0.2222222222222222,
              "#7201a8"
             ],
             [
              0.3333333333333333,
              "#9c179e"
             ],
             [
              0.4444444444444444,
              "#bd3786"
             ],
             [
              0.5555555555555556,
              "#d8576b"
             ],
             [
              0.6666666666666666,
              "#ed7953"
             ],
             [
              0.7777777777777778,
              "#fb9f3a"
             ],
             [
              0.8888888888888888,
              "#fdca26"
             ],
             [
              1,
              "#f0f921"
             ]
            ],
            "type": "heatmap"
           }
          ],
          "heatmapgl": [
           {
            "colorbar": {
             "outlinewidth": 0,
             "ticks": ""
            },
            "colorscale": [
             [
              0,
              "#0d0887"
             ],
             [
              0.1111111111111111,
              "#46039f"
             ],
             [
              0.2222222222222222,
              "#7201a8"
             ],
             [
              0.3333333333333333,
              "#9c179e"
             ],
             [
              0.4444444444444444,
              "#bd3786"
             ],
             [
              0.5555555555555556,
              "#d8576b"
             ],
             [
              0.6666666666666666,
              "#ed7953"
             ],
             [
              0.7777777777777778,
              "#fb9f3a"
             ],
             [
              0.8888888888888888,
              "#fdca26"
             ],
             [
              1,
              "#f0f921"
             ]
            ],
            "type": "heatmapgl"
           }
          ],
          "histogram": [
           {
            "marker": {
             "pattern": {
              "fillmode": "overlay",
              "size": 10,
              "solidity": 0.2
             }
            },
            "type": "histogram"
           }
          ],
          "histogram2d": [
           {
            "colorbar": {
             "outlinewidth": 0,
             "ticks": ""
            },
            "colorscale": [
             [
              0,
              "#0d0887"
             ],
             [
              0.1111111111111111,
              "#46039f"
             ],
             [
              0.2222222222222222,
              "#7201a8"
             ],
             [
              0.3333333333333333,
              "#9c179e"
             ],
             [
              0.4444444444444444,
              "#bd3786"
             ],
             [
              0.5555555555555556,
              "#d8576b"
             ],
             [
              0.6666666666666666,
              "#ed7953"
             ],
             [
              0.7777777777777778,
              "#fb9f3a"
             ],
             [
              0.8888888888888888,
              "#fdca26"
             ],
             [
              1,
              "#f0f921"
             ]
            ],
            "type": "histogram2d"
           }
          ],
          "histogram2dcontour": [
           {
            "colorbar": {
             "outlinewidth": 0,
             "ticks": ""
            },
            "colorscale": [
             [
              0,
              "#0d0887"
             ],
             [
              0.1111111111111111,
              "#46039f"
             ],
             [
              0.2222222222222222,
              "#7201a8"
             ],
             [
              0.3333333333333333,
              "#9c179e"
             ],
             [
              0.4444444444444444,
              "#bd3786"
             ],
             [
              0.5555555555555556,
              "#d8576b"
             ],
             [
              0.6666666666666666,
              "#ed7953"
             ],
             [
              0.7777777777777778,
              "#fb9f3a"
             ],
             [
              0.8888888888888888,
              "#fdca26"
             ],
             [
              1,
              "#f0f921"
             ]
            ],
            "type": "histogram2dcontour"
           }
          ],
          "mesh3d": [
           {
            "colorbar": {
             "outlinewidth": 0,
             "ticks": ""
            },
            "type": "mesh3d"
           }
          ],
          "parcoords": [
           {
            "line": {
             "colorbar": {
              "outlinewidth": 0,
              "ticks": ""
             }
            },
            "type": "parcoords"
           }
          ],
          "pie": [
           {
            "automargin": true,
            "type": "pie"
           }
          ],
          "scatter": [
           {
            "fillpattern": {
             "fillmode": "overlay",
             "size": 10,
             "solidity": 0.2
            },
            "type": "scatter"
           }
          ],
          "scatter3d": [
           {
            "line": {
             "colorbar": {
              "outlinewidth": 0,
              "ticks": ""
             }
            },
            "marker": {
             "colorbar": {
              "outlinewidth": 0,
              "ticks": ""
             }
            },
            "type": "scatter3d"
           }
          ],
          "scattercarpet": [
           {
            "marker": {
             "colorbar": {
              "outlinewidth": 0,
              "ticks": ""
             }
            },
            "type": "scattercarpet"
           }
          ],
          "scattergeo": [
           {
            "marker": {
             "colorbar": {
              "outlinewidth": 0,
              "ticks": ""
             }
            },
            "type": "scattergeo"
           }
          ],
          "scattergl": [
           {
            "marker": {
             "colorbar": {
              "outlinewidth": 0,
              "ticks": ""
             }
            },
            "type": "scattergl"
           }
          ],
          "scattermapbox": [
           {
            "marker": {
             "colorbar": {
              "outlinewidth": 0,
              "ticks": ""
             }
            },
            "type": "scattermapbox"
           }
          ],
          "scatterpolar": [
           {
            "marker": {
             "colorbar": {
              "outlinewidth": 0,
              "ticks": ""
             }
            },
            "type": "scatterpolar"
           }
          ],
          "scatterpolargl": [
           {
            "marker": {
             "colorbar": {
              "outlinewidth": 0,
              "ticks": ""
             }
            },
            "type": "scatterpolargl"
           }
          ],
          "scatterternary": [
           {
            "marker": {
             "colorbar": {
              "outlinewidth": 0,
              "ticks": ""
             }
            },
            "type": "scatterternary"
           }
          ],
          "surface": [
           {
            "colorbar": {
             "outlinewidth": 0,
             "ticks": ""
            },
            "colorscale": [
             [
              0,
              "#0d0887"
             ],
             [
              0.1111111111111111,
              "#46039f"
             ],
             [
              0.2222222222222222,
              "#7201a8"
             ],
             [
              0.3333333333333333,
              "#9c179e"
             ],
             [
              0.4444444444444444,
              "#bd3786"
             ],
             [
              0.5555555555555556,
              "#d8576b"
             ],
             [
              0.6666666666666666,
              "#ed7953"
             ],
             [
              0.7777777777777778,
              "#fb9f3a"
             ],
             [
              0.8888888888888888,
              "#fdca26"
             ],
             [
              1,
              "#f0f921"
             ]
            ],
            "type": "surface"
           }
          ],
          "table": [
           {
            "cells": {
             "fill": {
              "color": "#EBF0F8"
             },
             "line": {
              "color": "white"
             }
            },
            "header": {
             "fill": {
              "color": "#C8D4E3"
             },
             "line": {
              "color": "white"
             }
            },
            "type": "table"
           }
          ]
         },
         "layout": {
          "annotationdefaults": {
           "arrowcolor": "#2a3f5f",
           "arrowhead": 0,
           "arrowwidth": 1
          },
          "autotypenumbers": "strict",
          "coloraxis": {
           "colorbar": {
            "outlinewidth": 0,
            "ticks": ""
           }
          },
          "colorscale": {
           "diverging": [
            [
             0,
             "#8e0152"
            ],
            [
             0.1,
             "#c51b7d"
            ],
            [
             0.2,
             "#de77ae"
            ],
            [
             0.3,
             "#f1b6da"
            ],
            [
             0.4,
             "#fde0ef"
            ],
            [
             0.5,
             "#f7f7f7"
            ],
            [
             0.6,
             "#e6f5d0"
            ],
            [
             0.7,
             "#b8e186"
            ],
            [
             0.8,
             "#7fbc41"
            ],
            [
             0.9,
             "#4d9221"
            ],
            [
             1,
             "#276419"
            ]
           ],
           "sequential": [
            [
             0,
             "#0d0887"
            ],
            [
             0.1111111111111111,
             "#46039f"
            ],
            [
             0.2222222222222222,
             "#7201a8"
            ],
            [
             0.3333333333333333,
             "#9c179e"
            ],
            [
             0.4444444444444444,
             "#bd3786"
            ],
            [
             0.5555555555555556,
             "#d8576b"
            ],
            [
             0.6666666666666666,
             "#ed7953"
            ],
            [
             0.7777777777777778,
             "#fb9f3a"
            ],
            [
             0.8888888888888888,
             "#fdca26"
            ],
            [
             1,
             "#f0f921"
            ]
           ],
           "sequentialminus": [
            [
             0,
             "#0d0887"
            ],
            [
             0.1111111111111111,
             "#46039f"
            ],
            [
             0.2222222222222222,
             "#7201a8"
            ],
            [
             0.3333333333333333,
             "#9c179e"
            ],
            [
             0.4444444444444444,
             "#bd3786"
            ],
            [
             0.5555555555555556,
             "#d8576b"
            ],
            [
             0.6666666666666666,
             "#ed7953"
            ],
            [
             0.7777777777777778,
             "#fb9f3a"
            ],
            [
             0.8888888888888888,
             "#fdca26"
            ],
            [
             1,
             "#f0f921"
            ]
           ]
          },
          "colorway": [
           "#636efa",
           "#EF553B",
           "#00cc96",
           "#ab63fa",
           "#FFA15A",
           "#19d3f3",
           "#FF6692",
           "#B6E880",
           "#FF97FF",
           "#FECB52"
          ],
          "font": {
           "color": "#2a3f5f"
          },
          "geo": {
           "bgcolor": "white",
           "lakecolor": "white",
           "landcolor": "#E5ECF6",
           "showlakes": true,
           "showland": true,
           "subunitcolor": "white"
          },
          "hoverlabel": {
           "align": "left"
          },
          "hovermode": "closest",
          "mapbox": {
           "style": "light"
          },
          "paper_bgcolor": "white",
          "plot_bgcolor": "#E5ECF6",
          "polar": {
           "angularaxis": {
            "gridcolor": "white",
            "linecolor": "white",
            "ticks": ""
           },
           "bgcolor": "#E5ECF6",
           "radialaxis": {
            "gridcolor": "white",
            "linecolor": "white",
            "ticks": ""
           }
          },
          "scene": {
           "xaxis": {
            "backgroundcolor": "#E5ECF6",
            "gridcolor": "white",
            "gridwidth": 2,
            "linecolor": "white",
            "showbackground": true,
            "ticks": "",
            "zerolinecolor": "white"
           },
           "yaxis": {
            "backgroundcolor": "#E5ECF6",
            "gridcolor": "white",
            "gridwidth": 2,
            "linecolor": "white",
            "showbackground": true,
            "ticks": "",
            "zerolinecolor": "white"
           },
           "zaxis": {
            "backgroundcolor": "#E5ECF6",
            "gridcolor": "white",
            "gridwidth": 2,
            "linecolor": "white",
            "showbackground": true,
            "ticks": "",
            "zerolinecolor": "white"
           }
          },
          "shapedefaults": {
           "line": {
            "color": "#2a3f5f"
           }
          },
          "ternary": {
           "aaxis": {
            "gridcolor": "white",
            "linecolor": "white",
            "ticks": ""
           },
           "baxis": {
            "gridcolor": "white",
            "linecolor": "white",
            "ticks": ""
           },
           "bgcolor": "#E5ECF6",
           "caxis": {
            "gridcolor": "white",
            "linecolor": "white",
            "ticks": ""
           }
          },
          "title": {
           "x": 0.05
          },
          "xaxis": {
           "automargin": true,
           "gridcolor": "white",
           "linecolor": "white",
           "ticks": "",
           "title": {
            "standoff": 15
           },
           "zerolinecolor": "white",
           "zerolinewidth": 2
          },
          "yaxis": {
           "automargin": true,
           "gridcolor": "white",
           "linecolor": "white",
           "ticks": "",
           "title": {
            "standoff": 15
           },
           "zerolinecolor": "white",
           "zerolinewidth": 2
          }
         }
        },
        "title": {
         "text": "percentiles of citations per document"
        },
        "xaxis": {
         "anchor": "y",
         "domain": [
          0,
          1
         ],
         "title": {
          "text": "percentile"
         }
        },
        "yaxis": {
         "anchor": "x",
         "domain": [
          0,
          1
         ],
         "title": {
          "text": "avg Number of citations"
         }
        }
       }
      }
     },
     "metadata": {},
     "output_type": "display_data"
    }
   ],
   "source": [
    "# percentiles\n",
    "percentiles = [i/10 for i in range(0, 10)]\n",
    "citations_per_percentile = df['num_citations'].quantile(percentiles)\n",
    "# create the same scatter plot in plotly\n",
    "fig = px.scatter(x=percentiles, y=citations_per_percentile, labels={\"x\": \"percentile\", \"y\": \"avg Number of citations\"})\n",
    "title = \"percentiles of citations per document\"\n",
    "fig.update_layout(title_text=title)\n",
    "fig.update_xaxes(title_text=\"percentile\")\n",
    "fig.update_yaxes(title_text=\"avg Number of citations\")\n",
    "fig.show()\n",
    "figures.append(fig)\n"
   ]
  },
  {
   "cell_type": "code",
   "execution_count": 77,
   "id": "a61cd084",
   "metadata": {},
   "outputs": [
    {
     "data": {
      "application/vnd.plotly.v1+json": {
       "config": {
        "plotlyServerURL": "https://plot.ly"
       },
       "data": [
        {
         "hovertemplate": "threshold num citations=%{x}<br>fraction of documents=%{y}<extra></extra>",
         "legendgroup": "",
         "marker": {
          "color": "#636efa",
          "symbol": "circle"
         },
         "mode": "markers",
         "name": "",
         "orientation": "v",
         "showlegend": false,
         "type": "scatter",
         "x": [
          0,
          5,
          10,
          15,
          20,
          25,
          30,
          35,
          40,
          45,
          50,
          55,
          60,
          65,
          70,
          75,
          80,
          85,
          90,
          95
         ],
         "xaxis": "x",
         "y": [
          1,
          0.909,
          0.691,
          0.53,
          0.408,
          0.318,
          0.245,
          0.179,
          0.138,
          0.092,
          0.064,
          0.04,
          0.024,
          0.013,
          0.007,
          0.003,
          0.003,
          0.002,
          0.001,
          0.001
         ],
         "yaxis": "y"
        }
       ],
       "layout": {
        "legend": {
         "tracegroupgap": 0
        },
        "margin": {
         "t": 60
        },
        "template": {
         "data": {
          "bar": [
           {
            "error_x": {
             "color": "#2a3f5f"
            },
            "error_y": {
             "color": "#2a3f5f"
            },
            "marker": {
             "line": {
              "color": "#E5ECF6",
              "width": 0.5
             },
             "pattern": {
              "fillmode": "overlay",
              "size": 10,
              "solidity": 0.2
             }
            },
            "type": "bar"
           }
          ],
          "barpolar": [
           {
            "marker": {
             "line": {
              "color": "#E5ECF6",
              "width": 0.5
             },
             "pattern": {
              "fillmode": "overlay",
              "size": 10,
              "solidity": 0.2
             }
            },
            "type": "barpolar"
           }
          ],
          "carpet": [
           {
            "aaxis": {
             "endlinecolor": "#2a3f5f",
             "gridcolor": "white",
             "linecolor": "white",
             "minorgridcolor": "white",
             "startlinecolor": "#2a3f5f"
            },
            "baxis": {
             "endlinecolor": "#2a3f5f",
             "gridcolor": "white",
             "linecolor": "white",
             "minorgridcolor": "white",
             "startlinecolor": "#2a3f5f"
            },
            "type": "carpet"
           }
          ],
          "choropleth": [
           {
            "colorbar": {
             "outlinewidth": 0,
             "ticks": ""
            },
            "type": "choropleth"
           }
          ],
          "contour": [
           {
            "colorbar": {
             "outlinewidth": 0,
             "ticks": ""
            },
            "colorscale": [
             [
              0,
              "#0d0887"
             ],
             [
              0.1111111111111111,
              "#46039f"
             ],
             [
              0.2222222222222222,
              "#7201a8"
             ],
             [
              0.3333333333333333,
              "#9c179e"
             ],
             [
              0.4444444444444444,
              "#bd3786"
             ],
             [
              0.5555555555555556,
              "#d8576b"
             ],
             [
              0.6666666666666666,
              "#ed7953"
             ],
             [
              0.7777777777777778,
              "#fb9f3a"
             ],
             [
              0.8888888888888888,
              "#fdca26"
             ],
             [
              1,
              "#f0f921"
             ]
            ],
            "type": "contour"
           }
          ],
          "contourcarpet": [
           {
            "colorbar": {
             "outlinewidth": 0,
             "ticks": ""
            },
            "type": "contourcarpet"
           }
          ],
          "heatmap": [
           {
            "colorbar": {
             "outlinewidth": 0,
             "ticks": ""
            },
            "colorscale": [
             [
              0,
              "#0d0887"
             ],
             [
              0.1111111111111111,
              "#46039f"
             ],
             [
              0.2222222222222222,
              "#7201a8"
             ],
             [
              0.3333333333333333,
              "#9c179e"
             ],
             [
              0.4444444444444444,
              "#bd3786"
             ],
             [
              0.5555555555555556,
              "#d8576b"
             ],
             [
              0.6666666666666666,
              "#ed7953"
             ],
             [
              0.7777777777777778,
              "#fb9f3a"
             ],
             [
              0.8888888888888888,
              "#fdca26"
             ],
             [
              1,
              "#f0f921"
             ]
            ],
            "type": "heatmap"
           }
          ],
          "heatmapgl": [
           {
            "colorbar": {
             "outlinewidth": 0,
             "ticks": ""
            },
            "colorscale": [
             [
              0,
              "#0d0887"
             ],
             [
              0.1111111111111111,
              "#46039f"
             ],
             [
              0.2222222222222222,
              "#7201a8"
             ],
             [
              0.3333333333333333,
              "#9c179e"
             ],
             [
              0.4444444444444444,
              "#bd3786"
             ],
             [
              0.5555555555555556,
              "#d8576b"
             ],
             [
              0.6666666666666666,
              "#ed7953"
             ],
             [
              0.7777777777777778,
              "#fb9f3a"
             ],
             [
              0.8888888888888888,
              "#fdca26"
             ],
             [
              1,
              "#f0f921"
             ]
            ],
            "type": "heatmapgl"
           }
          ],
          "histogram": [
           {
            "marker": {
             "pattern": {
              "fillmode": "overlay",
              "size": 10,
              "solidity": 0.2
             }
            },
            "type": "histogram"
           }
          ],
          "histogram2d": [
           {
            "colorbar": {
             "outlinewidth": 0,
             "ticks": ""
            },
            "colorscale": [
             [
              0,
              "#0d0887"
             ],
             [
              0.1111111111111111,
              "#46039f"
             ],
             [
              0.2222222222222222,
              "#7201a8"
             ],
             [
              0.3333333333333333,
              "#9c179e"
             ],
             [
              0.4444444444444444,
              "#bd3786"
             ],
             [
              0.5555555555555556,
              "#d8576b"
             ],
             [
              0.6666666666666666,
              "#ed7953"
             ],
             [
              0.7777777777777778,
              "#fb9f3a"
             ],
             [
              0.8888888888888888,
              "#fdca26"
             ],
             [
              1,
              "#f0f921"
             ]
            ],
            "type": "histogram2d"
           }
          ],
          "histogram2dcontour": [
           {
            "colorbar": {
             "outlinewidth": 0,
             "ticks": ""
            },
            "colorscale": [
             [
              0,
              "#0d0887"
             ],
             [
              0.1111111111111111,
              "#46039f"
             ],
             [
              0.2222222222222222,
              "#7201a8"
             ],
             [
              0.3333333333333333,
              "#9c179e"
             ],
             [
              0.4444444444444444,
              "#bd3786"
             ],
             [
              0.5555555555555556,
              "#d8576b"
             ],
             [
              0.6666666666666666,
              "#ed7953"
             ],
             [
              0.7777777777777778,
              "#fb9f3a"
             ],
             [
              0.8888888888888888,
              "#fdca26"
             ],
             [
              1,
              "#f0f921"
             ]
            ],
            "type": "histogram2dcontour"
           }
          ],
          "mesh3d": [
           {
            "colorbar": {
             "outlinewidth": 0,
             "ticks": ""
            },
            "type": "mesh3d"
           }
          ],
          "parcoords": [
           {
            "line": {
             "colorbar": {
              "outlinewidth": 0,
              "ticks": ""
             }
            },
            "type": "parcoords"
           }
          ],
          "pie": [
           {
            "automargin": true,
            "type": "pie"
           }
          ],
          "scatter": [
           {
            "fillpattern": {
             "fillmode": "overlay",
             "size": 10,
             "solidity": 0.2
            },
            "type": "scatter"
           }
          ],
          "scatter3d": [
           {
            "line": {
             "colorbar": {
              "outlinewidth": 0,
              "ticks": ""
             }
            },
            "marker": {
             "colorbar": {
              "outlinewidth": 0,
              "ticks": ""
             }
            },
            "type": "scatter3d"
           }
          ],
          "scattercarpet": [
           {
            "marker": {
             "colorbar": {
              "outlinewidth": 0,
              "ticks": ""
             }
            },
            "type": "scattercarpet"
           }
          ],
          "scattergeo": [
           {
            "marker": {
             "colorbar": {
              "outlinewidth": 0,
              "ticks": ""
             }
            },
            "type": "scattergeo"
           }
          ],
          "scattergl": [
           {
            "marker": {
             "colorbar": {
              "outlinewidth": 0,
              "ticks": ""
             }
            },
            "type": "scattergl"
           }
          ],
          "scattermapbox": [
           {
            "marker": {
             "colorbar": {
              "outlinewidth": 0,
              "ticks": ""
             }
            },
            "type": "scattermapbox"
           }
          ],
          "scatterpolar": [
           {
            "marker": {
             "colorbar": {
              "outlinewidth": 0,
              "ticks": ""
             }
            },
            "type": "scatterpolar"
           }
          ],
          "scatterpolargl": [
           {
            "marker": {
             "colorbar": {
              "outlinewidth": 0,
              "ticks": ""
             }
            },
            "type": "scatterpolargl"
           }
          ],
          "scatterternary": [
           {
            "marker": {
             "colorbar": {
              "outlinewidth": 0,
              "ticks": ""
             }
            },
            "type": "scatterternary"
           }
          ],
          "surface": [
           {
            "colorbar": {
             "outlinewidth": 0,
             "ticks": ""
            },
            "colorscale": [
             [
              0,
              "#0d0887"
             ],
             [
              0.1111111111111111,
              "#46039f"
             ],
             [
              0.2222222222222222,
              "#7201a8"
             ],
             [
              0.3333333333333333,
              "#9c179e"
             ],
             [
              0.4444444444444444,
              "#bd3786"
             ],
             [
              0.5555555555555556,
              "#d8576b"
             ],
             [
              0.6666666666666666,
              "#ed7953"
             ],
             [
              0.7777777777777778,
              "#fb9f3a"
             ],
             [
              0.8888888888888888,
              "#fdca26"
             ],
             [
              1,
              "#f0f921"
             ]
            ],
            "type": "surface"
           }
          ],
          "table": [
           {
            "cells": {
             "fill": {
              "color": "#EBF0F8"
             },
             "line": {
              "color": "white"
             }
            },
            "header": {
             "fill": {
              "color": "#C8D4E3"
             },
             "line": {
              "color": "white"
             }
            },
            "type": "table"
           }
          ]
         },
         "layout": {
          "annotationdefaults": {
           "arrowcolor": "#2a3f5f",
           "arrowhead": 0,
           "arrowwidth": 1
          },
          "autotypenumbers": "strict",
          "coloraxis": {
           "colorbar": {
            "outlinewidth": 0,
            "ticks": ""
           }
          },
          "colorscale": {
           "diverging": [
            [
             0,
             "#8e0152"
            ],
            [
             0.1,
             "#c51b7d"
            ],
            [
             0.2,
             "#de77ae"
            ],
            [
             0.3,
             "#f1b6da"
            ],
            [
             0.4,
             "#fde0ef"
            ],
            [
             0.5,
             "#f7f7f7"
            ],
            [
             0.6,
             "#e6f5d0"
            ],
            [
             0.7,
             "#b8e186"
            ],
            [
             0.8,
             "#7fbc41"
            ],
            [
             0.9,
             "#4d9221"
            ],
            [
             1,
             "#276419"
            ]
           ],
           "sequential": [
            [
             0,
             "#0d0887"
            ],
            [
             0.1111111111111111,
             "#46039f"
            ],
            [
             0.2222222222222222,
             "#7201a8"
            ],
            [
             0.3333333333333333,
             "#9c179e"
            ],
            [
             0.4444444444444444,
             "#bd3786"
            ],
            [
             0.5555555555555556,
             "#d8576b"
            ],
            [
             0.6666666666666666,
             "#ed7953"
            ],
            [
             0.7777777777777778,
             "#fb9f3a"
            ],
            [
             0.8888888888888888,
             "#fdca26"
            ],
            [
             1,
             "#f0f921"
            ]
           ],
           "sequentialminus": [
            [
             0,
             "#0d0887"
            ],
            [
             0.1111111111111111,
             "#46039f"
            ],
            [
             0.2222222222222222,
             "#7201a8"
            ],
            [
             0.3333333333333333,
             "#9c179e"
            ],
            [
             0.4444444444444444,
             "#bd3786"
            ],
            [
             0.5555555555555556,
             "#d8576b"
            ],
            [
             0.6666666666666666,
             "#ed7953"
            ],
            [
             0.7777777777777778,
             "#fb9f3a"
            ],
            [
             0.8888888888888888,
             "#fdca26"
            ],
            [
             1,
             "#f0f921"
            ]
           ]
          },
          "colorway": [
           "#636efa",
           "#EF553B",
           "#00cc96",
           "#ab63fa",
           "#FFA15A",
           "#19d3f3",
           "#FF6692",
           "#B6E880",
           "#FF97FF",
           "#FECB52"
          ],
          "font": {
           "color": "#2a3f5f"
          },
          "geo": {
           "bgcolor": "white",
           "lakecolor": "white",
           "landcolor": "#E5ECF6",
           "showlakes": true,
           "showland": true,
           "subunitcolor": "white"
          },
          "hoverlabel": {
           "align": "left"
          },
          "hovermode": "closest",
          "mapbox": {
           "style": "light"
          },
          "paper_bgcolor": "white",
          "plot_bgcolor": "#E5ECF6",
          "polar": {
           "angularaxis": {
            "gridcolor": "white",
            "linecolor": "white",
            "ticks": ""
           },
           "bgcolor": "#E5ECF6",
           "radialaxis": {
            "gridcolor": "white",
            "linecolor": "white",
            "ticks": ""
           }
          },
          "scene": {
           "xaxis": {
            "backgroundcolor": "#E5ECF6",
            "gridcolor": "white",
            "gridwidth": 2,
            "linecolor": "white",
            "showbackground": true,
            "ticks": "",
            "zerolinecolor": "white"
           },
           "yaxis": {
            "backgroundcolor": "#E5ECF6",
            "gridcolor": "white",
            "gridwidth": 2,
            "linecolor": "white",
            "showbackground": true,
            "ticks": "",
            "zerolinecolor": "white"
           },
           "zaxis": {
            "backgroundcolor": "#E5ECF6",
            "gridcolor": "white",
            "gridwidth": 2,
            "linecolor": "white",
            "showbackground": true,
            "ticks": "",
            "zerolinecolor": "white"
           }
          },
          "shapedefaults": {
           "line": {
            "color": "#2a3f5f"
           }
          },
          "ternary": {
           "aaxis": {
            "gridcolor": "white",
            "linecolor": "white",
            "ticks": ""
           },
           "baxis": {
            "gridcolor": "white",
            "linecolor": "white",
            "ticks": ""
           },
           "bgcolor": "#E5ECF6",
           "caxis": {
            "gridcolor": "white",
            "linecolor": "white",
            "ticks": ""
           }
          },
          "title": {
           "x": 0.05
          },
          "xaxis": {
           "automargin": true,
           "gridcolor": "white",
           "linecolor": "white",
           "ticks": "",
           "title": {
            "standoff": 15
           },
           "zerolinecolor": "white",
           "zerolinewidth": 2
          },
          "yaxis": {
           "automargin": true,
           "gridcolor": "white",
           "linecolor": "white",
           "ticks": "",
           "title": {
            "standoff": 15
           },
           "zerolinecolor": "white",
           "zerolinewidth": 2
          }
         }
        },
        "title": {
         "text": "number of documents with citations above threshold"
        },
        "xaxis": {
         "anchor": "y",
         "domain": [
          0,
          1
         ],
         "title": {
          "text": "threshold num citations"
         }
        },
        "yaxis": {
         "anchor": "x",
         "domain": [
          0,
          1
         ],
         "title": {
          "text": "fraction of documents"
         }
        }
       }
      }
     },
     "metadata": {},
     "output_type": "display_data"
    }
   ],
   "source": [
    "# percentages of documents with more than x citations\n",
    "thresholds = [i*5 for i in range(20)]\n",
    "occurences = []\n",
    "for threshold in thresholds:\n",
    "    # count occurences of num_citations above threshold\n",
    "    occurences.append(df[\"num_citations\"][df['num_citations'] > threshold].count())\n",
    "# normalize by total number of documents\n",
    "occurences = [i/len(df) for i in occurences]\n",
    "\n",
    "# redo the same plot in plotly\n",
    "fig = px.scatter(x=thresholds, y=occurences, labels={\"x\": \"threshold num citations\", \"y\": \"fraction of documents\"})\n",
    "title = \"number of documents with citations above threshold\"\n",
    "fig.update_layout(title_text=title)\n",
    "fig.update_xaxes(title_text=\"threshold num citations\")\n",
    "fig.update_yaxes(title_text=\"fraction of documents\")\n",
    "\n",
    "# add the lines to the plot\n",
    "fig.show()\n",
    "figures.append(fig)\n"
   ]
  },
  {
   "cell_type": "code",
   "execution_count": null,
   "id": "acdd2454",
   "metadata": {},
   "outputs": [],
   "source": []
  },
  {
   "cell_type": "code",
   "execution_count": 78,
   "id": "01d12046",
   "metadata": {},
   "outputs": [
    {
     "name": "stdout",
     "output_type": "stream",
     "text": [
      "average number of citations per document: 21.425\n",
      "total number of citations: 21425\n",
      "num docuemnts 1000\n"
     ]
    }
   ],
   "source": [
    "# average number of citations per document\n",
    "print(\"average number of citations per document:\", df['num_citations'].mean())\n",
    "# total number of citations\n",
    "print(\"total number of citations:\", df['num_citations'].sum())\n",
    "print(\"num docuemnts\", len(df))"
   ]
  },
  {
   "cell_type": "markdown",
   "id": "66792e30",
   "metadata": {},
   "source": [
    "## types of citations"
   ]
  },
  {
   "cell_type": "code",
   "execution_count": 79,
   "id": "caaeae63",
   "metadata": {},
   "outputs": [
    {
     "data": {
      "application/vnd.plotly.v1+json": {
       "config": {
        "plotlyServerURL": "https://plot.ly"
       },
       "data": [
        {
         "name": "statutes",
         "nbinsx": 50,
         "type": "histogram",
         "x": [
          6,
          2,
          14,
          20,
          24,
          4,
          18,
          8,
          7,
          10,
          9,
          3,
          17,
          16,
          15,
          10,
          22,
          21,
          14,
          24,
          5,
          38,
          4,
          12,
          25,
          25,
          22,
          9,
          15,
          44,
          9,
          10,
          22,
          15,
          20,
          13,
          3,
          12,
          3,
          15,
          30,
          3,
          10,
          5,
          53,
          3,
          23,
          15,
          5,
          23,
          13,
          15,
          30,
          25,
          12,
          21,
          20,
          23,
          14,
          19,
          10,
          4,
          5,
          5,
          7,
          14,
          10,
          11,
          14,
          6,
          4,
          35,
          8,
          3,
          19,
          8,
          5,
          7,
          10,
          13,
          17,
          8,
          11,
          5,
          2,
          8,
          7,
          31,
          18,
          7,
          9,
          6,
          35,
          23,
          18,
          14,
          4,
          20,
          15,
          25,
          8,
          8,
          3,
          25,
          12,
          6,
          17,
          22,
          10,
          22,
          4,
          14,
          7,
          7,
          12,
          7,
          9,
          8,
          3,
          5,
          16,
          17,
          7,
          7,
          5,
          12,
          18,
          27,
          15,
          5,
          2,
          30,
          11,
          11,
          10,
          6,
          23,
          11,
          14,
          4,
          7,
          9,
          4,
          17,
          6,
          12,
          20,
          9,
          21,
          10,
          7,
          23,
          4,
          5,
          12,
          18,
          22,
          8,
          7,
          26,
          17,
          10,
          10,
          15,
          8,
          35,
          14,
          31,
          18,
          8,
          5,
          4,
          18,
          4,
          13,
          24,
          11,
          20,
          16,
          3,
          7,
          6,
          7,
          10,
          13,
          6,
          5,
          4,
          32,
          4,
          10,
          14,
          13,
          22,
          30,
          4,
          27,
          9,
          11,
          4,
          19,
          28,
          12,
          17,
          8,
          22,
          4,
          46,
          4,
          18,
          15,
          17,
          15,
          10,
          15,
          6,
          7,
          29,
          12,
          5,
          7,
          7,
          5,
          16,
          4,
          10,
          11,
          12,
          7,
          5,
          11,
          6,
          23,
          5,
          15,
          17,
          19,
          3,
          21,
          26,
          5,
          48,
          3,
          16,
          25,
          8,
          14,
          18,
          33,
          22,
          12,
          22,
          44,
          17,
          6,
          18,
          10,
          3,
          6,
          8,
          6,
          17,
          10,
          14,
          11,
          18,
          6,
          27,
          6,
          5,
          7,
          32,
          7,
          8,
          25,
          8,
          10,
          9,
          16,
          10,
          6,
          9,
          12,
          5,
          11,
          5,
          4,
          22,
          29,
          6,
          9,
          9,
          14,
          20,
          5,
          12,
          20,
          16,
          17,
          6,
          9,
          6,
          19,
          3,
          5,
          16,
          10,
          5,
          19,
          20,
          12,
          3,
          15,
          23,
          3,
          36,
          32,
          23,
          9,
          17,
          8,
          8,
          5,
          22,
          6,
          7,
          5,
          4,
          3,
          21,
          8,
          17,
          14,
          6,
          25,
          40,
          12,
          13,
          6,
          23,
          8,
          7,
          10,
          4,
          21,
          4,
          7,
          10,
          6,
          7,
          4,
          7,
          10,
          16,
          16,
          5,
          21,
          20,
          8,
          3,
          4,
          8,
          3,
          11,
          18,
          28,
          14,
          13,
          29,
          27,
          4,
          12,
          20,
          23,
          6,
          19,
          38,
          7,
          26,
          28,
          9,
          9,
          3,
          16,
          8,
          8,
          5,
          7,
          10,
          30,
          13,
          19,
          14,
          3,
          16,
          22,
          17,
          5,
          12,
          6,
          8,
          36,
          4,
          12,
          32,
          2,
          8,
          9,
          18,
          44,
          8,
          16,
          10,
          26,
          19,
          5,
          7,
          10,
          15,
          13,
          7,
          6,
          6,
          9,
          7,
          20,
          24,
          18,
          20,
          17,
          18,
          6,
          12,
          18,
          13,
          2,
          29,
          31,
          10,
          8,
          6,
          29,
          22,
          7,
          31,
          13,
          7,
          42,
          9,
          13,
          12,
          9,
          6,
          6,
          20,
          15,
          32,
          5,
          33,
          18,
          6,
          21,
          19,
          32,
          8,
          15,
          18,
          11,
          22,
          5,
          21,
          17,
          16,
          6,
          16,
          15,
          13,
          12,
          10,
          27,
          12,
          6,
          11,
          29,
          16,
          19,
          3,
          10,
          11,
          5,
          3,
          2,
          6,
          10,
          29,
          43,
          12,
          7,
          7,
          33,
          17,
          15,
          18,
          7,
          11,
          28,
          22,
          30,
          7,
          5,
          15,
          24,
          7,
          10,
          12,
          21,
          22,
          8,
          9,
          13,
          5,
          4,
          20,
          16,
          17,
          8,
          7,
          5,
          6,
          6,
          22,
          7,
          6,
          18,
          16,
          6,
          22,
          19,
          16,
          12,
          6,
          7,
          16,
          10,
          6,
          15,
          15,
          5,
          3,
          9,
          24,
          12,
          10,
          4,
          4,
          4,
          15,
          11,
          22,
          15,
          10,
          39,
          10,
          7,
          14,
          18,
          4,
          10,
          41,
          7,
          6,
          6,
          6,
          45,
          18,
          22,
          24,
          4,
          8,
          14,
          21,
          12,
          9,
          9,
          3,
          27,
          5,
          3,
          12,
          2,
          6,
          12,
          4,
          33,
          8,
          17,
          5,
          28,
          4,
          32,
          14,
          15,
          14,
          14,
          18,
          3,
          9,
          11,
          16,
          27,
          11,
          6,
          22,
          8,
          11,
          10,
          17,
          10,
          34,
          6,
          4,
          10,
          6,
          10,
          3,
          8,
          15,
          22,
          7,
          17,
          11,
          6,
          21,
          16,
          15,
          20,
          32,
          13,
          22,
          7,
          8,
          12,
          7,
          7,
          8,
          15,
          6,
          21,
          2,
          12,
          5,
          9,
          4,
          20,
          8,
          38,
          7,
          4,
          5,
          12,
          20,
          14,
          25,
          3,
          16,
          19,
          8,
          9,
          14,
          12,
          3,
          10,
          7,
          16,
          39,
          19,
          28,
          6,
          8,
          20,
          3,
          18,
          10,
          9,
          7,
          6,
          8,
          38,
          17,
          10,
          24,
          8,
          8,
          18,
          6,
          22,
          5,
          16,
          10,
          7,
          3,
          22,
          14,
          22,
          4,
          6,
          3,
          4,
          19,
          20,
          8,
          4,
          6,
          4,
          13,
          8,
          3,
          21,
          13,
          16,
          7,
          8,
          19,
          29,
          8,
          5,
          31,
          8,
          3,
          17,
          6,
          28,
          25,
          34,
          26,
          22,
          12,
          8,
          31,
          26,
          4,
          26,
          3,
          3,
          15,
          9,
          15,
          26,
          12,
          10,
          12,
          37,
          31,
          16,
          62,
          13,
          7,
          18,
          21,
          16,
          39,
          6,
          14,
          7,
          24,
          6,
          12,
          14,
          7,
          19,
          3,
          10,
          11,
          3,
          7,
          15,
          25,
          11,
          12,
          10,
          5,
          14,
          5,
          35,
          12,
          18,
          27,
          17,
          16,
          3,
          21,
          36,
          4,
          18,
          33,
          31,
          11,
          16,
          8,
          4,
          7,
          11,
          31,
          23,
          6,
          22,
          7,
          30,
          10,
          9,
          5,
          8,
          8,
          40,
          16,
          13,
          6,
          7,
          29,
          10,
          10,
          24,
          19,
          4,
          5,
          16,
          26,
          13,
          18,
          10,
          8,
          19,
          14,
          7,
          6,
          7,
          13,
          14,
          23,
          5,
          7,
          28,
          6,
          2,
          15,
          21,
          7,
          10,
          17,
          14,
          27,
          31,
          5,
          3,
          33,
          11,
          3,
          15,
          34,
          15,
          22,
          4,
          8,
          3,
          16,
          3,
          5,
          10,
          10,
          39,
          6,
          13,
          4,
          5,
          13,
          6,
          16,
          4,
          18,
          4,
          4,
          11,
          28,
          5,
          5,
          5,
          22,
          6,
          9,
          16,
          13,
          16,
          11,
          5,
          6,
          5,
          5,
          13,
          9,
          20,
          15,
          2,
          3,
          7,
          4,
          12,
          7,
          4,
          20,
          4,
          11,
          15,
          12,
          3,
          6,
          10,
          23,
          21,
          8,
          6,
          18,
          22,
          26,
          10,
          3,
          23,
          3,
          6,
          1,
          12,
          9,
          24,
          11,
          12,
          21,
          3,
          12,
          4,
          8,
          18,
          13,
          16,
          14,
          3,
          9,
          27,
          3,
          3,
          10,
          4,
          4,
          8,
          22,
          3,
          22,
          3,
          7,
          8,
          23,
          4,
          5,
          26,
          18,
          11,
          5,
          17,
          14,
          12,
          38,
          24,
          17,
          8,
          5,
          4,
          9,
          3,
          10,
          10,
          11,
          12,
          8,
          10,
          5,
          4,
          22,
          24,
          21,
          5,
          7,
          45,
          3,
          7,
          39,
          4,
          6,
          26,
          7,
          5,
          5,
          6
         ]
        },
        {
         "name": "cases",
         "nbinsx": 50,
         "type": "histogram",
         "x": [
          4,
          3,
          15,
          17,
          20,
          2,
          5,
          1,
          3,
          9,
          5,
          1,
          4,
          13,
          6,
          6,
          14,
          2,
          5,
          30,
          4,
          11,
          6,
          0,
          34,
          18,
          14,
          7,
          2,
          10,
          1,
          7,
          31,
          7,
          11,
          5,
          1,
          5,
          1,
          6,
          19,
          1,
          2,
          4,
          18,
          1,
          13,
          8,
          1,
          9,
          7,
          2,
          9,
          19,
          4,
          9,
          7,
          18,
          6,
          16,
          0,
          0,
          1,
          1,
          3,
          5,
          3,
          3,
          16,
          1,
          2,
          16,
          6,
          2,
          5,
          3,
          1,
          0,
          5,
          22,
          12,
          3,
          7,
          3,
          5,
          1,
          13,
          42,
          7,
          3,
          3,
          5,
          73,
          19,
          15,
          1,
          1,
          1,
          10,
          24,
          1,
          1,
          0,
          19,
          8,
          3,
          6,
          18,
          6,
          16,
          4,
          18,
          4,
          1,
          5,
          2,
          1,
          1,
          2,
          4,
          19,
          20,
          3,
          0,
          8,
          18,
          13,
          23,
          5,
          3,
          0,
          13,
          7,
          2,
          3,
          1,
          12,
          4,
          5,
          2,
          7,
          6,
          9,
          6,
          3,
          2,
          20,
          1,
          11,
          11,
          2,
          27,
          1,
          2,
          9,
          16,
          3,
          5,
          0,
          29,
          18,
          3,
          2,
          7,
          3,
          35,
          8,
          9,
          5,
          10,
          1,
          0,
          11,
          1,
          17,
          8,
          11,
          13,
          20,
          1,
          6,
          0,
          6,
          5,
          15,
          1,
          3,
          2,
          34,
          1,
          2,
          9,
          5,
          25,
          12,
          1,
          3,
          6,
          4,
          0,
          11,
          33,
          2,
          5,
          4,
          8,
          5,
          5,
          1,
          12,
          14,
          9,
          2,
          2,
          7,
          1,
          2,
          15,
          3,
          2,
          3,
          4,
          3,
          21,
          5,
          2,
          3,
          4,
          1,
          3,
          5,
          3,
          11,
          2,
          13,
          7,
          25,
          1,
          17,
          6,
          6,
          14,
          2,
          1,
          41,
          9,
          18,
          2,
          9,
          5,
          4,
          36,
          11,
          16,
          3,
          7,
          18,
          3,
          3,
          0,
          6,
          2,
          5,
          3,
          4,
          16,
          4,
          35,
          6,
          3,
          11,
          16,
          6,
          3,
          23,
          6,
          7,
          5,
          4,
          4,
          3,
          4,
          4,
          3,
          6,
          0,
          3,
          5,
          37,
          1,
          3,
          8,
          18,
          19,
          2,
          7,
          12,
          12,
          5,
          1,
          4,
          3,
          6,
          1,
          3,
          2,
          12,
          3,
          3,
          6,
          11,
          1,
          7,
          21,
          1,
          19,
          31,
          9,
          12,
          3,
          6,
          1,
          0,
          27,
          5,
          1,
          1,
          5,
          2,
          9,
          1,
          13,
          7,
          4,
          17,
          32,
          16,
          6,
          4,
          6,
          3,
          9,
          2,
          1,
          0,
          2,
          3,
          2,
          6,
          3,
          4,
          2,
          2,
          5,
          7,
          7,
          18,
          12,
          2,
          2,
          5,
          1,
          3,
          0,
          3,
          14,
          8,
          17,
          17,
          8,
          1,
          15,
          7,
          7,
          1,
          12,
          31,
          2,
          11,
          15,
          9,
          4,
          1,
          5,
          5,
          7,
          1,
          5,
          19,
          4,
          4,
          3,
          8,
          1,
          12,
          4,
          10,
          3,
          17,
          3,
          9,
          9,
          3,
          3,
          14,
          2,
          9,
          9,
          5,
          9,
          3,
          7,
          7,
          14,
          15,
          5,
          5,
          3,
          3,
          24,
          2,
          4,
          5,
          8,
          21,
          2,
          28,
          13,
          2,
          12,
          1,
          4,
          5,
          14,
          4,
          0,
          21,
          25,
          1,
          3,
          2,
          23,
          13,
          3,
          1,
          1,
          5,
          12,
          4,
          7,
          4,
          3,
          6,
          7,
          12,
          5,
          12,
          1,
          20,
          13,
          2,
          12,
          17,
          14,
          3,
          7,
          12,
          2,
          14,
          1,
          18,
          28,
          15,
          4,
          0,
          20,
          13,
          11,
          2,
          8,
          4,
          1,
          5,
          18,
          10,
          13,
          1,
          1,
          4,
          3,
          1,
          2,
          5,
          2,
          14,
          10,
          3,
          1,
          5,
          8,
          9,
          4,
          6,
          10,
          8,
          11,
          19,
          28,
          3,
          3,
          9,
          9,
          3,
          5,
          15,
          32,
          20,
          4,
          8,
          13,
          0,
          1,
          25,
          2,
          28,
          6,
          6,
          3,
          4,
          2,
          14,
          1,
          12,
          11,
          7,
          0,
          23,
          1,
          18,
          2,
          2,
          1,
          7,
          5,
          1,
          38,
          2,
          3,
          1,
          7,
          3,
          14,
          2,
          2,
          1,
          1,
          4,
          3,
          12,
          17,
          7,
          16,
          0,
          1,
          10,
          13,
          1,
          2,
          19,
          2,
          0,
          1,
          6,
          43,
          12,
          36,
          11,
          1,
          3,
          5,
          14,
          4,
          5,
          1,
          1,
          19,
          1,
          1,
          6,
          2,
          2,
          5,
          2,
          29,
          4,
          3,
          1,
          4,
          1,
          31,
          5,
          12,
          4,
          11,
          6,
          2,
          17,
          9,
          9,
          6,
          3,
          3,
          20,
          2,
          7,
          15,
          14,
          3,
          13,
          0,
          2,
          3,
          3,
          1,
          2,
          2,
          21,
          12,
          6,
          4,
          9,
          1,
          36,
          1,
          10,
          22,
          21,
          7,
          15,
          5,
          9,
          8,
          3,
          1,
          2,
          3,
          4,
          21,
          1,
          20,
          3,
          2,
          3,
          5,
          1,
          15,
          1,
          3,
          9,
          9,
          13,
          11,
          18,
          2,
          14,
          10,
          5,
          3,
          12,
          13,
          6,
          7,
          0,
          40,
          21,
          21,
          14,
          2,
          0,
          21,
          2,
          7,
          4,
          8,
          2,
          2,
          4,
          14,
          22,
          7,
          29,
          5,
          3,
          8,
          1,
          31,
          3,
          7,
          3,
          6,
          2,
          6,
          0,
          4,
          4,
          7,
          2,
          1,
          3,
          12,
          6,
          2,
          14,
          0,
          8,
          1,
          1,
          32,
          10,
          1,
          2,
          17,
          8,
          30,
          3,
          2,
          13,
          1,
          1,
          3,
          2,
          33,
          18,
          16,
          10,
          17,
          13,
          7,
          39,
          9,
          1,
          2,
          2,
          1,
          12,
          1,
          6,
          9,
          5,
          6,
          6,
          19,
          16,
          24,
          20,
          8,
          3,
          13,
          14,
          9,
          35,
          1,
          20,
          23,
          21,
          5,
          4,
          3,
          10,
          10,
          2,
          3,
          2,
          1,
          3,
          12,
          33,
          1,
          4,
          2,
          3,
          4,
          1,
          11,
          7,
          11,
          19,
          3,
          20,
          1,
          16,
          15,
          1,
          18,
          32,
          6,
          1,
          28,
          7,
          2,
          8,
          4,
          9,
          2,
          1,
          23,
          2,
          13,
          4,
          2,
          4,
          2,
          5,
          7,
          2,
          5,
          4,
          1,
          9,
          6,
          2,
          16,
          6,
          1,
          2,
          20,
          23,
          10,
          7,
          14,
          5,
          10,
          3,
          5,
          5,
          4,
          7,
          6,
          26,
          0,
          5,
          21,
          2,
          2,
          4,
          22,
          2,
          7,
          5,
          8,
          6,
          32,
          2,
          1,
          31,
          18,
          2,
          5,
          12,
          16,
          22,
          4,
          17,
          1,
          13,
          1,
          1,
          4,
          4,
          17,
          3,
          10,
          1,
          3,
          12,
          1,
          12,
          5,
          24,
          3,
          2,
          2,
          21,
          1,
          5,
          1,
          4,
          3,
          8,
          4,
          18,
          10,
          3,
          2,
          2,
          5,
          1,
          10,
          2,
          21,
          10,
          0,
          1,
          1,
          3,
          4,
          4,
          1,
          13,
          1,
          3,
          6,
          5,
          1,
          3,
          12,
          24,
          4,
          8,
          1,
          12,
          7,
          16,
          2,
          1,
          10,
          2,
          1,
          0,
          1,
          3,
          2,
          10,
          7,
          10,
          2,
          7,
          1,
          2,
          23,
          2,
          16,
          5,
          2,
          2,
          15,
          2,
          0,
          2,
          2,
          4,
          1,
          14,
          6,
          12,
          4,
          1,
          29,
          20,
          3,
          2,
          34,
          11,
          4,
          5,
          3,
          1,
          13,
          18,
          21,
          4,
          3,
          2,
          1,
          3,
          1,
          5,
          2,
          6,
          5,
          1,
          4,
          8,
          2,
          4,
          10,
          19,
          1,
          2,
          12,
          3,
          4,
          26,
          2,
          6,
          24,
          2,
          0,
          4,
          2
         ]
        }
       ],
       "layout": {
        "template": {
         "data": {
          "bar": [
           {
            "error_x": {
             "color": "#2a3f5f"
            },
            "error_y": {
             "color": "#2a3f5f"
            },
            "marker": {
             "line": {
              "color": "#E5ECF6",
              "width": 0.5
             },
             "pattern": {
              "fillmode": "overlay",
              "size": 10,
              "solidity": 0.2
             }
            },
            "type": "bar"
           }
          ],
          "barpolar": [
           {
            "marker": {
             "line": {
              "color": "#E5ECF6",
              "width": 0.5
             },
             "pattern": {
              "fillmode": "overlay",
              "size": 10,
              "solidity": 0.2
             }
            },
            "type": "barpolar"
           }
          ],
          "carpet": [
           {
            "aaxis": {
             "endlinecolor": "#2a3f5f",
             "gridcolor": "white",
             "linecolor": "white",
             "minorgridcolor": "white",
             "startlinecolor": "#2a3f5f"
            },
            "baxis": {
             "endlinecolor": "#2a3f5f",
             "gridcolor": "white",
             "linecolor": "white",
             "minorgridcolor": "white",
             "startlinecolor": "#2a3f5f"
            },
            "type": "carpet"
           }
          ],
          "choropleth": [
           {
            "colorbar": {
             "outlinewidth": 0,
             "ticks": ""
            },
            "type": "choropleth"
           }
          ],
          "contour": [
           {
            "colorbar": {
             "outlinewidth": 0,
             "ticks": ""
            },
            "colorscale": [
             [
              0,
              "#0d0887"
             ],
             [
              0.1111111111111111,
              "#46039f"
             ],
             [
              0.2222222222222222,
              "#7201a8"
             ],
             [
              0.3333333333333333,
              "#9c179e"
             ],
             [
              0.4444444444444444,
              "#bd3786"
             ],
             [
              0.5555555555555556,
              "#d8576b"
             ],
             [
              0.6666666666666666,
              "#ed7953"
             ],
             [
              0.7777777777777778,
              "#fb9f3a"
             ],
             [
              0.8888888888888888,
              "#fdca26"
             ],
             [
              1,
              "#f0f921"
             ]
            ],
            "type": "contour"
           }
          ],
          "contourcarpet": [
           {
            "colorbar": {
             "outlinewidth": 0,
             "ticks": ""
            },
            "type": "contourcarpet"
           }
          ],
          "heatmap": [
           {
            "colorbar": {
             "outlinewidth": 0,
             "ticks": ""
            },
            "colorscale": [
             [
              0,
              "#0d0887"
             ],
             [
              0.1111111111111111,
              "#46039f"
             ],
             [
              0.2222222222222222,
              "#7201a8"
             ],
             [
              0.3333333333333333,
              "#9c179e"
             ],
             [
              0.4444444444444444,
              "#bd3786"
             ],
             [
              0.5555555555555556,
              "#d8576b"
             ],
             [
              0.6666666666666666,
              "#ed7953"
             ],
             [
              0.7777777777777778,
              "#fb9f3a"
             ],
             [
              0.8888888888888888,
              "#fdca26"
             ],
             [
              1,
              "#f0f921"
             ]
            ],
            "type": "heatmap"
           }
          ],
          "heatmapgl": [
           {
            "colorbar": {
             "outlinewidth": 0,
             "ticks": ""
            },
            "colorscale": [
             [
              0,
              "#0d0887"
             ],
             [
              0.1111111111111111,
              "#46039f"
             ],
             [
              0.2222222222222222,
              "#7201a8"
             ],
             [
              0.3333333333333333,
              "#9c179e"
             ],
             [
              0.4444444444444444,
              "#bd3786"
             ],
             [
              0.5555555555555556,
              "#d8576b"
             ],
             [
              0.6666666666666666,
              "#ed7953"
             ],
             [
              0.7777777777777778,
              "#fb9f3a"
             ],
             [
              0.8888888888888888,
              "#fdca26"
             ],
             [
              1,
              "#f0f921"
             ]
            ],
            "type": "heatmapgl"
           }
          ],
          "histogram": [
           {
            "marker": {
             "pattern": {
              "fillmode": "overlay",
              "size": 10,
              "solidity": 0.2
             }
            },
            "type": "histogram"
           }
          ],
          "histogram2d": [
           {
            "colorbar": {
             "outlinewidth": 0,
             "ticks": ""
            },
            "colorscale": [
             [
              0,
              "#0d0887"
             ],
             [
              0.1111111111111111,
              "#46039f"
             ],
             [
              0.2222222222222222,
              "#7201a8"
             ],
             [
              0.3333333333333333,
              "#9c179e"
             ],
             [
              0.4444444444444444,
              "#bd3786"
             ],
             [
              0.5555555555555556,
              "#d8576b"
             ],
             [
              0.6666666666666666,
              "#ed7953"
             ],
             [
              0.7777777777777778,
              "#fb9f3a"
             ],
             [
              0.8888888888888888,
              "#fdca26"
             ],
             [
              1,
              "#f0f921"
             ]
            ],
            "type": "histogram2d"
           }
          ],
          "histogram2dcontour": [
           {
            "colorbar": {
             "outlinewidth": 0,
             "ticks": ""
            },
            "colorscale": [
             [
              0,
              "#0d0887"
             ],
             [
              0.1111111111111111,
              "#46039f"
             ],
             [
              0.2222222222222222,
              "#7201a8"
             ],
             [
              0.3333333333333333,
              "#9c179e"
             ],
             [
              0.4444444444444444,
              "#bd3786"
             ],
             [
              0.5555555555555556,
              "#d8576b"
             ],
             [
              0.6666666666666666,
              "#ed7953"
             ],
             [
              0.7777777777777778,
              "#fb9f3a"
             ],
             [
              0.8888888888888888,
              "#fdca26"
             ],
             [
              1,
              "#f0f921"
             ]
            ],
            "type": "histogram2dcontour"
           }
          ],
          "mesh3d": [
           {
            "colorbar": {
             "outlinewidth": 0,
             "ticks": ""
            },
            "type": "mesh3d"
           }
          ],
          "parcoords": [
           {
            "line": {
             "colorbar": {
              "outlinewidth": 0,
              "ticks": ""
             }
            },
            "type": "parcoords"
           }
          ],
          "pie": [
           {
            "automargin": true,
            "type": "pie"
           }
          ],
          "scatter": [
           {
            "fillpattern": {
             "fillmode": "overlay",
             "size": 10,
             "solidity": 0.2
            },
            "type": "scatter"
           }
          ],
          "scatter3d": [
           {
            "line": {
             "colorbar": {
              "outlinewidth": 0,
              "ticks": ""
             }
            },
            "marker": {
             "colorbar": {
              "outlinewidth": 0,
              "ticks": ""
             }
            },
            "type": "scatter3d"
           }
          ],
          "scattercarpet": [
           {
            "marker": {
             "colorbar": {
              "outlinewidth": 0,
              "ticks": ""
             }
            },
            "type": "scattercarpet"
           }
          ],
          "scattergeo": [
           {
            "marker": {
             "colorbar": {
              "outlinewidth": 0,
              "ticks": ""
             }
            },
            "type": "scattergeo"
           }
          ],
          "scattergl": [
           {
            "marker": {
             "colorbar": {
              "outlinewidth": 0,
              "ticks": ""
             }
            },
            "type": "scattergl"
           }
          ],
          "scattermapbox": [
           {
            "marker": {
             "colorbar": {
              "outlinewidth": 0,
              "ticks": ""
             }
            },
            "type": "scattermapbox"
           }
          ],
          "scatterpolar": [
           {
            "marker": {
             "colorbar": {
              "outlinewidth": 0,
              "ticks": ""
             }
            },
            "type": "scatterpolar"
           }
          ],
          "scatterpolargl": [
           {
            "marker": {
             "colorbar": {
              "outlinewidth": 0,
              "ticks": ""
             }
            },
            "type": "scatterpolargl"
           }
          ],
          "scatterternary": [
           {
            "marker": {
             "colorbar": {
              "outlinewidth": 0,
              "ticks": ""
             }
            },
            "type": "scatterternary"
           }
          ],
          "surface": [
           {
            "colorbar": {
             "outlinewidth": 0,
             "ticks": ""
            },
            "colorscale": [
             [
              0,
              "#0d0887"
             ],
             [
              0.1111111111111111,
              "#46039f"
             ],
             [
              0.2222222222222222,
              "#7201a8"
             ],
             [
              0.3333333333333333,
              "#9c179e"
             ],
             [
              0.4444444444444444,
              "#bd3786"
             ],
             [
              0.5555555555555556,
              "#d8576b"
             ],
             [
              0.6666666666666666,
              "#ed7953"
             ],
             [
              0.7777777777777778,
              "#fb9f3a"
             ],
             [
              0.8888888888888888,
              "#fdca26"
             ],
             [
              1,
              "#f0f921"
             ]
            ],
            "type": "surface"
           }
          ],
          "table": [
           {
            "cells": {
             "fill": {
              "color": "#EBF0F8"
             },
             "line": {
              "color": "white"
             }
            },
            "header": {
             "fill": {
              "color": "#C8D4E3"
             },
             "line": {
              "color": "white"
             }
            },
            "type": "table"
           }
          ]
         },
         "layout": {
          "annotationdefaults": {
           "arrowcolor": "#2a3f5f",
           "arrowhead": 0,
           "arrowwidth": 1
          },
          "autotypenumbers": "strict",
          "coloraxis": {
           "colorbar": {
            "outlinewidth": 0,
            "ticks": ""
           }
          },
          "colorscale": {
           "diverging": [
            [
             0,
             "#8e0152"
            ],
            [
             0.1,
             "#c51b7d"
            ],
            [
             0.2,
             "#de77ae"
            ],
            [
             0.3,
             "#f1b6da"
            ],
            [
             0.4,
             "#fde0ef"
            ],
            [
             0.5,
             "#f7f7f7"
            ],
            [
             0.6,
             "#e6f5d0"
            ],
            [
             0.7,
             "#b8e186"
            ],
            [
             0.8,
             "#7fbc41"
            ],
            [
             0.9,
             "#4d9221"
            ],
            [
             1,
             "#276419"
            ]
           ],
           "sequential": [
            [
             0,
             "#0d0887"
            ],
            [
             0.1111111111111111,
             "#46039f"
            ],
            [
             0.2222222222222222,
             "#7201a8"
            ],
            [
             0.3333333333333333,
             "#9c179e"
            ],
            [
             0.4444444444444444,
             "#bd3786"
            ],
            [
             0.5555555555555556,
             "#d8576b"
            ],
            [
             0.6666666666666666,
             "#ed7953"
            ],
            [
             0.7777777777777778,
             "#fb9f3a"
            ],
            [
             0.8888888888888888,
             "#fdca26"
            ],
            [
             1,
             "#f0f921"
            ]
           ],
           "sequentialminus": [
            [
             0,
             "#0d0887"
            ],
            [
             0.1111111111111111,
             "#46039f"
            ],
            [
             0.2222222222222222,
             "#7201a8"
            ],
            [
             0.3333333333333333,
             "#9c179e"
            ],
            [
             0.4444444444444444,
             "#bd3786"
            ],
            [
             0.5555555555555556,
             "#d8576b"
            ],
            [
             0.6666666666666666,
             "#ed7953"
            ],
            [
             0.7777777777777778,
             "#fb9f3a"
            ],
            [
             0.8888888888888888,
             "#fdca26"
            ],
            [
             1,
             "#f0f921"
            ]
           ]
          },
          "colorway": [
           "#636efa",
           "#EF553B",
           "#00cc96",
           "#ab63fa",
           "#FFA15A",
           "#19d3f3",
           "#FF6692",
           "#B6E880",
           "#FF97FF",
           "#FECB52"
          ],
          "font": {
           "color": "#2a3f5f"
          },
          "geo": {
           "bgcolor": "white",
           "lakecolor": "white",
           "landcolor": "#E5ECF6",
           "showlakes": true,
           "showland": true,
           "subunitcolor": "white"
          },
          "hoverlabel": {
           "align": "left"
          },
          "hovermode": "closest",
          "mapbox": {
           "style": "light"
          },
          "paper_bgcolor": "white",
          "plot_bgcolor": "#E5ECF6",
          "polar": {
           "angularaxis": {
            "gridcolor": "white",
            "linecolor": "white",
            "ticks": ""
           },
           "bgcolor": "#E5ECF6",
           "radialaxis": {
            "gridcolor": "white",
            "linecolor": "white",
            "ticks": ""
           }
          },
          "scene": {
           "xaxis": {
            "backgroundcolor": "#E5ECF6",
            "gridcolor": "white",
            "gridwidth": 2,
            "linecolor": "white",
            "showbackground": true,
            "ticks": "",
            "zerolinecolor": "white"
           },
           "yaxis": {
            "backgroundcolor": "#E5ECF6",
            "gridcolor": "white",
            "gridwidth": 2,
            "linecolor": "white",
            "showbackground": true,
            "ticks": "",
            "zerolinecolor": "white"
           },
           "zaxis": {
            "backgroundcolor": "#E5ECF6",
            "gridcolor": "white",
            "gridwidth": 2,
            "linecolor": "white",
            "showbackground": true,
            "ticks": "",
            "zerolinecolor": "white"
           }
          },
          "shapedefaults": {
           "line": {
            "color": "#2a3f5f"
           }
          },
          "ternary": {
           "aaxis": {
            "gridcolor": "white",
            "linecolor": "white",
            "ticks": ""
           },
           "baxis": {
            "gridcolor": "white",
            "linecolor": "white",
            "ticks": ""
           },
           "bgcolor": "#E5ECF6",
           "caxis": {
            "gridcolor": "white",
            "linecolor": "white",
            "ticks": ""
           }
          },
          "title": {
           "x": 0.05
          },
          "xaxis": {
           "automargin": true,
           "gridcolor": "white",
           "linecolor": "white",
           "ticks": "",
           "title": {
            "standoff": 15
           },
           "zerolinecolor": "white",
           "zerolinewidth": 2
          },
          "yaxis": {
           "automargin": true,
           "gridcolor": "white",
           "linecolor": "white",
           "ticks": "",
           "title": {
            "standoff": 15
           },
           "zerolinecolor": "white",
           "zerolinewidth": 2
          }
         }
        },
        "title": {
         "text": "number of statutes and cases per document"
        }
       }
      }
     },
     "metadata": {},
     "output_type": "display_data"
    }
   ],
   "source": [
    "is_statute = lambda citation_variants: any(\"§\" in variant for variant in citation_variants)\n",
    "count_statutes = lambda citations: sum(is_statute(citation) for citation in citations)\n",
    "count_cases = lambda citations: sum(not is_statute(citation) for citation in citations)\n",
    "\n",
    "df['num_statues'] = df['citation_vocab'].apply(count_statutes)\n",
    "df['count_cases'] = df['citation_vocab'].apply(count_cases)\n",
    "# df['num_statues'].hist(bins=20, alpha=0.5, label='statutes')\n",
    "# df['count_cases'].hist(bins=20, alpha=0.5, label='cases')\n",
    "\n",
    "# draw the same plot in plotly\n",
    "fig = px.histogram(df, x=\"num_statues\", nbins=50)\n",
    "fig = px.histogram(df, x=\"count_cases\", nbins=50)\n",
    "\n",
    "# use go.histogramm to draw the histogram\n",
    "import plotly.graph_objects as go\n",
    "fig = go.Figure(data=[go.Histogram(x=df['num_statues'], nbinsx=50, name='statutes'),\n",
    "                      go.Histogram(x=df['count_cases'], nbinsx=50, name='cases')])\n",
    "\n",
    "# add title\n",
    "fig.update_layout(title_text=\"number of statutes and cases per document\")\n",
    "fig.show()\n",
    "figures.append(fig)\n"
   ]
  },
  {
   "cell_type": "code",
   "execution_count": null,
   "id": "c6ae9f1d",
   "metadata": {},
   "outputs": [],
   "source": []
  },
  {
   "cell_type": "markdown",
   "id": "ea40af1b",
   "metadata": {},
   "source": [
    "## most common citations"
   ]
  },
  {
   "cell_type": "code",
   "execution_count": 80,
   "id": "e59dffec",
   "metadata": {},
   "outputs": [],
   "source": [
    "# to simplify: use only longest string of citation variants\n",
    "def get_longest(citations):\n",
    "    longest_variants = []\n",
    "    for citation_variants in citations:\n",
    "        longest = max(citation_variants, key=len)\n",
    "        longest_variants.append(longest)\n",
    "    return longest_variants\n",
    "\n",
    "df['longest_citations'] = df['citation_vocab'].apply(get_longest)\n",
    "# longest citations is a list of citations instead of a list of a list of citations"
   ]
  },
  {
   "cell_type": "code",
   "execution_count": 81,
   "id": "7ed147d3",
   "metadata": {},
   "outputs": [],
   "source": [
    "from collections import Counter\n",
    "# count duplicates in df['longest_citations']\n",
    "all_citations = df['longest_citations'].to_list()\n",
    "# flatten all_citations\n",
    "def flatten(t):\n",
    "    return [item for sublist in t for item in sublist]\n",
    "\n",
    "flattened = flatten(all_citations)\n",
    "counted = Counter(flattened)\n"
   ]
  },
  {
   "cell_type": "code",
   "execution_count": 82,
   "metadata": {},
   "outputs": [
    {
     "data": {
      "image/png": "[encoded data removed]",
      "text/plain": [
       "<Figure size 432x288 with 2 Axes>"
      ]
     },
     "metadata": {
      "needs_background": "light"
     },
     "output_type": "display_data"
    },
    {
     "data": {
      "application/vnd.plotly.v1+json": {
       "config": {
        "plotlyServerURL": "https://plot.ly"
       },
       "data": [
        {
         "name": "occurences",
         "type": "scatter",
         "x": [
          "38 C.F.R. 3.159",
          "38 U.S.C.A. 5103A",
          "38 C.F.R. 3.303",
          "38 C.F.R. 3.102",
          "38 U.S.C.A. 5103",
          "38 U.S.C.A. 5107",
          "38 C.F.R. 20.1100",
          "38 U.S.C.A. 1110",
          "38 U.S.C.A. 7252",
          "Kutscherousky_12 Vet. App. 369",
          "Quartuccio_16 Vet. App. 183",
          "Gilbert_1 Vet. App. 49",
          "38 U.S.C.A. 5109B"
         ],
         "xaxis": "x",
         "y": [
          1184,
          986,
          847,
          627,
          471,
          457,
          406,
          406,
          398,
          389,
          291,
          261,
          260
         ],
         "yaxis": "y"
        },
        {
         "name": "percentage of all citations",
         "type": "scatter",
         "x": [
          "38 C.F.R. 3.159",
          "38 U.S.C.A. 5103A",
          "38 C.F.R. 3.303",
          "38 C.F.R. 3.102",
          "38 U.S.C.A. 5103",
          "38 U.S.C.A. 5107",
          "38 C.F.R. 20.1100",
          "38 U.S.C.A. 1110",
          "38 U.S.C.A. 7252",
          "Kutscherousky_12 Vet. App. 369",
          "Quartuccio_16 Vet. App. 183",
          "Gilbert_1 Vet. App. 49",
          "38 U.S.C.A. 5109B"
         ],
         "xaxis": "x",
         "y": [
          0.055262543757292885,
          0.046021003500583434,
          0.039533255542590434,
          0.02926487747957993,
          0.021983663943990664,
          0.02133022170361727,
          0.01894982497082847,
          0.01894982497082847,
          0.018576429404900816,
          0.018156359393232204,
          0.013582263710618436,
          0.012182030338389731,
          0.012135355892648775
         ],
         "yaxis": "y2"
        }
       ],
       "layout": {
        "template": {
         "data": {
          "bar": [
           {
            "error_x": {
             "color": "#2a3f5f"
            },
            "error_y": {
             "color": "#2a3f5f"
            },
            "marker": {
             "line": {
              "color": "#E5ECF6",
              "width": 0.5
             },
             "pattern": {
              "fillmode": "overlay",
              "size": 10,
              "solidity": 0.2
             }
            },
            "type": "bar"
           }
          ],
          "barpolar": [
           {
            "marker": {
             "line": {
              "color": "#E5ECF6",
              "width": 0.5
             },
             "pattern": {
              "fillmode": "overlay",
              "size": 10,
              "solidity": 0.2
             }
            },
            "type": "barpolar"
           }
          ],
          "carpet": [
           {
            "aaxis": {
             "endlinecolor": "#2a3f5f",
             "gridcolor": "white",
             "linecolor": "white",
             "minorgridcolor": "white",
             "startlinecolor": "#2a3f5f"
            },
            "baxis": {
             "endlinecolor": "#2a3f5f",
             "gridcolor": "white",
             "linecolor": "white",
             "minorgridcolor": "white",
             "startlinecolor": "#2a3f5f"
            },
            "type": "carpet"
           }
          ],
          "choropleth": [
           {
            "colorbar": {
             "outlinewidth": 0,
             "ticks": ""
            },
            "type": "choropleth"
           }
          ],
          "contour": [
           {
            "colorbar": {
             "outlinewidth": 0,
             "ticks": ""
            },
            "colorscale": [
             [
              0,
              "#0d0887"
             ],
             [
              0.1111111111111111,
              "#46039f"
             ],
             [
              0.2222222222222222,
              "#7201a8"
             ],
             [
              0.3333333333333333,
              "#9c179e"
             ],
             [
              0.4444444444444444,
              "#bd3786"
             ],
             [
              0.5555555555555556,
              "#d8576b"
             ],
             [
              0.6666666666666666,
              "#ed7953"
             ],
             [
              0.7777777777777778,
              "#fb9f3a"
             ],
             [
              0.8888888888888888,
              "#fdca26"
             ],
             [
              1,
              "#f0f921"
             ]
            ],
            "type": "contour"
           }
          ],
          "contourcarpet": [
           {
            "colorbar": {
             "outlinewidth": 0,
             "ticks": ""
            },
            "type": "contourcarpet"
           }
          ],
          "heatmap": [
           {
            "colorbar": {
             "outlinewidth": 0,
             "ticks": ""
            },
            "colorscale": [
             [
              0,
              "#0d0887"
             ],
             [
              0.1111111111111111,
              "#46039f"
             ],
             [
              0.2222222222222222,
              "#7201a8"
             ],
             [
              0.3333333333333333,
              "#9c179e"
             ],
             [
              0.4444444444444444,
              "#bd3786"
             ],
             [
              0.5555555555555556,
              "#d8576b"
             ],
             [
              0.6666666666666666,
              "#ed7953"
             ],
             [
              0.7777777777777778,
              "#fb9f3a"
             ],
             [
              0.8888888888888888,
              "#fdca26"
             ],
             [
              1,
              "#f0f921"
             ]
            ],
            "type": "heatmap"
           }
          ],
          "heatmapgl": [
           {
            "colorbar": {
             "outlinewidth": 0,
             "ticks": ""
            },
            "colorscale": [
             [
              0,
              "#0d0887"
             ],
             [
              0.1111111111111111,
              "#46039f"
             ],
             [
              0.2222222222222222,
              "#7201a8"
             ],
             [
              0.3333333333333333,
              "#9c179e"
             ],
             [
              0.4444444444444444,
              "#bd3786"
             ],
             [
              0.5555555555555556,
              "#d8576b"
             ],
             [
              0.6666666666666666,
              "#ed7953"
             ],
             [
              0.7777777777777778,
              "#fb9f3a"
             ],
             [
              0.8888888888888888,
              "#fdca26"
             ],
             [
              1,
              "#f0f921"
             ]
            ],
            "type": "heatmapgl"
           }
          ],
          "histogram": [
           {
            "marker": {
             "pattern": {
              "fillmode": "overlay",
              "size": 10,
              "solidity": 0.2
             }
            },
            "type": "histogram"
           }
          ],
          "histogram2d": [
           {
            "colorbar": {
             "outlinewidth": 0,
             "ticks": ""
            },
            "colorscale": [
             [
              0,
              "#0d0887"
             ],
             [
              0.1111111111111111,
              "#46039f"
             ],
             [
              0.2222222222222222,
              "#7201a8"
             ],
             [
              0.3333333333333333,
              "#9c179e"
             ],
             [
              0.4444444444444444,
              "#bd3786"
             ],
             [
              0.5555555555555556,
              "#d8576b"
             ],
             [
              0.6666666666666666,
              "#ed7953"
             ],
             [
              0.7777777777777778,
              "#fb9f3a"
             ],
             [
              0.8888888888888888,
              "#fdca26"
             ],
             [
              1,
              "#f0f921"
             ]
            ],
            "type": "histogram2d"
           }
          ],
          "histogram2dcontour": [
           {
            "colorbar": {
             "outlinewidth": 0,
             "ticks": ""
            },
            "colorscale": [
             [
              0,
              "#0d0887"
             ],
             [
              0.1111111111111111,
              "#46039f"
             ],
             [
              0.2222222222222222,
              "#7201a8"
             ],
             [
              0.3333333333333333,
              "#9c179e"
             ],
             [
              0.4444444444444444,
              "#bd3786"
             ],
             [
              0.5555555555555556,
              "#d8576b"
             ],
             [
              0.6666666666666666,
              "#ed7953"
             ],
             [
              0.7777777777777778,
              "#fb9f3a"
             ],
             [
              0.8888888888888888,
              "#fdca26"
             ],
             [
              1,
              "#f0f921"
             ]
            ],
            "type": "histogram2dcontour"
           }
          ],
          "mesh3d": [
           {
            "colorbar": {
             "outlinewidth": 0,
             "ticks": ""
            },
            "type": "mesh3d"
           }
          ],
          "parcoords": [
           {
            "line": {
             "colorbar": {
              "outlinewidth": 0,
              "ticks": ""
             }
            },
            "type": "parcoords"
           }
          ],
          "pie": [
           {
            "automargin": true,
            "type": "pie"
           }
          ],
          "scatter": [
           {
            "fillpattern": {
             "fillmode": "overlay",
             "size": 10,
             "solidity": 0.2
            },
            "type": "scatter"
           }
          ],
          "scatter3d": [
           {
            "line": {
             "colorbar": {
              "outlinewidth": 0,
              "ticks": ""
             }
            },
            "marker": {
             "colorbar": {
              "outlinewidth": 0,
              "ticks": ""
             }
            },
            "type": "scatter3d"
           }
          ],
          "scattercarpet": [
           {
            "marker": {
             "colorbar": {
              "outlinewidth": 0,
              "ticks": ""
             }
            },
            "type": "scattercarpet"
           }
          ],
          "scattergeo": [
           {
            "marker": {
             "colorbar": {
              "outlinewidth": 0,
              "ticks": ""
             }
            },
            "type": "scattergeo"
           }
          ],
          "scattergl": [
           {
            "marker": {
             "colorbar": {
              "outlinewidth": 0,
              "ticks": ""
             }
            },
            "type": "scattergl"
           }
          ],
          "scattermapbox": [
           {
            "marker": {
             "colorbar": {
              "outlinewidth": 0,
              "ticks": ""
             }
            },
            "type": "scattermapbox"
           }
          ],
          "scatterpolar": [
           {
            "marker": {
             "colorbar": {
              "outlinewidth": 0,
              "ticks": ""
             }
            },
            "type": "scatterpolar"
           }
          ],
          "scatterpolargl": [
           {
            "marker": {
             "colorbar": {
              "outlinewidth": 0,
              "ticks": ""
             }
            },
            "type": "scatterpolargl"
           }
          ],
          "scatterternary": [
           {
            "marker": {
             "colorbar": {
              "outlinewidth": 0,
              "ticks": ""
             }
            },
            "type": "scatterternary"
           }
          ],
          "surface": [
           {
            "colorbar": {
             "outlinewidth": 0,
             "ticks": ""
            },
            "colorscale": [
             [
              0,
              "#0d0887"
             ],
             [
              0.1111111111111111,
              "#46039f"
             ],
             [
              0.2222222222222222,
              "#7201a8"
             ],
             [
              0.3333333333333333,
              "#9c179e"
             ],
             [
              0.4444444444444444,
              "#bd3786"
             ],
             [
              0.5555555555555556,
              "#d8576b"
             ],
             [
              0.6666666666666666,
              "#ed7953"
             ],
             [
              0.7777777777777778,
              "#fb9f3a"
             ],
             [
              0.8888888888888888,
              "#fdca26"
             ],
             [
              1,
              "#f0f921"
             ]
            ],
            "type": "surface"
           }
          ],
          "table": [
           {
            "cells": {
             "fill": {
              "color": "#EBF0F8"
             },
             "line": {
              "color": "white"
             }
            },
            "header": {
             "fill": {
              "color": "#C8D4E3"
             },
             "line": {
              "color": "white"
             }
            },
            "type": "table"
           }
          ]
         },
         "layout": {
          "annotationdefaults": {
           "arrowcolor": "#2a3f5f",
           "arrowhead": 0,
           "arrowwidth": 1
          },
          "autotypenumbers": "strict",
          "coloraxis": {
           "colorbar": {
            "outlinewidth": 0,
            "ticks": ""
           }
          },
          "colorscale": {
           "diverging": [
            [
             0,
             "#8e0152"
            ],
            [
             0.1,
             "#c51b7d"
            ],
            [
             0.2,
             "#de77ae"
            ],
            [
             0.3,
             "#f1b6da"
            ],
            [
             0.4,
             "#fde0ef"
            ],
            [
             0.5,
             "#f7f7f7"
            ],
            [
             0.6,
             "#e6f5d0"
            ],
            [
             0.7,
             "#b8e186"
            ],
            [
             0.8,
             "#7fbc41"
            ],
            [
             0.9,
             "#4d9221"
            ],
            [
             1,
             "#276419"
            ]
           ],
           "sequential": [
            [
             0,
             "#0d0887"
            ],
            [
             0.1111111111111111,
             "#46039f"
            ],
            [
             0.2222222222222222,
             "#7201a8"
            ],
            [
             0.3333333333333333,
             "#9c179e"
            ],
            [
             0.4444444444444444,
             "#bd3786"
            ],
            [
             0.5555555555555556,
             "#d8576b"
            ],
            [
             0.6666666666666666,
             "#ed7953"
            ],
            [
             0.7777777777777778,
             "#fb9f3a"
            ],
            [
             0.8888888888888888,
             "#fdca26"
            ],
            [
             1,
             "#f0f921"
            ]
           ],
           "sequentialminus": [
            [
             0,
             "#0d0887"
            ],
            [
             0.1111111111111111,
             "#46039f"
            ],
            [
             0.2222222222222222,
             "#7201a8"
            ],
            [
             0.3333333333333333,
             "#9c179e"
            ],
            [
             0.4444444444444444,
             "#bd3786"
            ],
            [
             0.5555555555555556,
             "#d8576b"
            ],
            [
             0.6666666666666666,
             "#ed7953"
            ],
            [
             0.7777777777777778,
             "#fb9f3a"
            ],
            [
             0.8888888888888888,
             "#fdca26"
            ],
            [
             1,
             "#f0f921"
            ]
           ]
          },
          "colorway": [
           "#636efa",
           "#EF553B",
           "#00cc96",
           "#ab63fa",
           "#FFA15A",
           "#19d3f3",
           "#FF6692",
           "#B6E880",
           "#FF97FF",
           "#FECB52"
          ],
          "font": {
           "color": "#2a3f5f"
          },
          "geo": {
           "bgcolor": "white",
           "lakecolor": "white",
           "landcolor": "#E5ECF6",
           "showlakes": true,
           "showland": true,
           "subunitcolor": "white"
          },
          "hoverlabel": {
           "align": "left"
          },
          "hovermode": "closest",
          "mapbox": {
           "style": "light"
          },
          "paper_bgcolor": "white",
          "plot_bgcolor": "#E5ECF6",
          "polar": {
           "angularaxis": {
            "gridcolor": "white",
            "linecolor": "white",
            "ticks": ""
           },
           "bgcolor": "#E5ECF6",
           "radialaxis": {
            "gridcolor": "white",
            "linecolor": "white",
            "ticks": ""
           }
          },
          "scene": {
           "xaxis": {
            "backgroundcolor": "#E5ECF6",
            "gridcolor": "white",
            "gridwidth": 2,
            "linecolor": "white",
            "showbackground": true,
            "ticks": "",
            "zerolinecolor": "white"
           },
           "yaxis": {
            "backgroundcolor": "#E5ECF6",
            "gridcolor": "white",
            "gridwidth": 2,
            "linecolor": "white",
            "showbackground": true,
            "ticks": "",
            "zerolinecolor": "white"
           },
           "zaxis": {
            "backgroundcolor": "#E5ECF6",
            "gridcolor": "white",
            "gridwidth": 2,
            "linecolor": "white",
            "showbackground": true,
            "ticks": "",
            "zerolinecolor": "white"
           }
          },
          "shapedefaults": {
           "line": {
            "color": "#2a3f5f"
           }
          },
          "ternary": {
           "aaxis": {
            "gridcolor": "white",
            "linecolor": "white",
            "ticks": ""
           },
           "baxis": {
            "gridcolor": "white",
            "linecolor": "white",
            "ticks": ""
           },
           "bgcolor": "#E5ECF6",
           "caxis": {
            "gridcolor": "white",
            "linecolor": "white",
            "ticks": ""
           }
          },
          "title": {
           "x": 0.05
          },
          "xaxis": {
           "automargin": true,
           "gridcolor": "white",
           "linecolor": "white",
           "ticks": "",
           "title": {
            "standoff": 15
           },
           "zerolinecolor": "white",
           "zerolinewidth": 2
          },
          "yaxis": {
           "automargin": true,
           "gridcolor": "white",
           "linecolor": "white",
           "ticks": "",
           "title": {
            "standoff": 15
           },
           "zerolinecolor": "white",
           "zerolinewidth": 2
          }
         }
        },
        "title": {
         "text": "most common citations"
        },
        "xaxis": {
         "anchor": "y",
         "domain": [
          0,
          0.94
         ],
         "title": {
          "text": "citation"
         }
        },
        "yaxis": {
         "anchor": "x",
         "domain": [
          0,
          1
         ]
        },
        "yaxis2": {
         "anchor": "x",
         "overlaying": "y",
         "side": "right",
         "title": {
          "text": "percentage of all citations"
         }
        }
       }
      }
     },
     "metadata": {},
     "output_type": "display_data"
    }
   ],
   "source": [
    "# select the 13 most common items\n",
    "n = 13\n",
    "most_common = counted.most_common(n)\n",
    "# convert list of tuples to two lists\n",
    "most_common_citations, most_common_counts = zip(*most_common)\n",
    "# normalize most_common_counts by total number of citations\n",
    "# make the x axis labels diagonal\n",
    "plt.xticks(rotation=45)\n",
    "\n",
    "plt.scatter(most_common_citations, most_common_counts)\n",
    "# show second y axis\n",
    "plt.ylabel(\"occurences\")\n",
    "\n",
    "# show second y axis for normalized values\n",
    "plt.twinx()\n",
    "most_common_counts_normalized = [(i/len(flattened)) for i in most_common_counts]\n",
    "plt.scatter(most_common_citations, most_common_counts_normalized)\n",
    "plt.ylabel(\"percentage of all citations\")\n",
    "\n",
    "plt.title(str(n) + ' most common citations')\n",
    "plt.show()\n",
    "\n",
    "from plotly.subplots import make_subplots\n",
    "\n",
    "# Create figure with secondary y-axis\n",
    "fig = make_subplots(specs=[[{\"secondary_y\": True}]])\n",
    "\n",
    "# Add traces\n",
    "fig.add_trace(\n",
    "    go.Scatter(x=most_common_citations, y=most_common_counts, name=\"occurences\"),\n",
    "    secondary_y=False,\n",
    ")\n",
    "\n",
    "fig.add_trace(\n",
    "    go.Scatter(x=most_common_citations, y=most_common_counts_normalized, name=\"percentage of all citations\", ),\n",
    "    secondary_y=True,\n",
    ")\n",
    "\n",
    "title = \"most common citations\"\n",
    "fig.update_layout(title_text=title)\n",
    "fig.update_xaxes(title_text=\"citation\")\n",
    "\n",
    "fig.update_yaxes(title_text=\"percentage of all citations\", secondary_y=True)\n",
    "figures.append(fig)\n",
    "fig.show()\n"
   ]
  },
  {
   "cell_type": "code",
   "execution_count": 83,
   "id": "097ea1be",
   "metadata": {},
   "outputs": [
    {
     "name": "stdout",
     "output_type": "stream",
     "text": [
      "13.441028858218319\n"
     ]
    }
   ],
   "source": [
    "# mean of occurence count values\n",
    "print(sum(list(counted.values()))/len(list(counted.values())))"
   ]
  },
  {
   "cell_type": "code",
   "execution_count": 84,
   "id": "a3e27edc",
   "metadata": {},
   "outputs": [
    {
     "name": "stdout",
     "output_type": "stream",
     "text": [
      "1594\n"
     ]
    }
   ],
   "source": [
    "# number of unique citations\n",
    "print(len(list(counted.keys())))"
   ]
  },
  {
   "cell_type": "code",
   "execution_count": 85,
   "id": "40976ba2",
   "metadata": {},
   "outputs": [
    {
     "name": "stdout",
     "output_type": "stream",
     "text": [
      "citation, occurences\n",
      "('38 C.F.R. 317', 1)\n",
      "('38 C.F.R. 4.110', 1)\n",
      "('Ruker_10 Vet. App. 67', 1)\n",
      "('May_19 Vet. App. 310', 1)\n",
      "('Russell_3 Vet. App. 313', 1)\n",
      "('10 Vet. App. 153', 1)\n",
      "('7 Vet. App. 511', 1)\n",
      "('Willis_1 Vet. App. 66', 1)\n",
      "('Caranto_4 Vet. App. 516', 1)\n",
      "('Wagner_370 F. 3', 1)\n"
     ]
    }
   ],
   "source": [
    "# show some least common occurances\n",
    "least_common = counted.most_common()[-10:]\n",
    "print(\"citation, occurences\")\n",
    "for el in least_common:\n",
    "    print(el)"
   ]
  },
  {
   "cell_type": "markdown",
   "id": "cef88ad7",
   "metadata": {},
   "source": [
    "## Document texts\n",
    "### average number of words"
   ]
  },
  {
   "cell_type": "code",
   "execution_count": 86,
   "id": "2a92953a",
   "metadata": {},
   "outputs": [
    {
     "data": {
      "application/vnd.plotly.v1+json": {
       "config": {
        "plotlyServerURL": "https://plot.ly"
       },
       "data": [
        {
         "hovertemplate": "percentile=%{x}<br>avg number of words=%{y}<extra></extra>",
         "legendgroup": "",
         "marker": {
          "color": "#636efa",
          "symbol": "circle"
         },
         "mode": "markers",
         "name": "",
         "orientation": "v",
         "showlegend": false,
         "type": "scatter",
         "x": [
          0,
          0.1,
          0.2,
          0.3,
          0.4,
          0.5,
          0.6,
          0.7,
          0.8,
          0.9
         ],
         "xaxis": "x",
         "y": [
          323,
          836,
          1084.4,
          1347,
          1619,
          1932.5,
          2298.2,
          2780.6,
          3322.4,
          4332.5
         ],
         "yaxis": "y"
        }
       ],
       "layout": {
        "legend": {
         "tracegroupgap": 0
        },
        "margin": {
         "t": 60
        },
        "template": {
         "data": {
          "bar": [
           {
            "error_x": {
             "color": "#2a3f5f"
            },
            "error_y": {
             "color": "#2a3f5f"
            },
            "marker": {
             "line": {
              "color": "#E5ECF6",
              "width": 0.5
             },
             "pattern": {
              "fillmode": "overlay",
              "size": 10,
              "solidity": 0.2
             }
            },
            "type": "bar"
           }
          ],
          "barpolar": [
           {
            "marker": {
             "line": {
              "color": "#E5ECF6",
              "width": 0.5
             },
             "pattern": {
              "fillmode": "overlay",
              "size": 10,
              "solidity": 0.2
             }
            },
            "type": "barpolar"
           }
          ],
          "carpet": [
           {
            "aaxis": {
             "endlinecolor": "#2a3f5f",
             "gridcolor": "white",
             "linecolor": "white",
             "minorgridcolor": "white",
             "startlinecolor": "#2a3f5f"
            },
            "baxis": {
             "endlinecolor": "#2a3f5f",
             "gridcolor": "white",
             "linecolor": "white",
             "minorgridcolor": "white",
             "startlinecolor": "#2a3f5f"
            },
            "type": "carpet"
           }
          ],
          "choropleth": [
           {
            "colorbar": {
             "outlinewidth": 0,
             "ticks": ""
            },
            "type": "choropleth"
           }
          ],
          "contour": [
           {
            "colorbar": {
             "outlinewidth": 0,
             "ticks": ""
            },
            "colorscale": [
             [
              0,
              "#0d0887"
             ],
             [
              0.1111111111111111,
              "#46039f"
             ],
             [
              0.2222222222222222,
              "#7201a8"
             ],
             [
              0.3333333333333333,
              "#9c179e"
             ],
             [
              0.4444444444444444,
              "#bd3786"
             ],
             [
              0.5555555555555556,
              "#d8576b"
             ],
             [
              0.6666666666666666,
              "#ed7953"
             ],
             [
              0.7777777777777778,
              "#fb9f3a"
             ],
             [
              0.8888888888888888,
              "#fdca26"
             ],
             [
              1,
              "#f0f921"
             ]
            ],
            "type": "contour"
           }
          ],
          "contourcarpet": [
           {
            "colorbar": {
             "outlinewidth": 0,
             "ticks": ""
            },
            "type": "contourcarpet"
           }
          ],
          "heatmap": [
           {
            "colorbar": {
             "outlinewidth": 0,
             "ticks": ""
            },
            "colorscale": [
             [
              0,
              "#0d0887"
             ],
             [
              0.1111111111111111,
              "#46039f"
             ],
             [
              0.2222222222222222,
              "#7201a8"
             ],
             [
              0.3333333333333333,
              "#9c179e"
             ],
             [
              0.4444444444444444,
              "#bd3786"
             ],
             [
              0.5555555555555556,
              "#d8576b"
             ],
             [
              0.6666666666666666,
              "#ed7953"
             ],
             [
              0.7777777777777778,
              "#fb9f3a"
             ],
             [
              0.8888888888888888,
              "#fdca26"
             ],
             [
              1,
              "#f0f921"
             ]
            ],
            "type": "heatmap"
           }
          ],
          "heatmapgl": [
           {
            "colorbar": {
             "outlinewidth": 0,
             "ticks": ""
            },
            "colorscale": [
             [
              0,
              "#0d0887"
             ],
             [
              0.1111111111111111,
              "#46039f"
             ],
             [
              0.2222222222222222,
              "#7201a8"
             ],
             [
              0.3333333333333333,
              "#9c179e"
             ],
             [
              0.4444444444444444,
              "#bd3786"
             ],
             [
              0.5555555555555556,
              "#d8576b"
             ],
             [
              0.6666666666666666,
              "#ed7953"
             ],
             [
              0.7777777777777778,
              "#fb9f3a"
             ],
             [
              0.8888888888888888,
              "#fdca26"
             ],
             [
              1,
              "#f0f921"
             ]
            ],
            "type": "heatmapgl"
           }
          ],
          "histogram": [
           {
            "marker": {
             "pattern": {
              "fillmode": "overlay",
              "size": 10,
              "solidity": 0.2
             }
            },
            "type": "histogram"
           }
          ],
          "histogram2d": [
           {
            "colorbar": {
             "outlinewidth": 0,
             "ticks": ""
            },
            "colorscale": [
             [
              0,
              "#0d0887"
             ],
             [
              0.1111111111111111,
              "#46039f"
             ],
             [
              0.2222222222222222,
              "#7201a8"
             ],
             [
              0.3333333333333333,
              "#9c179e"
             ],
             [
              0.4444444444444444,
              "#bd3786"
             ],
             [
              0.5555555555555556,
              "#d8576b"
             ],
             [
              0.6666666666666666,
              "#ed7953"
             ],
             [
              0.7777777777777778,
              "#fb9f3a"
             ],
             [
              0.8888888888888888,
              "#fdca26"
             ],
             [
              1,
              "#f0f921"
             ]
            ],
            "type": "histogram2d"
           }
          ],
          "histogram2dcontour": [
           {
            "colorbar": {
             "outlinewidth": 0,
             "ticks": ""
            },
            "colorscale": [
             [
              0,
              "#0d0887"
             ],
             [
              0.1111111111111111,
              "#46039f"
             ],
             [
              0.2222222222222222,
              "#7201a8"
             ],
             [
              0.3333333333333333,
              "#9c179e"
             ],
             [
              0.4444444444444444,
              "#bd3786"
             ],
             [
              0.5555555555555556,
              "#d8576b"
             ],
             [
              0.6666666666666666,
              "#ed7953"
             ],
             [
              0.7777777777777778,
              "#fb9f3a"
             ],
             [
              0.8888888888888888,
              "#fdca26"
             ],
             [
              1,
              "#f0f921"
             ]
            ],
            "type": "histogram2dcontour"
           }
          ],
          "mesh3d": [
           {
            "colorbar": {
             "outlinewidth": 0,
             "ticks": ""
            },
            "type": "mesh3d"
           }
          ],
          "parcoords": [
           {
            "line": {
             "colorbar": {
              "outlinewidth": 0,
              "ticks": ""
             }
            },
            "type": "parcoords"
           }
          ],
          "pie": [
           {
            "automargin": true,
            "type": "pie"
           }
          ],
          "scatter": [
           {
            "fillpattern": {
             "fillmode": "overlay",
             "size": 10,
             "solidity": 0.2
            },
            "type": "scatter"
           }
          ],
          "scatter3d": [
           {
            "line": {
             "colorbar": {
              "outlinewidth": 0,
              "ticks": ""
             }
            },
            "marker": {
             "colorbar": {
              "outlinewidth": 0,
              "ticks": ""
             }
            },
            "type": "scatter3d"
           }
          ],
          "scattercarpet": [
           {
            "marker": {
             "colorbar": {
              "outlinewidth": 0,
              "ticks": ""
             }
            },
            "type": "scattercarpet"
           }
          ],
          "scattergeo": [
           {
            "marker": {
             "colorbar": {
              "outlinewidth": 0,
              "ticks": ""
             }
            },
            "type": "scattergeo"
           }
          ],
          "scattergl": [
           {
            "marker": {
             "colorbar": {
              "outlinewidth": 0,
              "ticks": ""
             }
            },
            "type": "scattergl"
           }
          ],
          "scattermapbox": [
           {
            "marker": {
             "colorbar": {
              "outlinewidth": 0,
              "ticks": ""
             }
            },
            "type": "scattermapbox"
           }
          ],
          "scatterpolar": [
           {
            "marker": {
             "colorbar": {
              "outlinewidth": 0,
              "ticks": ""
             }
            },
            "type": "scatterpolar"
           }
          ],
          "scatterpolargl": [
           {
            "marker": {
             "colorbar": {
              "outlinewidth": 0,
              "ticks": ""
             }
            },
            "type": "scatterpolargl"
           }
          ],
          "scatterternary": [
           {
            "marker": {
             "colorbar": {
              "outlinewidth": 0,
              "ticks": ""
             }
            },
            "type": "scatterternary"
           }
          ],
          "surface": [
           {
            "colorbar": {
             "outlinewidth": 0,
             "ticks": ""
            },
            "colorscale": [
             [
              0,
              "#0d0887"
             ],
             [
              0.1111111111111111,
              "#46039f"
             ],
             [
              0.2222222222222222,
              "#7201a8"
             ],
             [
              0.3333333333333333,
              "#9c179e"
             ],
             [
              0.4444444444444444,
              "#bd3786"
             ],
             [
              0.5555555555555556,
              "#d8576b"
             ],
             [
              0.6666666666666666,
              "#ed7953"
             ],
             [
              0.7777777777777778,
              "#fb9f3a"
             ],
             [
              0.8888888888888888,
              "#fdca26"
             ],
             [
              1,
              "#f0f921"
             ]
            ],
            "type": "surface"
           }
          ],
          "table": [
           {
            "cells": {
             "fill": {
              "color": "#EBF0F8"
             },
             "line": {
              "color": "white"
             }
            },
            "header": {
             "fill": {
              "color": "#C8D4E3"
             },
             "line": {
              "color": "white"
             }
            },
            "type": "table"
           }
          ]
         },
         "layout": {
          "annotationdefaults": {
           "arrowcolor": "#2a3f5f",
           "arrowhead": 0,
           "arrowwidth": 1
          },
          "autotypenumbers": "strict",
          "coloraxis": {
           "colorbar": {
            "outlinewidth": 0,
            "ticks": ""
           }
          },
          "colorscale": {
           "diverging": [
            [
             0,
             "#8e0152"
            ],
            [
             0.1,
             "#c51b7d"
            ],
            [
             0.2,
             "#de77ae"
            ],
            [
             0.3,
             "#f1b6da"
            ],
            [
             0.4,
             "#fde0ef"
            ],
            [
             0.5,
             "#f7f7f7"
            ],
            [
             0.6,
             "#e6f5d0"
            ],
            [
             0.7,
             "#b8e186"
            ],
            [
             0.8,
             "#7fbc41"
            ],
            [
             0.9,
             "#4d9221"
            ],
            [
             1,
             "#276419"
            ]
           ],
           "sequential": [
            [
             0,
             "#0d0887"
            ],
            [
             0.1111111111111111,
             "#46039f"
            ],
            [
             0.2222222222222222,
             "#7201a8"
            ],
            [
             0.3333333333333333,
             "#9c179e"
            ],
            [
             0.4444444444444444,
             "#bd3786"
            ],
            [
             0.5555555555555556,
             "#d8576b"
            ],
            [
             0.6666666666666666,
             "#ed7953"
            ],
            [
             0.7777777777777778,
             "#fb9f3a"
            ],
            [
             0.8888888888888888,
             "#fdca26"
            ],
            [
             1,
             "#f0f921"
            ]
           ],
           "sequentialminus": [
            [
             0,
             "#0d0887"
            ],
            [
             0.1111111111111111,
             "#46039f"
            ],
            [
             0.2222222222222222,
             "#7201a8"
            ],
            [
             0.3333333333333333,
             "#9c179e"
            ],
            [
             0.4444444444444444,
             "#bd3786"
            ],
            [
             0.5555555555555556,
             "#d8576b"
            ],
            [
             0.6666666666666666,
             "#ed7953"
            ],
            [
             0.7777777777777778,
             "#fb9f3a"
            ],
            [
             0.8888888888888888,
             "#fdca26"
            ],
            [
             1,
             "#f0f921"
            ]
           ]
          },
          "colorway": [
           "#636efa",
           "#EF553B",
           "#00cc96",
           "#ab63fa",
           "#FFA15A",
           "#19d3f3",
           "#FF6692",
           "#B6E880",
           "#FF97FF",
           "#FECB52"
          ],
          "font": {
           "color": "#2a3f5f"
          },
          "geo": {
           "bgcolor": "white",
           "lakecolor": "white",
           "landcolor": "#E5ECF6",
           "showlakes": true,
           "showland": true,
           "subunitcolor": "white"
          },
          "hoverlabel": {
           "align": "left"
          },
          "hovermode": "closest",
          "mapbox": {
           "style": "light"
          },
          "paper_bgcolor": "white",
          "plot_bgcolor": "#E5ECF6",
          "polar": {
           "angularaxis": {
            "gridcolor": "white",
            "linecolor": "white",
            "ticks": ""
           },
           "bgcolor": "#E5ECF6",
           "radialaxis": {
            "gridcolor": "white",
            "linecolor": "white",
            "ticks": ""
           }
          },
          "scene": {
           "xaxis": {
            "backgroundcolor": "#E5ECF6",
            "gridcolor": "white",
            "gridwidth": 2,
            "linecolor": "white",
            "showbackground": true,
            "ticks": "",
            "zerolinecolor": "white"
           },
           "yaxis": {
            "backgroundcolor": "#E5ECF6",
            "gridcolor": "white",
            "gridwidth": 2,
            "linecolor": "white",
            "showbackground": true,
            "ticks": "",
            "zerolinecolor": "white"
           },
           "zaxis": {
            "backgroundcolor": "#E5ECF6",
            "gridcolor": "white",
            "gridwidth": 2,
            "linecolor": "white",
            "showbackground": true,
            "ticks": "",
            "zerolinecolor": "white"
           }
          },
          "shapedefaults": {
           "line": {
            "color": "#2a3f5f"
           }
          },
          "ternary": {
           "aaxis": {
            "gridcolor": "white",
            "linecolor": "white",
            "ticks": ""
           },
           "baxis": {
            "gridcolor": "white",
            "linecolor": "white",
            "ticks": ""
           },
           "bgcolor": "#E5ECF6",
           "caxis": {
            "gridcolor": "white",
            "linecolor": "white",
            "ticks": ""
           }
          },
          "title": {
           "x": 0.05
          },
          "xaxis": {
           "automargin": true,
           "gridcolor": "white",
           "linecolor": "white",
           "ticks": "",
           "title": {
            "standoff": 15
           },
           "zerolinecolor": "white",
           "zerolinewidth": 2
          },
          "yaxis": {
           "automargin": true,
           "gridcolor": "white",
           "linecolor": "white",
           "ticks": "",
           "title": {
            "standoff": 15
           },
           "zerolinecolor": "white",
           "zerolinewidth": 2
          }
         }
        },
        "title": {
         "text": "percentiles of number of words per document"
        },
        "xaxis": {
         "anchor": "y",
         "domain": [
          0,
          1
         ],
         "title": {
          "text": "percentile"
         }
        },
        "yaxis": {
         "anchor": "x",
         "domain": [
          0,
          1
         ],
         "title": {
          "text": "avg number of words"
         }
        }
       }
      }
     },
     "metadata": {},
     "output_type": "display_data"
    }
   ],
   "source": [
    "count_words = lambda x: len(x.split(\" \"))\n",
    "df['num_words'] = df['txt'].apply(count_words)\n",
    "\n",
    "# plot num_word percentiles\n",
    "bins = 10\n",
    "percentiles = [i/bins for i in range(0, bins)]\n",
    "num_words_per_percentile = df['num_words'].quantile(percentiles)\n",
    "\n",
    "# make the same scatter plot in plotly\n",
    "fig = px.scatter(x=percentiles, y=num_words_per_percentile, labels={\"x\": \"percentile\", \"y\": \"avg number of words\"})\n",
    "fig.update_layout(title_text=\"percentiles of number of words per document\")\n",
    "figures.append(fig)\n",
    "fig.show()\n"
   ]
  },
  {
   "cell_type": "code",
   "execution_count": 87,
   "id": "d016df24",
   "metadata": {},
   "outputs": [
    {
     "name": "stdout",
     "output_type": "stream",
     "text": [
      "2306.677\n"
     ]
    }
   ],
   "source": [
    "# average number of words\n",
    "print(df['num_words'].mean())"
   ]
  },
  {
   "cell_type": "markdown",
   "id": "28551749",
   "metadata": {},
   "source": [
    "### citations per sentence: \n",
    "with an avg of ~20 citations and 2300 words per doc, and assuming 15 words per sentence there is a citation every ~7 sentences\n",
    "\n",
    "### citation positions \n",
    "(relative to document length)\n",
    "only for documents between length 800 and 1000"
   ]
  },
  {
   "cell_type": "code",
   "execution_count": 88,
   "id": "69eab55c",
   "metadata": {},
   "outputs": [
    {
     "data": {
      "application/vnd.plotly.v1+json": {
       "config": {
        "plotlyServerURL": "https://plot.ly"
       },
       "data": [
        {
         "alignmentgroup": "True",
         "bingroup": "x",
         "hovertemplate": "x=%{x}<br>count=%{y}<extra></extra>",
         "legendgroup": "",
         "marker": {
          "color": "#636efa",
          "pattern": {
           "shape": ""
          }
         },
         "name": "",
         "nbinsx": 20,
         "offsetgroup": "",
         "orientation": "v",
         "showlegend": false,
         "type": "histogram",
         "x": [
          0.2346680856724757,
          0.25249434614872956,
          0.25528801383530664,
          0.25954503126247175,
          0.301583078355727,
          0.9039510442995876,
          0.945723027803645,
          0.9602234934149262,
          0.9972063323134229,
          0.23537364798426746,
          0.23783185840707965,
          0.272984267453294,
          0.2995329400196657,
          0.3002704031465093,
          0.33124385447394294,
          0.5417895771878073,
          0.5442477876106194,
          0.7144788593903638,
          0.8789331366764995,
          0.8807767944936087,
          0.9252704031465093,
          0.9632497541789578,
          0.9974188790560472,
          0.32189516763733667,
          0.4090980639068157,
          0.4663938296867622,
          0.5172359515189674,
          0.6108924917361876,
          0.8189831575633559,
          0.8882417755391154,
          0.9510467495671336,
          0.9966944750511569,
          0.8874797625472207,
          0.9468429573664328,
          0.9596600107933081,
          0.9971667566109013,
          0.173428689313712,
          0.24274515197359373,
          0.28331728785586574,
          0.2994086095447669,
          0.3005088708568285,
          0.4207124191995599,
          0.4458808967129693,
          0.5819007014165865,
          0.6224728372988585,
          0.6257736212350433,
          0.8858478888736074,
          0.9463622610369963,
          0.9588777334616971,
          0.9971118140558383,
          0.21924876995079803,
          0.2542901716068643,
          0.28201128045121804,
          0.9127565102604104,
          0.9504380175207008,
          0.9641185647425897,
          0.9974798991959678,
          0.19551379205819946,
          0.2003637465898757,
          0.323431342831161,
          0.32434070930585024,
          0.34889360412246134,
          0.37359806001818735,
          0.40421339799939376,
          0.406486814186117,
          0.46226129130039406,
          0.4930281903607154,
          0.9622612913003941,
          0.265389876880985,
          0.48533211734306125,
          0.5753153974768201,
          0.805593555251558,
          0.9273445812433501,
          0.9527283781729746,
          0.9968080255357957,
          0.2733665771640455,
          0.5306226825214166,
          0.531389847845544,
          0.5517197289349188,
          0.5549162511187827,
          0.6285641222350083,
          0.6412223500831096,
          0.8929804372842347,
          0.9492392277202404,
          0.9617695946809871,
          0.9973149213655543,
          0.45630382606240294,
          0.45715092474939995,
          0.47310461668784415,
          0.4965410136947621,
          0.6484540448962304,
          0.8427220104475505,
          0.904842580827333,
          0.9577862487646478,
          0.9970351545955104,
          0.16786629254605342,
          0.5576430401366353,
          0.587288032206905,
          0.5908259119189948,
          0.6606075393436623,
          0.9170428205441015,
          0.9508356715871661,
          0.9635232402098328,
          0.9974380871050385,
          0.23858214042263123,
          0.2647580095432856,
          0.29570552147239265,
          0.298159509202454,
          0.9011588275391956,
          0.9439672801635992,
          0.9592365371506476,
          0.9971370143149284,
          0.22823084750690506,
          0.2664631487134758,
          0.3375490623637157,
          0.37752580316906525,
          0.3879924407617386,
          0.45297281581625237,
          0.5415031254542811,
          0.7290303823230121,
          0.7528710568396569,
          0.8178514318941706,
          0.894461404273877,
          0.940107573775258,
          0.9565343799970926,
          0.996947230702137,
          0.28141877098233836,
          0.2890089038096628,
          0.32827324478178366,
          0.3544008173989199,
          0.47321558896511456,
          0.7114289884688366,
          0.7505473653481244,
          0.8302437600350314,
          0.9563567362428842,
          0.9969347540505036,
          0.21682411156095366,
          0.2703553756185335,
          0.3985605038236617,
          0.4000599790073474,
          0.4228520017993702,
          0.9052331683910632,
          0.9391213075423602,
          0.9557654820812715,
          0.9974508921877343,
          0.14248348017621146,
          0.1618942731277533,
          0.17180616740088106,
          0.1797907488986784,
          0.18736233480176212,
          0.19121696035242292,
          0.1931442731277533,
          0.3553138766519824,
          0.8459526431718062,
          0.9058370044052864,
          0.9588381057268722,
          0.9971090308370044,
          0.1733241188666206,
          0.1760884588804423,
          0.2580511402902557,
          0.3806496199032481,
          0.460124395300622,
          0.8254319281271596,
          0.09012767033244849,
          0.12122361269118949,
          0.2142586272279105,
          0.23777019340159272,
          0.2385286310200986,
          0.2531917583112122,
          0.28277082543294146,
          0.2835292630514474,
          0.32574895714827456,
          0.32764505119453924,
          0.32840348881304515,
          0.329161926431551,
          0.33965364682088234,
          0.3813677158387056,
          0.3832638098849703,
          0.39185943622803693,
          0.4326886613576033,
          0.4894450764757932,
          0.5922133737833396,
          0.5929718114018455,
          0.8933131083301732,
          0.9489318670206042,
          0.1681644880174292,
          0.17088779956427017,
          0.43899782135076254,
          0.4398148148148148,
          0.4952342047930283,
          0.4979575163398693,
          0.5194716775599129,
          0.5208333333333334,
          0.741557734204793,
          0.8854847494553377,
          0.9467592592592593,
          0.9592864923747276,
          0.997140522875817,
          0.19672534777791456,
          0.19771020558906807,
          0.4748245722023883,
          0.9100086175058476,
          0.948664286593623,
          0.9631909393081374,
          0.9974147482457221,
          0.1452227625180707,
          0.2048889472992509,
          0.3013536601393087,
          0.45695886450256273,
          0.4595873307924826,
          0.5719542646865554,
          0.5967932711262978,
          0.5975818110132738,
          0.639637271651991,
          0.6594821921408858,
          0.6912866342489158,
          0.6935208305953476,
          0.9235116309633329,
          0.968458404520962,
          0.969246944407938,
          0.2725109580463369,
          0.3575453976205385,
          0.808140262993112,
          0.9046963055729493,
          0.9486537257357546,
          0.9625547902316844,
          0.9973700688791484,
          0.14101721645419898,
          0.1750558549086608,
          0.734656328032593,
          0.8196872125114996,
          0.8375607832829544,
          0.8893415691943751,
          0.9484820607175714,
          0.9607044289656985,
          0.9972401103955841,
          0.4829020933558705,
          0.4836822259784163,
          0.5112469119750358,
          0.9062540631907424,
          0.947081003770641,
          0.9616434793914965,
          0.9977896242361202,
          0.41227518551125647,
          0.44598163752987047,
          0.4493774368004025,
          0.4811973336687209,
          0.511507986416803,
          0.5458432901521821,
          0.5465979122123004,
          0.8144887435542699,
          0.9510753364356684,
          0.9623946673374418,
          0.9973588227895862,
          0.14502038439138032,
          0.1485148514851485,
          0.4317122888759464,
          0.43389633080955153,
          0.8945835760046593,
          0.9403028538147933,
          0.9564647641234711,
          0.9969423412929528,
          0.1772446881425634,
          0.18848526387936942,
          0.2267306374228924,
          0.2599040438656614,
          0.29773817683344755,
          0.31350239890335846,
          0.3672378341329678,
          0.37546264564770393,
          0.49348869088416725,
          0.5006168608636052,
          0.8830705962988348,
          0.1312016059650129,
          0.13363923143102954,
          0.32262689991396615,
          0.3373960424433611,
          0.340263837109263,
          0.4229997132205334,
          0.4305993690851735,
          0.43203326641812445,
          0.432893604817895,
          0.4353312302839117,
          0.44049326068253514,
          0.45526240321193,
          0.7129337539432177,
          0.897046171494121,
          0.9420705477487812,
          0.9571264697447662,
          0.996988815600803,
          0.37689195264498726,
          0.38738198711224336,
          0.3999700284729507,
          0.4008691742844298,
          0.40311703881312755,
          0.8903042109995504,
          0.9373595084669564,
          0.9551925670612917,
          0.9968529896598232,
          0.3784056508577195,
          0.41819230214790254,
          0.9009658353755226,
          0.943058959204267,
          0.9574744125702753,
          0.9975493729277786,
          0.12220173821437977,
          0.4510139583882012,
          0.4536476165393732,
          0.5051356333947854,
          0.5068475111930472,
          0.5429286278641032,
          0.6382670529365289,
          0.6390571503818804,
          0.6833026073215697,
          0.7354490387147748,
          0.7890439820911246,
          0.9722149065051356,
          0.13993497697101057,
          0.14318612842048226,
          0.20035220807369278,
          0.2030615009482525,
          0.29544838797073963,
          0.29626117583310757,
          0.3507179626117583,
          0.40056895150365757,
          0.40260092115957735,
          0.426984557030615,
          0.46085071796261173,
          0.5594689785965863,
          0.7282579246816581,
          0.8301273367651043,
          0.8806556488756434,
          0.29938960845615603,
          0.3520917076075629,
          0.5255322316510347,
          0.5990769688849189,
          0.6355515855292542,
          0.6377847253238053,
          0.892660413875242,
          0.9394074735745125,
          0.9560815840404943,
          0.9974691082328421,
          0.12797693657558284,
          0.2747555778390574,
          0.2811481574329406,
          0.5289546252193532,
          0.5297066934068689,
          0.6011531712208573,
          0.7585861118074706,
          0.8094760591626974,
          0.8522186011531713,
          0.9091250940085235,
          0.9484833291551767,
          0.9625219353221359,
          0.9973677613436952,
          0.2533866597858341,
          0.37337117791252744,
          0.3998193781447555,
          0.43258934331054055,
          0.907624822603535,
          0.9481357244226551,
          0.9619403947877693,
          0.9978067346148884,
          0.2530334014996592,
          0.25576005453306067,
          0.30661213360599865,
          0.34573960463531017,
          0.3830947511929107,
          0.38950238582140423,
          0.4494887525562372,
          0.8055896387184731,
          0.8279481935923654,
          0.8402181322426722,
          0.9646898432174505,
          0.9674164962508521,
          0.2566204287515763,
          0.5431273644388398,
          0.5863808322824716,
          0.7094577553593947,
          0.8041614123581337,
          0.8564943253467844,
          0.9119798234552333,
          0.9622950819672131,
          0.9973518284993694,
          0.15003431708991077,
          0.1693891557995882,
          0.17927247769389157,
          0.18723404255319148,
          0.1947838023335621,
          0.19862731640356898,
          0.20054907343857242,
          0.3622512010981469,
          0.845710363761153,
          0.906108442004118,
          0.9589567604667124,
          0.9971173644474949,
          0.3509122006841505,
          0.3554732041049031,
          0.39723489167616877,
          0.41747434435575825,
          0.4203249714937286,
          0.44455530216647665,
          0.9092075256556442,
          0.9522519954389966,
          0.9682155074116305,
          0.9982896237172177,
          0.18617472434266327,
          0.22618037885213457,
          0.2418716426350014,
          0.33050607859768166,
          0.6718970879276223,
          0.7096409386485723,
          0.7104891150692677,
          0.9525021204410518,
          0.03232644409114997,
          0.10333863275039745,
          0.1966083730789613,
          0.4440911499735029,
          0.4762851086380498,
          0.904610492845787,
          0.9462109167991521,
          0.960386857445681,
          0.9972178060413355,
          0.15474014102898928,
          0.15891877774875945,
          0.27056672760511885,
          0.337163750326456,
          0.3495690780882737,
          0.5121441629668321,
          0.512927657351789,
          0.51436406372421,
          0.9057195090101854,
          0.9467223818229302,
          0.9614781927396187,
          0.9977800992426221,
          0.596473623853211,
          0.9106938073394495,
          0.9430905963302753,
          0.9590022935779816,
          0.9975630733944955,
          0.3860332683950247,
          0.40941105949348117,
          0.8915030720815226,
          0.9385583695489286,
          0.9551925670612917,
          0.9968529896598232,
          0.186209038670601,
          0.19117875446497903,
          0.26215250815344,
          0.26510327690635194,
          0.3854635813014443,
          0.3863954030128902,
          0.3995962105917068,
          0.41093337474763164,
          0.4555055132784594,
          0.5884454107780711,
          0.6084795775741575,
          0.22933998890737659,
          0.23211314475873543,
          0.27676095396561284,
          0.2896561286744315,
          0.3384636716583472,
          0.33929561841375483,
          0.35662784248474766,
          0.3574597892401553,
          0.43566278424847477,
          0.5270382695507487,
          0.5342484747642817,
          0.735579589572934,
          0.9650582362728786,
          0.20103612030507986,
          0.22348539358181033,
          0.294862570153979,
          0.30954094114261044,
          0.3633616347675925,
          0.3662397467261477,
          0.39602820549719386,
          0.398906317455749,
          0.4905741833357318,
          0.5441070657648582,
          0.559217153547273,
          0.6372139876241186,
          0.6406677219743848,
          0.7372283781839114,
          0.8404086918981148,
          0.9037271549863289,
          0.9569722262196,
          0.9969779824435171,
          0.26852383687535897,
          0.270964962665135,
          0.4659678345778288,
          0.5119184376794945,
          0.552125215393452,
          0.5817059161401493,
          0.9088167719701321,
          0.941987363584147,
          0.9576392877656519,
          0.997558874210224,
          0.27216748768472904,
          0.27586206896551724,
          0.32004310344827586,
          0.323121921182266,
          0.39285714285714285,
          0.44704433497536944,
          0.47367610837438423,
          0.5069273399014779,
          0.5504926108374384,
          0.573429802955665,
          0.6000615763546798,
          0.6731834975369458,
          0.7556958128078818,
          0.7670874384236454,
          0.8451354679802956,
          0.8482142857142857,
          0.9330357142857143,
          0.16101924640824072,
          0.4364326375711575,
          0.5685822716183248,
          0.6194090539441583,
          0.7229601518026565,
          0.7606397397668745,
          0.9021415017619951,
          0.9447004608294931,
          0.9594741122255354,
          0.9971537001897534,
          0.21499013806706113,
          0.21780783319244856,
          0.26317272471118625,
          0.2762750070442378,
          0.3258664412510566,
          0.32671174978867284,
          0.3443223443223443,
          0.34516765285996054,
          0.4246266553958862,
          0.5194420963651732,
          0.5267681036911807,
          0.7313327697943083,
          0.9644970414201184,
          0.15569738066746444,
          0.4173647121393432,
          0.4181624783938306,
          0.42720382927802153,
          0.5298497540220716,
          0.5306475202765589,
          0.6641404068607898,
          0.6654700172849355,
          0.8950937375349023,
          0.952399946815583,
          0.9691530381598191,
          0.9972078181092939,
          0.2627020038784745,
          0.2658047834518423,
          0.5322559793148028,
          0.57879767291532,
          0.5813833225597932,
          0.5833225597931481,
          0.7145442792501616,
          0.908338720103426,
          0.9489334195216548,
          0.9618616677440207,
          0.9978021978021978,
          0.24487658937920717,
          0.24786836200448767,
          0.4457741211667913,
          0.4759910246821242,
          0.4789827973074046,
          0.49768137621540764,
          0.6481675392670158,
          0.8746447270007479,
          0.9404637247569185,
          0.9552729992520569,
          0.9968586387434555,
          0.04004838059400618,
          0.08695067867222148,
          0.10159924741298212,
          0.1054965730412579,
          0.11866684585405188,
          0.2838328181696009,
          0.352371993011692,
          0.36796129552479506,
          0.39107646821663755,
          0.4188953097701922,
          0.41970165300362855,
          0.44402634054562556,
          0.4636473592259105,
          0.9789006853917485,
          0.9876360704206424,
          0.7977571046259717,
          0.9505543519816491,
          0.9618962660889512,
          0.9973238180196253,
          0.2783208020050125,
          0.3111528822055138,
          0.39323308270676693,
          0.4194235588972431,
          0.5565162907268171,
          0.5765664160401003,
          0.5778195488721805,
          0.6407268170426065,
          0.9216791979949874,
          0.9525062656641604,
          0.9709273182957393,
          0.9973684210526316,
          0.2509138381201044,
          0.2535248041775457,
          0.4943864229765013,
          0.8086161879895561,
          0.9048302872062663,
          0.945822454308094,
          0.9609660574412533,
          0.9972584856396867,
          0.2854705341908387,
          0.2880955505971912,
          0.3093581834886468,
          0.3135582097388109,
          0.35057094106838166,
          0.3513584459902874,
          0.3521459509121932,
          0.38403990024937656,
          0.4075337970862318,
          0.40832130200813754,
          0.4100275626722667,
          0.4119963249770311,
          0.49192807455046594,
          0.7432733954587216,
          0.1899886234357224,
          0.1945392491467577,
          0.3482650739476678,
          0.34911831626848694,
          0.5155005688282139,
          0.5914391353811149,
          0.5962741751990899,
          0.5986916951080774,
          0.600967007963595,
          0.9209328782707622,
          0.9419795221843004,
          0.9574800910125142,
          0.9970136518771331,
          0.2165671641791045,
          0.22059701492537315,
          0.2465671641791045,
          0.26313432835820894,
          0.29313432835820896,
          0.2953731343283582,
          0.29835820895522386,
          0.6335820895522388,
          0.6350746268656716,
          0.7492537313432835,
          0.8759701492537313,
          0.9416417910447761,
          0.9553731343283582,
          0.9968656716417911,
          0.15807434491163924,
          0.18452163315051798,
          0.19402803168799512,
          0.4716636197440585,
          0.4882388787324802,
          0.49055453991468617,
          0.4912858013406459,
          0.49201706276660573,
          0.4938452163315052,
          0.5817184643510055,
          0.626691042047532,
          0.6404631322364412,
          0.6425350396099939,
          0.6593540524070689,
          0.97794028031688,
          0.9803778184034125,
          0.1581215633823748,
          0.17907564274037746,
          0.1897755981572299,
          0.19839500668747215,
          0.20656858374201217,
          0.21072967751523258,
          0.21281022440184277,
          0.3878733838609006,
          0.8329618071035815,
          0.8983504235399019,
          0.9555654629216823,
          0.9968791796700847,
          0.7151721081400503,
          0.8940759344068547,
          0.9404638794504359,
          0.9564189688284828,
          0.9974885507460481,
          0.21331856228458887,
          0.21578040374199903,
          0.3140078778926637,
          0.33677991137370755,
          0.3986952240275726,
          0.5629000492368291,
          0.5963810930576071,
          0.5982274741506647,
          0.7140571147218119,
          0.7661250615460364,
          0.7685869030034466,
          0.8908173313638602,
          0.9224519940915805,
          0.9249138355489906,
          0.34844192634560905,
          0.38838526912181304,
          0.6831444759206798,
          0.7219546742209632,
          0.808215297450425,
          0.8970254957507082,
          0.9415014164305949,
          0.9576487252124646,
          0.9970254957507082,
          0.04180874722016308,
          0.2149740548554485,
          0.21793921423276502,
          0.2474425500370645,
          0.250407709414381,
          0.2742772424017791,
          0.519644180874722,
          0.7962935507783543,
          0.9313565604151223,
          0.9546330615270571,
          0.9958487768717569,
          0.1967598318080633,
          0.19923324264160278,
          0.21951521147662625,
          0.22198862231016572,
          0.24251793222854315,
          0.243259955478605,
          0.2840712342320059,
          0.28481325748206776,
          0.2855552807321296,
          0.35184269107098687,
          0.43519663616126636,
          0.4359386594113282,
          0.4718031164976503,
          0.482067771456839,
          0.567647786297304,
          0.6135295572594608,
          0.6971308434330943,
          0.6978728666831561,
          0.7111056146425921,
          0.7118476378926539,
          0.7128370022260697,
          0.16683686494766403,
          0.17985703344396223,
          0.22478937962726578,
          0.2255552718917539,
          0.24151136073525659,
          0.2422772529997447,
          0.36571355629308144,
          0.39851927495532297,
          0.4027316824100077,
          0.44957875925453156,
          0.48187388307378093,
          0.7291294357926985,
          0.8022721470513148,
          0.9137094715343375,
          0.9144753637988257,
          0.9152412560633137,
          0.9160071483278018,
          0.9471534337503191,
          0.9619606841970896,
          0.9973193770742915,
          0.1397470994655195,
          0.14196323816973017,
          0.6468517794290184,
          0.6677095554686482,
          0.9064007300221614,
          0.9473341154999348,
          0.9615434754269326,
          0.9977838612957893,
          0.22042663219133807,
          0.22456367162249516,
          0.2284421460892049,
          0.29463477698771817,
          0.5559146735617324,
          0.6011635423400129,
          0.9057530704589528,
          0.946218487394958,
          0.9613445378151261,
          0.9972850678733032,
          0.15048296898830707,
          0.2581342145399085,
          0.29117946110828674,
          0.3374428063040163,
          0.9073462125063548,
          0.9472547025927809,
          0.961997966446365,
          0.9973309608540926,
          0.0580422366848187,
          0.58414132022845,
          0.5886571921901979,
          0.6873422765307478,
          0.6905299508566874,
          0.7684951520786293,
          0.7985124186478948,
          0.9047682295125514,
          0.9464736352769292,
          0.9608181697436579,
          0.997742064019126,
          0.28275328692962104,
          0.2836813611755607,
          0.4648105181747873,
          0.48677494199535964,
          0.4898685228151585,
          0.5161639597834493,
          0.5376643464810518,
          0.5385924207269915,
          0.5395204949729312,
          0.5729311678267595,
          0.9006960556844548,
          0.9474091260634184,
          0.9641144624903326,
          0.9967517401392111,
          0.2756006681228318,
          0.3857124502120005,
          0.5249903636130027,
          0.6311191057432867,
          0.6685082872928176,
          0.9076191699858667,
          0.9479635102145703,
          0.9620968778106129,
          0.9978157522806116,
          0.16409067490984028,
          0.1662802679031427,
          0.3500772797527048,
          0.44332818134981966,
          0.4441009788768676,
          0.44719216898505926,
          0.44796496651210715,
          0.5710973724884081,
          0.6112828438948995,
          0.6120556414219475,
          0.642967542503864,
          0.8674652241112828,
          0.883307573415765,
          0.9071354971664091,
          0.9475785677485832,
          0.9620041215868109,
          0.9978104070066975,
          0.17189265536723164,
          0.19477401129943503,
          0.21299435028248587,
          0.23898305084745763,
          0.27980225988700563,
          0.2826271186440678,
          0.3155367231638418,
          0.33022598870056497,
          0.36694915254237287,
          0.3799435028248588,
          0.4159604519774011,
          0.4168079096045198,
          0.8199152542372882,
          0.9679378531073446,
          0.16219119226638024,
          0.1652600889980052,
          0.20669019487494245,
          0.2860211753874482,
          0.2869418444069357,
          0.31241368727942304,
          0.834279576492251,
          0.8592910848549946,
          0.8852232622372257,
          0.19760084365937253,
          0.19839177432111785,
          0.22528341682045874,
          0.22607434748220406,
          0.26034800949116793,
          0.2873714737674664,
          0.2881624044292117,
          0.43026627998945427,
          0.7256788821513314,
          0.7264698128130768,
          0.9695491695228051,
          0.9721856050619563,
          0.9741629317163195,
          0.8922298303066388,
          0.9389699315272403,
          0.9554927061625483,
          0.9968740696635904,
          0.1727526030209708,
          0.8938260742044288,
          0.9398738818008505,
          0.9561519284352544,
          0.9969203695556533,
          0.19592430858806403,
          0.1967976710334789,
          0.29941775836972345,
          0.30407569141193597,
          0.42736535662299857,
          0.4282387190684134,
          0.4480349344978166,
          0.8606986899563319,
          0.9381368267831149,
          0.9564774381368267,
          0.996943231441048,
          0.4932201068346802,
          0.901109437063416,
          0.9441172442131215,
          0.9590467059306944,
          0.99712368168744,
          0.28188865398167723,
          0.36800563777307965,
          0.5052854122621564,
          0.5226215644820296,
          0.880338266384778,
          0.9437632135306554,
          0.9578576462297392,
          0.9970401691331924,
          0.16302343955754542,
          0.17619173031340532,
          0.1784303397419015,
          0.2850934948643666,
          0.2970766394521991,
          0.31946273373716094,
          0.3202528311825125,
          0.3307874637872004,
          0.43455359494337636,
          0.4629971029760337,
          0.6692125362127995,
          0.9000526731630234,
          0.946141690808533,
          0.9606268106399789,
          0.9972346589412694,
          0.2626601965907677,
          0.5689934054995646,
          0.7788975986064451,
          0.9095433619509767,
          0.9492347891004106,
          0.9627970635809382,
          0.9973870847331093,
          0.36814921090387376,
          0.37101865136298423,
          0.48809182209469154,
          0.6662840746054519,
          0.7269727403156384,
          0.7278335724533715,
          0.8651362984218077,
          0.9639885222381636,
          0.9651362984218077,
          0.15149329101139808,
          0.15437887750685328,
          0.21324484201413937,
          0.6955706247294763,
          0.6964363006781128,
          0.7824267782426778,
          0.8864521714038378,
          0.9607560236618092,
          0.9616216996104459,
          0.1326450601150026,
          0.17995295347621537,
          0.18256664924202823,
          0.20478306325143752,
          0.21667537898588604,
          0.2728698379508625,
          0.27483010977522215,
          0.29391008886565606,
          0.325405122843701,
          0.3280188186095139,
          0.33024046001045476,
          0.3714061683220073,
          0.4130946157867224,
          0.443282801881861,
          0.8388656560376372,
          0.8396497647673811,
          0.9716414009409304,
          0.9724255096706743,
          0.1288200630396053,
          0.1332054268877621,
          0.20186377963546662,
          0.2591475949020145,
          0.2635329587501713,
          0.2655885980539948,
          0.31410168562422913,
          0.31519802658626833,
          0.36864464848567907,
          0.5161025078799507,
          0.613539810881184,
          0.6162806632862821,
          0.6545155543373989,
          0.657256406742497,
          0.7827874468959847,
          0.7855282993010826,
          0.8156776757571604,
          0.8189666986432781,
          0.8197889543648075,
          0.8678909140742771,
          0.47175407846838346,
          0.4731023324794391,
          0.47512471349602264,
          0.4809222057435621,
          0.9021167587973574,
          0.9444519347445058,
          0.9595523796683295,
          0.9977079681812053,
          0.8068618360047688,
          0.9046231288912439,
          0.9462180421247848,
          0.960921976420718,
          0.9977480460988211,
          0.2951463692814599,
          0.29590672918514765,
          0.9096438981117729,
          0.949436066404765,
          0.9621087314662273,
          0.9973387403370929,
          0.25080574274831524,
          0.2824494579548784,
          0.28332845004394963,
          0.2842074421330208,
          0.7502197480222678,
          0.7516847348373865,
          0.8326985057134486,
          0.8978904189862291,
          0.956196894227952,
          0.9969235276882508,
          0.18418374763773804,
          0.1870911469690362,
          0.8953336240732664,
          0.9409797935746474,
          0.9565343799970926,
          0.996947230702137,
          0.13428451531682753,
          0.13666247027556302,
          0.502447894810463,
          0.5336410686809344,
          0.5493075954678976,
          0.9427892012868933,
          0.9581759686669464,
          0.9970625262274444,
          0.20556542332741268,
          0.2093546477205447,
          0.23422143280047367,
          0.23801065719360567,
          0.27045589105979867,
          0.31497927767910006,
          0.33617525162818235,
          0.35642391947898167,
          0.35820011841326227,
          0.37312018946121966,
          0.38531675547661337,
          0.3978685612788632,
          0.3996447602131439,
          0.413854351687389,
          0.46915334517465956,
          0.5119005328596803,
          0.5745411486086441,
          0.577619893428064,
          0.5783303730017761,
          0.872113676731794,
          0.8741267021906454,
          0.96850207223209,
          0.9692125518058022,
          0.9709887507400828,
          0.9716992303137951,
          0.1740476510970521,
          0.1763359806165029,
          0.5347960694575313,
          0.9017364382824068,
          0.9446762686768071,
          0.9597523219814241,
          0.9971732400053843,
          0.13337423312883437,
          0.15067484662576688,
          0.15950920245398773,
          0.16662576687116565,
          0.17337423312883435,
          0.17680981595092024,
          0.1785276073619632,
          0.3230674846625767,
          0.8620858895705521,
          0.9160736196319018,
          0.9633128834355829,
          0.9974233128834356,
          0.2137434049671857,
          0.21786127911465705,
          0.5458756916741732,
          0.5714837215287608,
          0.5920730922661176,
          0.6242439840432377,
          0.6407154806331231,
          0.8433920988289796,
          0.8653969888045296,
          0.9518723459014284,
          0.7783066493581422,
          0.8178277801817395,
          0.8964373287177269,
          0.9417279676907544,
          0.9568729265830088,
          0.9969710082215492,
          0.15708057938405287,
          0.15947124173815216,
          0.3036141189706089,
          0.3422865982280973,
          0.5017578399662495,
          0.89973280832513,
          0.9438897482773169,
          0.9579524680073126,
          0.9970468288567009,
          0.1591947634926516,
          0.22094602939360256,
          0.2873903915030258,
          0.28986044213906387,
          0.33444485611955044,
          0.33518587131036187,
          0.35309373842163766,
          0.4189205878720514,
          0.45399530690379153,
          0.4758552550327282,
          0.4948746449302211,
          0.9163887859701124,
          0.9724589354081759,
          0.9749289860442139,
          0.1336399951579712,
          0.13751361820602834,
          0.16559738530444257,
          0.19150223943832465,
          0.34329984263406366,
          0.3471734656821208,
          0.3754993342210386,
          0.3889359641689868,
          0.41278295605858856,
          0.44110882459750633,
          0.4683452366541581,
          0.4927974821450188,
          0.5591332768429972,
          0.612274543033531,
          0.6741314610821935,
          0.6821208086188113,
          0.6898680547149255,
          0.7598353710204576,
          0.7678247185570755,
          0.7755719646531897,
          0.8213291369083646,
          0.8231448977121414,
          0.8659968526812735,
          0.9383851833918412,
          0.9391114877133518,
          0.9722793850623411,
          0.17145820983995258,
          0.25074096028452875,
          0.25370480142264373,
          0.3848547717842324,
          0.3906342620035566,
          0.8232068761114404,
          0.8528452874925904,
          0.8562537048014226,
          0.8620331950207469,
          0.9613218731475993,
          0.9642857142857143,
          0.9651748666271488,
          0.28051181102362205,
          0.28332395950506184,
          0.31285151856017995,
          0.5094206974128234,
          0.5146231721034871,
          0.8984814398200225,
          0.9426321709786277,
          0.9579583802024747,
          0.9970472440944882,
          0.33100558659217877,
          0.3318435754189944,
          0.3326815642458101,
          0.370391061452514,
          0.5466480446927374,
          0.9002793296089385,
          0.9428770949720671,
          0.9582402234636872,
          0.9970670391061452
         ],
         "xaxis": "x",
         "yaxis": "y"
        }
       ],
       "layout": {
        "barmode": "relative",
        "legend": {
         "tracegroupgap": 0
        },
        "margin": {
         "t": 60
        },
        "template": {
         "data": {
          "bar": [
           {
            "error_x": {
             "color": "#2a3f5f"
            },
            "error_y": {
             "color": "#2a3f5f"
            },
            "marker": {
             "line": {
              "color": "#E5ECF6",
              "width": 0.5
             },
             "pattern": {
              "fillmode": "overlay",
              "size": 10,
              "solidity": 0.2
             }
            },
            "type": "bar"
           }
          ],
          "barpolar": [
           {
            "marker": {
             "line": {
              "color": "#E5ECF6",
              "width": 0.5
             },
             "pattern": {
              "fillmode": "overlay",
              "size": 10,
              "solidity": 0.2
             }
            },
            "type": "barpolar"
           }
          ],
          "carpet": [
           {
            "aaxis": {
             "endlinecolor": "#2a3f5f",
             "gridcolor": "white",
             "linecolor": "white",
             "minorgridcolor": "white",
             "startlinecolor": "#2a3f5f"
            },
            "baxis": {
             "endlinecolor": "#2a3f5f",
             "gridcolor": "white",
             "linecolor": "white",
             "minorgridcolor": "white",
             "startlinecolor": "#2a3f5f"
            },
            "type": "carpet"
           }
          ],
          "choropleth": [
           {
            "colorbar": {
             "outlinewidth": 0,
             "ticks": ""
            },
            "type": "choropleth"
           }
          ],
          "contour": [
           {
            "colorbar": {
             "outlinewidth": 0,
             "ticks": ""
            },
            "colorscale": [
             [
              0,
              "#0d0887"
             ],
             [
              0.1111111111111111,
              "#46039f"
             ],
             [
              0.2222222222222222,
              "#7201a8"
             ],
             [
              0.3333333333333333,
              "#9c179e"
             ],
             [
              0.4444444444444444,
              "#bd3786"
             ],
             [
              0.5555555555555556,
              "#d8576b"
             ],
             [
              0.6666666666666666,
              "#ed7953"
             ],
             [
              0.7777777777777778,
              "#fb9f3a"
             ],
             [
              0.8888888888888888,
              "#fdca26"
             ],
             [
              1,
              "#f0f921"
             ]
            ],
            "type": "contour"
           }
          ],
          "contourcarpet": [
           {
            "colorbar": {
             "outlinewidth": 0,
             "ticks": ""
            },
            "type": "contourcarpet"
           }
          ],
          "heatmap": [
           {
            "colorbar": {
             "outlinewidth": 0,
             "ticks": ""
            },
            "colorscale": [
             [
              0,
              "#0d0887"
             ],
             [
              0.1111111111111111,
              "#46039f"
             ],
             [
              0.2222222222222222,
              "#7201a8"
             ],
             [
              0.3333333333333333,
              "#9c179e"
             ],
             [
              0.4444444444444444,
              "#bd3786"
             ],
             [
              0.5555555555555556,
              "#d8576b"
             ],
             [
              0.6666666666666666,
              "#ed7953"
             ],
             [
              0.7777777777777778,
              "#fb9f3a"
             ],
             [
              0.8888888888888888,
              "#fdca26"
             ],
             [
              1,
              "#f0f921"
             ]
            ],
            "type": "heatmap"
           }
          ],
          "heatmapgl": [
           {
            "colorbar": {
             "outlinewidth": 0,
             "ticks": ""
            },
            "colorscale": [
             [
              0,
              "#0d0887"
             ],
             [
              0.1111111111111111,
              "#46039f"
             ],
             [
              0.2222222222222222,
              "#7201a8"
             ],
             [
              0.3333333333333333,
              "#9c179e"
             ],
             [
              0.4444444444444444,
              "#bd3786"
             ],
             [
              0.5555555555555556,
              "#d8576b"
             ],
             [
              0.6666666666666666,
              "#ed7953"
             ],
             [
              0.7777777777777778,
              "#fb9f3a"
             ],
             [
              0.8888888888888888,
              "#fdca26"
             ],
             [
              1,
              "#f0f921"
             ]
            ],
            "type": "heatmapgl"
           }
          ],
          "histogram": [
           {
            "marker": {
             "pattern": {
              "fillmode": "overlay",
              "size": 10,
              "solidity": 0.2
             }
            },
            "type": "histogram"
           }
          ],
          "histogram2d": [
           {
            "colorbar": {
             "outlinewidth": 0,
             "ticks": ""
            },
            "colorscale": [
             [
              0,
              "#0d0887"
             ],
             [
              0.1111111111111111,
              "#46039f"
             ],
             [
              0.2222222222222222,
              "#7201a8"
             ],
             [
              0.3333333333333333,
              "#9c179e"
             ],
             [
              0.4444444444444444,
              "#bd3786"
             ],
             [
              0.5555555555555556,
              "#d8576b"
             ],
             [
              0.6666666666666666,
              "#ed7953"
             ],
             [
              0.7777777777777778,
              "#fb9f3a"
             ],
             [
              0.8888888888888888,
              "#fdca26"
             ],
             [
              1,
              "#f0f921"
             ]
            ],
            "type": "histogram2d"
           }
          ],
          "histogram2dcontour": [
           {
            "colorbar": {
             "outlinewidth": 0,
             "ticks": ""
            },
            "colorscale": [
             [
              0,
              "#0d0887"
             ],
             [
              0.1111111111111111,
              "#46039f"
             ],
             [
              0.2222222222222222,
              "#7201a8"
             ],
             [
              0.3333333333333333,
              "#9c179e"
             ],
             [
              0.4444444444444444,
              "#bd3786"
             ],
             [
              0.5555555555555556,
              "#d8576b"
             ],
             [
              0.6666666666666666,
              "#ed7953"
             ],
             [
              0.7777777777777778,
              "#fb9f3a"
             ],
             [
              0.8888888888888888,
              "#fdca26"
             ],
             [
              1,
              "#f0f921"
             ]
            ],
            "type": "histogram2dcontour"
           }
          ],
          "mesh3d": [
           {
            "colorbar": {
             "outlinewidth": 0,
             "ticks": ""
            },
            "type": "mesh3d"
           }
          ],
          "parcoords": [
           {
            "line": {
             "colorbar": {
              "outlinewidth": 0,
              "ticks": ""
             }
            },
            "type": "parcoords"
           }
          ],
          "pie": [
           {
            "automargin": true,
            "type": "pie"
           }
          ],
          "scatter": [
           {
            "fillpattern": {
             "fillmode": "overlay",
             "size": 10,
             "solidity": 0.2
            },
            "type": "scatter"
           }
          ],
          "scatter3d": [
           {
            "line": {
             "colorbar": {
              "outlinewidth": 0,
              "ticks": ""
             }
            },
            "marker": {
             "colorbar": {
              "outlinewidth": 0,
              "ticks": ""
             }
            },
            "type": "scatter3d"
           }
          ],
          "scattercarpet": [
           {
            "marker": {
             "colorbar": {
              "outlinewidth": 0,
              "ticks": ""
             }
            },
            "type": "scattercarpet"
           }
          ],
          "scattergeo": [
           {
            "marker": {
             "colorbar": {
              "outlinewidth": 0,
              "ticks": ""
             }
            },
            "type": "scattergeo"
           }
          ],
          "scattergl": [
           {
            "marker": {
             "colorbar": {
              "outlinewidth": 0,
              "ticks": ""
             }
            },
            "type": "scattergl"
           }
          ],
          "scattermapbox": [
           {
            "marker": {
             "colorbar": {
              "outlinewidth": 0,
              "ticks": ""
             }
            },
            "type": "scattermapbox"
           }
          ],
          "scatterpolar": [
           {
            "marker": {
             "colorbar": {
              "outlinewidth": 0,
              "ticks": ""
             }
            },
            "type": "scatterpolar"
           }
          ],
          "scatterpolargl": [
           {
            "marker": {
             "colorbar": {
              "outlinewidth": 0,
              "ticks": ""
             }
            },
            "type": "scatterpolargl"
           }
          ],
          "scatterternary": [
           {
            "marker": {
             "colorbar": {
              "outlinewidth": 0,
              "ticks": ""
             }
            },
            "type": "scatterternary"
           }
          ],
          "surface": [
           {
            "colorbar": {
             "outlinewidth": 0,
             "ticks": ""
            },
            "colorscale": [
             [
              0,
              "#0d0887"
             ],
             [
              0.1111111111111111,
              "#46039f"
             ],
             [
              0.2222222222222222,
              "#7201a8"
             ],
             [
              0.3333333333333333,
              "#9c179e"
             ],
             [
              0.4444444444444444,
              "#bd3786"
             ],
             [
              0.5555555555555556,
              "#d8576b"
             ],
             [
              0.6666666666666666,
              "#ed7953"
             ],
             [
              0.7777777777777778,
              "#fb9f3a"
             ],
             [
              0.8888888888888888,
              "#fdca26"
             ],
             [
              1,
              "#f0f921"
             ]
            ],
            "type": "surface"
           }
          ],
          "table": [
           {
            "cells": {
             "fill": {
              "color": "#EBF0F8"
             },
             "line": {
              "color": "white"
             }
            },
            "header": {
             "fill": {
              "color": "#C8D4E3"
             },
             "line": {
              "color": "white"
             }
            },
            "type": "table"
           }
          ]
         },
         "layout": {
          "annotationdefaults": {
           "arrowcolor": "#2a3f5f",
           "arrowhead": 0,
           "arrowwidth": 1
          },
          "autotypenumbers": "strict",
          "coloraxis": {
           "colorbar": {
            "outlinewidth": 0,
            "ticks": ""
           }
          },
          "colorscale": {
           "diverging": [
            [
             0,
             "#8e0152"
            ],
            [
             0.1,
             "#c51b7d"
            ],
            [
             0.2,
             "#de77ae"
            ],
            [
             0.3,
             "#f1b6da"
            ],
            [
             0.4,
             "#fde0ef"
            ],
            [
             0.5,
             "#f7f7f7"
            ],
            [
             0.6,
             "#e6f5d0"
            ],
            [
             0.7,
             "#b8e186"
            ],
            [
             0.8,
             "#7fbc41"
            ],
            [
             0.9,
             "#4d9221"
            ],
            [
             1,
             "#276419"
            ]
           ],
           "sequential": [
            [
             0,
             "#0d0887"
            ],
            [
             0.1111111111111111,
             "#46039f"
            ],
            [
             0.2222222222222222,
             "#7201a8"
            ],
            [
             0.3333333333333333,
             "#9c179e"
            ],
            [
             0.4444444444444444,
             "#bd3786"
            ],
            [
             0.5555555555555556,
             "#d8576b"
            ],
            [
             0.6666666666666666,
             "#ed7953"
            ],
            [
             0.7777777777777778,
             "#fb9f3a"
            ],
            [
             0.8888888888888888,
             "#fdca26"
            ],
            [
             1,
             "#f0f921"
            ]
           ],
           "sequentialminus": [
            [
             0,
             "#0d0887"
            ],
            [
             0.1111111111111111,
             "#46039f"
            ],
            [
             0.2222222222222222,
             "#7201a8"
            ],
            [
             0.3333333333333333,
             "#9c179e"
            ],
            [
             0.4444444444444444,
             "#bd3786"
            ],
            [
             0.5555555555555556,
             "#d8576b"
            ],
            [
             0.6666666666666666,
             "#ed7953"
            ],
            [
             0.7777777777777778,
             "#fb9f3a"
            ],
            [
             0.8888888888888888,
             "#fdca26"
            ],
            [
             1,
             "#f0f921"
            ]
           ]
          },
          "colorway": [
           "#636efa",
           "#EF553B",
           "#00cc96",
           "#ab63fa",
           "#FFA15A",
           "#19d3f3",
           "#FF6692",
           "#B6E880",
           "#FF97FF",
           "#FECB52"
          ],
          "font": {
           "color": "#2a3f5f"
          },
          "geo": {
           "bgcolor": "white",
           "lakecolor": "white",
           "landcolor": "#E5ECF6",
           "showlakes": true,
           "showland": true,
           "subunitcolor": "white"
          },
          "hoverlabel": {
           "align": "left"
          },
          "hovermode": "closest",
          "mapbox": {
           "style": "light"
          },
          "paper_bgcolor": "white",
          "plot_bgcolor": "#E5ECF6",
          "polar": {
           "angularaxis": {
            "gridcolor": "white",
            "linecolor": "white",
            "ticks": ""
           },
           "bgcolor": "#E5ECF6",
           "radialaxis": {
            "gridcolor": "white",
            "linecolor": "white",
            "ticks": ""
           }
          },
          "scene": {
           "xaxis": {
            "backgroundcolor": "#E5ECF6",
            "gridcolor": "white",
            "gridwidth": 2,
            "linecolor": "white",
            "showbackground": true,
            "ticks": "",
            "zerolinecolor": "white"
           },
           "yaxis": {
            "backgroundcolor": "#E5ECF6",
            "gridcolor": "white",
            "gridwidth": 2,
            "linecolor": "white",
            "showbackground": true,
            "ticks": "",
            "zerolinecolor": "white"
           },
           "zaxis": {
            "backgroundcolor": "#E5ECF6",
            "gridcolor": "white",
            "gridwidth": 2,
            "linecolor": "white",
            "showbackground": true,
            "ticks": "",
            "zerolinecolor": "white"
           }
          },
          "shapedefaults": {
           "line": {
            "color": "#2a3f5f"
           }
          },
          "ternary": {
           "aaxis": {
            "gridcolor": "white",
            "linecolor": "white",
            "ticks": ""
           },
           "baxis": {
            "gridcolor": "white",
            "linecolor": "white",
            "ticks": ""
           },
           "bgcolor": "#E5ECF6",
           "caxis": {
            "gridcolor": "white",
            "linecolor": "white",
            "ticks": ""
           }
          },
          "title": {
           "x": 0.05
          },
          "xaxis": {
           "automargin": true,
           "gridcolor": "white",
           "linecolor": "white",
           "ticks": "",
           "title": {
            "standoff": 15
           },
           "zerolinecolor": "white",
           "zerolinewidth": 2
          },
          "yaxis": {
           "automargin": true,
           "gridcolor": "white",
           "linecolor": "white",
           "ticks": "",
           "title": {
            "standoff": 15
           },
           "zerolinecolor": "white",
           "zerolinewidth": 2
          }
         }
        },
        "title": {
         "text": "Histogramm of normalized indices of citations per document"
        },
        "xaxis": {
         "anchor": "y",
         "domain": [
          0,
          1
         ],
         "title": {
          "text": "Normalized indices"
         }
        },
        "yaxis": {
         "anchor": "x",
         "domain": [
          0,
          1
         ],
         "title": {
          "text": "Number of occurrences"
         }
        }
       }
      }
     },
     "metadata": {},
     "output_type": "display_data"
    }
   ],
   "source": [
    "def normalize_nested_indices(x, txt):\n",
    "    length = len(txt)\n",
    "    tmp = find_all(txt, \"@cit@\")\n",
    "    # find all indices of substring str in txt\n",
    "    tmp = [el /length for el in tmp]\n",
    "    return tmp\n",
    "\n",
    "# drop docuements with num_words > 1000\n",
    "df_short = df[df['num_words'] < 1500]\n",
    "df_short = df_short[df_short['num_words'] > 1200]\n",
    "\n",
    "df_short['normalized_indices'] = df_short.apply(lambda x: normalize_nested_indices(x['citation_indices'], x['txt']), axis=1)\n",
    "\n",
    "flattened = flatten(df_short['normalized_indices'].to_list())\n",
    "\n",
    "# draw same plot in plotly\n",
    "fig = px.histogram(x=flattened, nbins=20)\n",
    "fig.update_layout(title_text=\"Histogramm of normalized indices of citations per document\")\n",
    "fig.update_yaxes(title_text=\"Number of occurrences\")\n",
    "fig.update_xaxes(title_text=\"Normalized indices\")\n",
    "fig.show()\n",
    "\n",
    "figures.append(fig)\n"
   ]
  },
  {
   "cell_type": "code",
   "execution_count": 89,
   "id": "fbf00344",
   "metadata": {},
   "outputs": [],
   "source": [
    "with open('preprocessed_stats.html', 'a') as f:\n",
    "    for fig in figures:\n",
    "        f.write(fig.to_html(full_html=False, include_plotlyjs='cdn'))\n"
   ]
  },
  {
   "cell_type": "markdown",
   "id": "f7410e0e",
   "metadata": {},
   "source": []
  }
 ],
 "metadata": {
  "interpreter": {
   "hash": "c6dfed8632b6db8f9b4a4676b59d7e7e3439337bc3a326f58274ceb003d81751"
  },
  "kernelspec": {
   "display_name": "Python 3.9.7 ('base')",
   "language": "python",
   "name": "python3"
  },
  "language_info": {
   "codemirror_mode": {
    "name": "ipython",
    "version": 3
   },
   "file_extension": ".py",
   "mimetype": "text/x-python",
   "name": "python",
   "nbconvert_exporter": "python",
   "pygments_lexer": "ipython3",
   "version": "3.9.7"
  }
 },
 "nbformat": 4,
 "nbformat_minor": 5
}
