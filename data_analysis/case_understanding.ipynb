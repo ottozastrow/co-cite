{
 "cells": [
  {
   "cell_type": "code",
   "execution_count": 2,
   "metadata": {},
   "outputs": [
    {
     "name": "stderr",
     "output_type": "stream",
     "text": [
      "100%|██████████| 10000/10000 [00:29<00:00, 340.58it/s]\n"
     ]
    },
    {
     "data": {
      "text/html": [
       "<div>\n",
       "<style scoped>\n",
       "    .dataframe tbody tr th:only-of-type {\n",
       "        vertical-align: middle;\n",
       "    }\n",
       "\n",
       "    .dataframe tbody tr th {\n",
       "        vertical-align: top;\n",
       "    }\n",
       "\n",
       "    .dataframe thead th {\n",
       "        text-align: right;\n",
       "    }\n",
       "</style>\n",
       "<table border=\"1\" class=\"dataframe\">\n",
       "  <thead>\n",
       "    <tr style=\"text-align: right;\">\n",
       "      <th></th>\n",
       "      <th>bva_id</th>\n",
       "      <th>txt</th>\n",
       "      <th>citation_texts</th>\n",
       "      <th>citation_vocab</th>\n",
       "      <th>citation_indices</th>\n",
       "    </tr>\n",
       "  </thead>\n",
       "  <tbody>\n",
       "    <tr>\n",
       "      <th>0</th>\n",
       "      <td>1424982</td>\n",
       "      <td>citation nr 1424982 decision date 06 03 14 arc...</td>\n",
       "      <td>[38 C.F.R. § 20.900(c), 38 U.S.C.A. § 7107(a)(...</td>\n",
       "      <td>[[38 C.F.R. §, 38 C.F.R. 20.900, 38 C.F.R.], [...</td>\n",
       "      <td>[[84], [85], [45], [49, 441], [45, 55], [123],...</td>\n",
       "    </tr>\n",
       "    <tr>\n",
       "      <th>1</th>\n",
       "      <td>938336</td>\n",
       "      <td>citation nr 0938336 decision date 10 08 09 arc...</td>\n",
       "      <td>[38 U.S.C.A. §§ 1101, 1110, 1111, 1112, 1113, ...</td>\n",
       "      <td>[[38 U.S.C.A. §§, 38 U.S.C.A. 1101, 38 U.S.C.A...</td>\n",
       "      <td>[[44, 45, 155, 46, 47, 48], [49, 50, 51], [22,...</td>\n",
       "    </tr>\n",
       "    <tr>\n",
       "      <th>2</th>\n",
       "      <td>1645294</td>\n",
       "      <td>citation nr 1645294 decision date 12 01 16 arc...</td>\n",
       "      <td>[38 U.S.C.A. § 7104(a), 38 C.F.R. § 20.904, 38...</td>\n",
       "      <td>[[38 U.S.C.A. §, 38 U.S.C.A. 7104, 38 U.S.C.A....</td>\n",
       "      <td>[[77], [726], [422]]</td>\n",
       "    </tr>\n",
       "    <tr>\n",
       "      <th>3</th>\n",
       "      <td>1531665</td>\n",
       "      <td>citation nr 1531665 decision date 07 24 15 arc...</td>\n",
       "      <td>[Kutscherousky v. West, 12 Vet. App. 369 (1999...</td>\n",
       "      <td>[[Kutscherousky_12 Vet. App. 369], [38 U.S.C.A...</td>\n",
       "      <td>[[3], [4, 5], [6], [7]]</td>\n",
       "    </tr>\n",
       "    <tr>\n",
       "      <th>4</th>\n",
       "      <td>332177</td>\n",
       "      <td>citation nr 0332177 decision date 11 19 03 arc...</td>\n",
       "      <td>[38 U.S.C. § 1151, See Fenderson v. West, 12 V...</td>\n",
       "      <td>[[38 U.S.C. §, 38 U.S.C. 1151], [Fenderson_12 ...</td>\n",
       "      <td>[[396], [86], [424], [54], [290], [1191], [1],...</td>\n",
       "    </tr>\n",
       "  </tbody>\n",
       "</table>\n",
       "</div>"
      ],
      "text/plain": [
       "    bva_id                                                txt  \\\n",
       "0  1424982  citation nr 1424982 decision date 06 03 14 arc...   \n",
       "1   938336  citation nr 0938336 decision date 10 08 09 arc...   \n",
       "2  1645294  citation nr 1645294 decision date 12 01 16 arc...   \n",
       "3  1531665  citation nr 1531665 decision date 07 24 15 arc...   \n",
       "4   332177  citation nr 0332177 decision date 11 19 03 arc...   \n",
       "\n",
       "                                      citation_texts  \\\n",
       "0  [38 C.F.R. § 20.900(c), 38 U.S.C.A. § 7107(a)(...   \n",
       "1  [38 U.S.C.A. §§ 1101, 1110, 1111, 1112, 1113, ...   \n",
       "2  [38 U.S.C.A. § 7104(a), 38 C.F.R. § 20.904, 38...   \n",
       "3  [Kutscherousky v. West, 12 Vet. App. 369 (1999...   \n",
       "4  [38 U.S.C. § 1151, See Fenderson v. West, 12 V...   \n",
       "\n",
       "                                      citation_vocab  \\\n",
       "0  [[38 C.F.R. §, 38 C.F.R. 20.900, 38 C.F.R.], [...   \n",
       "1  [[38 U.S.C.A. §§, 38 U.S.C.A. 1101, 38 U.S.C.A...   \n",
       "2  [[38 U.S.C.A. §, 38 U.S.C.A. 7104, 38 U.S.C.A....   \n",
       "3  [[Kutscherousky_12 Vet. App. 369], [38 U.S.C.A...   \n",
       "4  [[38 U.S.C. §, 38 U.S.C. 1151], [Fenderson_12 ...   \n",
       "\n",
       "                                    citation_indices  \n",
       "0  [[84], [85], [45], [49, 441], [45, 55], [123],...  \n",
       "1  [[44, 45, 155, 46, 47, 48], [49, 50, 51], [22,...  \n",
       "2                               [[77], [726], [422]]  \n",
       "3                            [[3], [4, 5], [6], [7]]  \n",
       "4  [[396], [86], [424], [54], [290], [1191], [1],...  "
      ]
     },
     "execution_count": 2,
     "metadata": {},
     "output_type": "execute_result"
    }
   ],
   "source": [
    "import os\n",
    "import json\n",
    "import pandas as pd\n",
    "import tqdm\n",
    "import matplotlib.pyplot as plt\n",
    "\n",
    "# read file\n",
    "data_dir = \"../../external_projects/bva-citation-prediction/data/preprocessed-cached/preprocessed-cached-v4/\"\n",
    "# get list of filepaths in data_dir\n",
    "filepaths = [os.path.join(data_dir, f) for f in os.listdir(data_dir) if f.endswith('.json')][:10000]\n",
    "\n",
    "dfs = [] # an empty list to store the data frames\n",
    "for file in tqdm.tqdm(filepaths):\n",
    "    data = pd.read_json(file, lines=True) # read data frame from json file\n",
    "    dfs.append(data) # append the data frame to the list\n",
    "\n",
    "df = pd.concat(dfs, ignore_index=True)\n",
    "df.head()"
   ]
  },
  {
   "cell_type": "code",
   "execution_count": 3,
   "metadata": {},
   "outputs": [],
   "source": [
    "all_files = [os.path.join(data_dir, f) for f in os.listdir(data_dir) if f.endswith('.json')]"
   ]
  },
  {
   "cell_type": "code",
   "execution_count": 4,
   "metadata": {},
   "outputs": [
    {
     "name": "stdout",
     "output_type": "stream",
     "text": [
      "[' entitlement to service connection for a disability manifested by equilibrium problems , to include as secondary to service connected hearing loss . '\n",
      " ' entitlement to service connection for acute myeloid leukemia , to include as secondary to herbicide exposure . '\n",
      " ' entitlement to a disability rating in excess of 20 percent for mechanical low back pain . '\n",
      " ' entitlement to service connection for a head injury . '\n",
      " ' propriety of an initial 10 percent evaluation for second degree chemical burns , lower extremities , upper extremities , and abdomen , to include entitlement to separate disability evaluations . '\n",
      " ' entitlement to service connection for a disability manifested by hematuria . '\n",
      " ' entitlement to service connection for bilateral hearing loss . '\n",
      " ' entitlement to service connection for chronic obstructive pulmonary disorder ( copd ) . '\n",
      " ' entitlement to service connection for degenerative disc disease ( ddd ) of the lumbar spine ( low back disability ) . '\n",
      " ' entitlement to an initial rating in excess of 10 percent for posttraumatic stress disorder ( ptsd ) prior to may 16 , 2012 . ']\n",
      "True     0.9775\n",
      "False    0.0225\n",
      "Name: has_issue, dtype: float64\n"
     ]
    }
   ],
   "source": [
    "df.loc[0][\"txt\"]\n",
    "\n",
    "def count_issues(x):\n",
    "    \"\"\"\n",
    "    apply this function to a dataframe\n",
    "    function that checks for the substring 'pb@ the issue @pb@' and returns True if found\n",
    "    args:\n",
    "        x: a row in a dataframe\n",
    "    returns:\n",
    "        True if substring is found, False otherwise\n",
    "    \"\"\"\n",
    "    if \"pb@ the issue @pb@\" in x[\"txt\"]:\n",
    "        return True\n",
    "    else:\n",
    "        return False\n",
    "\n",
    "def get_issues(x):\n",
    "    \"\"\" same as count issues, but instead of return True or false it returns the substring after issue until the next @pb@ \"\"\"\n",
    "    if \"pb@ the issue @pb@\" in x[\"txt\"]:\n",
    "        return x[\"txt\"].split(\"pb@ the issue @pb@\")[1].split(\"@pb@\")[0]\n",
    "    else:\n",
    "        return None\n",
    "\n",
    "# apply to df\n",
    "df[\"has_issue\"] = df.apply(count_issues, axis=1)\n",
    "\n",
    "# apply get_issues\n",
    "df[\"issue\"] = df.apply(get_issues, axis=1)\n",
    "# extract issue strings\n",
    "issues = df[df[\"has_issue\"] == True][\"issue\"].values\n",
    "print(issues[:10])\n",
    "\n",
    "# percentage of documents with issue\n",
    "print(df[\"has_issue\"].value_counts() / len(df))"
   ]
  },
  {
   "cell_type": "code",
   "execution_count": 5,
   "metadata": {},
   "outputs": [],
   "source": [
    "import pprint\n",
    "pp = pprint.PrettyPrinter(indent=4)"
   ]
  },
  {
   "cell_type": "code",
   "execution_count": 1,
   "metadata": {},
   "outputs": [],
   "source": [
    " # pp.pprint(df.loc[0][\"txt\"].replace(\"@pb@\", \"\\n\"))"
   ]
  },
  {
   "cell_type": "code",
   "execution_count": null,
   "metadata": {},
   "outputs": [],
   "source": []
  }
 ],
 "metadata": {
  "kernelspec": {
   "display_name": "Python 3.9.7 ('base')",
   "language": "python",
   "name": "python3"
  },
  "language_info": {
   "codemirror_mode": {
    "name": "ipython",
    "version": 3
   },
   "file_extension": ".py",
   "mimetype": "text/x-python",
   "name": "python",
   "nbconvert_exporter": "python",
   "pygments_lexer": "ipython3",
   "version": "3.9.7"
  },
  "orig_nbformat": 4,
  "vscode": {
   "interpreter": {
    "hash": "c6dfed8632b6db8f9b4a4676b59d7e7e3439337bc3a326f58274ceb003d81751"
   }
  }
 },
 "nbformat": 4,
 "nbformat_minor": 2
}
