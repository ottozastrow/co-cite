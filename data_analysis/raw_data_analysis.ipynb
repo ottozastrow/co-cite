{
 "cells": [
  {
   "cell_type": "code",
   "execution_count": 1,
   "metadata": {},
   "outputs": [
    {
     "data": {
      "text/html": [
       "<div>\n",
       "<style scoped>\n",
       "    .dataframe tbody tr th:only-of-type {\n",
       "        vertical-align: middle;\n",
       "    }\n",
       "\n",
       "    .dataframe tbody tr th {\n",
       "        vertical-align: top;\n",
       "    }\n",
       "\n",
       "    .dataframe thead th {\n",
       "        text-align: right;\n",
       "    }\n",
       "</style>\n",
       "<table border=\"1\" class=\"dataframe\">\n",
       "  <thead>\n",
       "    <tr style=\"text-align: right;\">\n",
       "      <th></th>\n",
       "      <th>Unnamed: 0</th>\n",
       "      <th>case_type</th>\n",
       "      <th>dc_identifier</th>\n",
       "      <th>opinion_type</th>\n",
       "      <th>opinion_id</th>\n",
       "      <th>opinion</th>\n",
       "      <th>opinion_tokenized</th>\n",
       "      <th>word_count</th>\n",
       "      <th>token_frequencies</th>\n",
       "      <th>citations_types</th>\n",
       "      <th>...</th>\n",
       "      <th>share_punct</th>\n",
       "      <th>share_sconj</th>\n",
       "      <th>share_sym</th>\n",
       "      <th>share_verb</th>\n",
       "      <th>share_x</th>\n",
       "      <th>share_eol</th>\n",
       "      <th>share_space</th>\n",
       "      <th>word_entropy</th>\n",
       "      <th>text_immigration</th>\n",
       "      <th>text_criminal</th>\n",
       "    </tr>\n",
       "  </thead>\n",
       "  <tbody>\n",
       "    <tr>\n",
       "      <th>0</th>\n",
       "      <td>0</td>\n",
       "      <td>supreme</td>\n",
       "      <td>3S4X-FHP0-003B-H426-00000-00</td>\n",
       "      <td>majority</td>\n",
       "      <td>1613658</td>\n",
       "      <td>MR. JUSTICE BROWN delivered the opinion of the...</td>\n",
       "      <td>{mr,justic,brown,deliv,opinion,court,case,turn...</td>\n",
       "      <td>1634</td>\n",
       "      <td>{\"1\": 1, \"6\": 1, \"b\": 1, \"v\": 2, \"11\": 1, \"14\"...</td>\n",
       "      <td>NaN</td>\n",
       "      <td>...</td>\n",
       "      <td>NaN</td>\n",
       "      <td>NaN</td>\n",
       "      <td>NaN</td>\n",
       "      <td>NaN</td>\n",
       "      <td>NaN</td>\n",
       "      <td>NaN</td>\n",
       "      <td>NaN</td>\n",
       "      <td>NaN</td>\n",
       "      <td>f</td>\n",
       "      <td>f</td>\n",
       "    </tr>\n",
       "    <tr>\n",
       "      <th>1</th>\n",
       "      <td>1</td>\n",
       "      <td>supreme</td>\n",
       "      <td>3S4X-G070-003B-S065-00000-00</td>\n",
       "      <td>concurring</td>\n",
       "      <td>1642258</td>\n",
       "      <td>MR. JUSTICE DOUGLAS, concurring.\\n\\nWhile I jo...</td>\n",
       "      <td>{mr,justic,dougla,concur,join,opinion,court,re...</td>\n",
       "      <td>205</td>\n",
       "      <td>{\"v\": 1, \"mr\": 5, \"385\": 1, \"440\": 1, \"447\": 1...</td>\n",
       "      <td>{case}</td>\n",
       "      <td>...</td>\n",
       "      <td>NaN</td>\n",
       "      <td>NaN</td>\n",
       "      <td>NaN</td>\n",
       "      <td>NaN</td>\n",
       "      <td>NaN</td>\n",
       "      <td>NaN</td>\n",
       "      <td>NaN</td>\n",
       "      <td>NaN</td>\n",
       "      <td>f</td>\n",
       "      <td>f</td>\n",
       "    </tr>\n",
       "    <tr>\n",
       "      <th>2</th>\n",
       "      <td>2</td>\n",
       "      <td>supreme</td>\n",
       "      <td>3VYS-J980-004B-Y00W-00000-00</td>\n",
       "      <td>majority</td>\n",
       "      <td>13640084</td>\n",
       "      <td>ON MOTIONS FOR LEAVE TO PROCEED IN FORMA PAUPE...</td>\n",
       "      <td>{motion,leav,proceed,forma,pauperi,per,curiam,...</td>\n",
       "      <td>384</td>\n",
       "      <td>{\"1\": 1, \"l\": 4, \"n\": 1, \"v\": 5, \"14\": 1, \"29\"...</td>\n",
       "      <td>{courtRule,courtRule,courtRule,courtRule,court...</td>\n",
       "      <td>...</td>\n",
       "      <td>NaN</td>\n",
       "      <td>NaN</td>\n",
       "      <td>NaN</td>\n",
       "      <td>NaN</td>\n",
       "      <td>NaN</td>\n",
       "      <td>NaN</td>\n",
       "      <td>NaN</td>\n",
       "      <td>NaN</td>\n",
       "      <td>f</td>\n",
       "      <td>f</td>\n",
       "    </tr>\n",
       "    <tr>\n",
       "      <th>3</th>\n",
       "      <td>3</td>\n",
       "      <td>supreme</td>\n",
       "      <td>3S4X-9950-003B-S0CX-00000-00</td>\n",
       "      <td>majority</td>\n",
       "      <td>8199066</td>\n",
       "      <td>Motion of the State of California to participa...</td>\n",
       "      <td>{motion,state,california,particip,oral,argumen...</td>\n",
       "      <td>104</td>\n",
       "      <td>{\"15\": 3, \"inc\": 1, \"also\": 1, \"deni\": 2, \"edu...</td>\n",
       "      <td>NaN</td>\n",
       "      <td>...</td>\n",
       "      <td>NaN</td>\n",
       "      <td>NaN</td>\n",
       "      <td>NaN</td>\n",
       "      <td>NaN</td>\n",
       "      <td>NaN</td>\n",
       "      <td>NaN</td>\n",
       "      <td>NaN</td>\n",
       "      <td>NaN</td>\n",
       "      <td>f</td>\n",
       "      <td>f</td>\n",
       "    </tr>\n",
       "    <tr>\n",
       "      <th>4</th>\n",
       "      <td>4</td>\n",
       "      <td>supreme</td>\n",
       "      <td>3S4X-FBH0-003B-S2HD-00000-00</td>\n",
       "      <td>dissenting</td>\n",
       "      <td>65968</td>\n",
       "      <td>MR. JUSTICE HARLAN, concurring in part and dis...</td>\n",
       "      <td>{mr,justic,harlan,concur,part,dissent,part,cou...</td>\n",
       "      <td>4902</td>\n",
       "      <td>{\"1\": 5, \"2\": 4, \"3\": 3, \"4\": 25, \"5\": 48, \"6\"...</td>\n",
       "      <td>{statute,case,constitution,constitution,consti...</td>\n",
       "      <td>...</td>\n",
       "      <td>NaN</td>\n",
       "      <td>NaN</td>\n",
       "      <td>NaN</td>\n",
       "      <td>NaN</td>\n",
       "      <td>NaN</td>\n",
       "      <td>NaN</td>\n",
       "      <td>NaN</td>\n",
       "      <td>NaN</td>\n",
       "      <td>f</td>\n",
       "      <td>f</td>\n",
       "    </tr>\n",
       "  </tbody>\n",
       "</table>\n",
       "<p>5 rows × 61 columns</p>\n",
       "</div>"
      ],
      "text/plain": [
       "   Unnamed: 0 case_type                 dc_identifier opinion_type  \\\n",
       "0           0   supreme  3S4X-FHP0-003B-H426-00000-00     majority   \n",
       "1           1   supreme  3S4X-G070-003B-S065-00000-00   concurring   \n",
       "2           2   supreme  3VYS-J980-004B-Y00W-00000-00     majority   \n",
       "3           3   supreme  3S4X-9950-003B-S0CX-00000-00     majority   \n",
       "4           4   supreme  3S4X-FBH0-003B-S2HD-00000-00   dissenting   \n",
       "\n",
       "   opinion_id                                            opinion  \\\n",
       "0     1613658  MR. JUSTICE BROWN delivered the opinion of the...   \n",
       "1     1642258  MR. JUSTICE DOUGLAS, concurring.\\n\\nWhile I jo...   \n",
       "2    13640084  ON MOTIONS FOR LEAVE TO PROCEED IN FORMA PAUPE...   \n",
       "3     8199066  Motion of the State of California to participa...   \n",
       "4       65968  MR. JUSTICE HARLAN, concurring in part and dis...   \n",
       "\n",
       "                                   opinion_tokenized  word_count  \\\n",
       "0  {mr,justic,brown,deliv,opinion,court,case,turn...        1634   \n",
       "1  {mr,justic,dougla,concur,join,opinion,court,re...         205   \n",
       "2  {motion,leav,proceed,forma,pauperi,per,curiam,...         384   \n",
       "3  {motion,state,california,particip,oral,argumen...         104   \n",
       "4  {mr,justic,harlan,concur,part,dissent,part,cou...        4902   \n",
       "\n",
       "                                   token_frequencies  \\\n",
       "0  {\"1\": 1, \"6\": 1, \"b\": 1, \"v\": 2, \"11\": 1, \"14\"...   \n",
       "1  {\"v\": 1, \"mr\": 5, \"385\": 1, \"440\": 1, \"447\": 1...   \n",
       "2  {\"1\": 1, \"l\": 4, \"n\": 1, \"v\": 5, \"14\": 1, \"29\"...   \n",
       "3  {\"15\": 3, \"inc\": 1, \"also\": 1, \"deni\": 2, \"edu...   \n",
       "4  {\"1\": 5, \"2\": 4, \"3\": 3, \"4\": 25, \"5\": 48, \"6\"...   \n",
       "\n",
       "                                     citations_types  ... share_punct  \\\n",
       "0                                                NaN  ...         NaN   \n",
       "1                                             {case}  ...         NaN   \n",
       "2  {courtRule,courtRule,courtRule,courtRule,court...  ...         NaN   \n",
       "3                                                NaN  ...         NaN   \n",
       "4  {statute,case,constitution,constitution,consti...  ...         NaN   \n",
       "\n",
       "  share_sconj share_sym share_verb share_x share_eol share_space word_entropy  \\\n",
       "0         NaN       NaN        NaN     NaN       NaN         NaN          NaN   \n",
       "1         NaN       NaN        NaN     NaN       NaN         NaN          NaN   \n",
       "2         NaN       NaN        NaN     NaN       NaN         NaN          NaN   \n",
       "3         NaN       NaN        NaN     NaN       NaN         NaN          NaN   \n",
       "4         NaN       NaN        NaN     NaN       NaN         NaN          NaN   \n",
       "\n",
       "  text_immigration text_criminal  \n",
       "0                f             f  \n",
       "1                f             f  \n",
       "2                f             f  \n",
       "3                f             f  \n",
       "4                f             f  \n",
       "\n",
       "[5 rows x 61 columns]"
      ]
     },
     "execution_count": 1,
     "metadata": {},
     "output_type": "execute_result"
    }
   ],
   "source": [
    "import os\n",
    "import pandas as pd\n",
    "import matplotlib.pyplot as plt\n",
    "filename = \"../../external_projects/data_raw_bva/supreme_court_opinions/20220419_lexis_opinions_filtered_op_length_mini.csv\"\n",
    "\n",
    "# read csv into dataframe\n",
    "df = pd.read_csv(filename)\n",
    "df.head()"
   ]
  },
  {
   "cell_type": "code",
   "execution_count": 2,
   "metadata": {},
   "outputs": [],
   "source": [
    "# convert citations from string to list of strings\n",
    "df['citations_raw'] = df['citations_raw'].apply(lambda d: d[2:-2].split(\",\") if isinstance(d, str) else [])\n",
    "df['num_citations'] = df['citations_raw'].apply(lambda x: len(x))\n"
   ]
  },
  {
   "cell_type": "markdown",
   "metadata": {},
   "source": [
    "## dataset statistics"
   ]
  },
  {
   "cell_type": "code",
   "execution_count": 5,
   "metadata": {},
   "outputs": [
    {
     "name": "stdout",
     "output_type": "stream",
     "text": [
      "hello\n"
     ]
    }
   ],
   "source": []
  },
  {
   "cell_type": "code",
   "execution_count": 4,
   "metadata": {},
   "outputs": [
    {
     "data": {
      "image/png": "[encoded data removed]",
      "text/plain": [
       "<Figure size 432x288 with 1 Axes>"
      ]
     },
     "metadata": {
      "needs_background": "light"
     },
     "output_type": "display_data"
    }
   ],
   "source": [
    "# plot histogramm\n",
    "df['num_citations'].hist(bins=20)\n",
    "plt.title('Histogramm of number of citations per document')\n",
    "# log yscale\n",
    "plt.yscale('log')\n",
    "plt.ylabel('Number of occurrences')\n",
    "plt.xlabel('Number of citations')\n",
    "plt.show()"
   ]
  },
  {
   "cell_type": "code",
   "execution_count": 5,
   "metadata": {},
   "outputs": [
    {
     "name": "stdout",
     "output_type": "stream",
     "text": [
      "56.10530303030303\n",
      "2369888\n",
      "42240\n"
     ]
    }
   ],
   "source": [
    "# get mean\n",
    "print(df['num_citations'].mean())\n",
    "# got total number of citations:\n",
    "print(df['num_citations'].sum())\n",
    "# num documents\n",
    "print(len(df))"
   ]
  },
  {
   "cell_type": "markdown",
   "metadata": {},
   "source": [
    "### filtered vs unfiltered\n",
    "the BVA authors removed citations with less than 20 occurances\n",
    "in the data available to us the number of documents was reduced from 324000 to 42240\n",
    "\n",
    "this changes the avg num of citations per document from 56.1 to 21.6\n",
    "\n",
    "the total number of citations changes from 2369888 to 7000038\n",
    "\n"
   ]
  },
  {
   "cell_type": "code",
   "execution_count": 6,
   "metadata": {},
   "outputs": [
    {
     "name": "stdout",
     "output_type": "stream",
     "text": [
      "Justice Stevens, with whom Justice Ginsburg, Justice Breyer, and Justice Sotomayor join, concurring in part and dissenting in part. \n",
      "\n",
      "The real issue in this case concerns how, not if, the appellant may finance its electioneering.  Citizens United is a wealthy nonprofit corporation that runs a politi\n"
     ]
    }
   ],
   "source": [
    "# find row with the most citations\n",
    "doc = df.iloc[df['num_citations'].idxmax()]\n",
    "# yes it actually contains >3000 citations\n",
    "print(doc['opinion'][:300])\n",
    "\n"
   ]
  },
  {
   "cell_type": "code",
   "execution_count": 8,
   "metadata": {},
   "outputs": [],
   "source": [
    "from collections import Counter\n",
    "# count duplicates in df['longest_citations']\n",
    "all_citations = df['citations_raw'].to_list()\n",
    "# flatten all_citations\n",
    "def flatten(t):\n",
    "    return [item for sublist in t for item in sublist]\n",
    "\n",
    "flattened = flatten(all_citations)\n",
    "# remove trailing spaces\n",
    "flattened = [x.replace(\".\",\"\").lower().strip().replace('\"',\"\").replace(\"'\", \"\") for x in flattened]\n",
    "counted = Counter(flattened)"
   ]
  },
  {
   "cell_type": "code",
   "execution_count": 11,
   "metadata": {},
   "outputs": [
    {
     "data": {
      "image/png": "[encoded data removed]",
      "text/plain": [
       "<Figure size 432x288 with 2 Axes>"
      ]
     },
     "metadata": {
      "needs_background": "light"
     },
     "output_type": "display_data"
    }
   ],
   "source": [
    "# select the 13 most common items\n",
    "most_common = counted.most_common(20)\n",
    "# convert list of tuples to two lists\n",
    "most_common_citations, most_common_counts = zip(*most_common)\n",
    "# normalize most_common_counts by total number of citations\n",
    "# make the x axis labels diagonal\n",
    "plt.xticks(rotation=90)\n",
    "\n",
    "plt.scatter(most_common_citations, most_common_counts)\n",
    "# show second y axis\n",
    "plt.ylabel(\"occurences\")\n",
    "\n",
    "# show second y axis for normalized values\n",
    "plt.twinx()\n",
    "most_common_counts_normalized = [(i/len(flattened)) for i in most_common_counts]\n",
    "plt.scatter(most_common_citations, most_common_counts_normalized)\n",
    "plt.ylabel(\"percentage of all citations\")\n",
    "\n",
    "plt.title('most common citations')\n",
    "plt.show()"
   ]
  },
  {
   "cell_type": "code",
   "execution_count": 10,
   "metadata": {},
   "outputs": [
    {
     "data": {
      "text/plain": [
       "('id',\n",
       " 'supra',\n",
       " 'first amendment',\n",
       " 'inc',\n",
       " 'ante',\n",
       " 'fourteenth amendment',\n",
       " 'fourth amendment',\n",
       " 'fifth amendment',\n",
       " '§ 1983',\n",
       " 'commerce clause',\n",
       " 'united states',\n",
       " 'at ___',\n",
       " 'supra ',\n",
       " 'sixth amendment',\n",
       " 'due process clause',\n",
       " 'post',\n",
       " 'eighth amendment',\n",
       " 'equal protection clause',\n",
       " 'bill of rights',\n",
       " 'eleventh amendment')"
      ]
     },
     "execution_count": 10,
     "metadata": {},
     "output_type": "execute_result"
    }
   ],
   "source": [
    "most_common_citations"
   ]
  },
  {
   "cell_type": "code",
   "execution_count": 16,
   "metadata": {},
   "outputs": [
    {
     "name": "stdout",
     "output_type": "stream",
     "text": [
      "citation, occurences\n",
      "('5 u s c 3131', 1)\n",
      "('31 u s c 1322', 1)\n",
      "('16 u s c 1432', 1)\n",
      "('312  (1936)', 1)\n",
      "('spraigue   v  thompson', 1)\n",
      "('95  (1886)', 1)\n",
      "('484-485  (1922)', 1)\n",
      "('frost  v  corporation commn of oklahoma', 1)\n",
      "('525  (1929)', 1)\n",
      "('174  (1870)', 1)\n"
     ]
    }
   ],
   "source": [
    "# show some least common occurances\n",
    "least_common = counted.most_common()[-10:]\n",
    "print(\"citation, occurences\")\n",
    "for el in least_common:\n",
    "    print(el)"
   ]
  },
  {
   "cell_type": "code",
   "execution_count": null,
   "metadata": {},
   "outputs": [],
   "source": []
  }
 ],
 "metadata": {
  "interpreter": {
   "hash": "c6dfed8632b6db8f9b4a4676b59d7e7e3439337bc3a326f58274ceb003d81751"
  },
  "kernelspec": {
   "display_name": "Python 3.9.7 ('base')",
   "language": "python",
   "name": "python3"
  },
  "language_info": {
   "codemirror_mode": {
    "name": "ipython",
    "version": 3
   },
   "file_extension": ".py",
   "mimetype": "text/x-python",
   "name": "python",
   "nbconvert_exporter": "python",
   "pygments_lexer": "ipython3",
   "version": "3.9.7"
  },
  "orig_nbformat": 4
 },
 "nbformat": 4,
 "nbformat_minor": 2
}
